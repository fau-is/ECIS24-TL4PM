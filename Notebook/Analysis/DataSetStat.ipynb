{
 "cells": [
  {
   "cell_type": "markdown",
   "id": "99c91fe2-5a38-4010-8763-bd350563e000",
   "metadata": {},
   "source": [
    "# Data Set Statistic"
   ]
  },
  {
   "cell_type": "code",
   "execution_count": 2,
   "id": "51a906d1-e96f-429b-a9d4-b4e3932835c4",
   "metadata": {},
   "outputs": [],
   "source": [
    "import pandas as pd\n",
    "import numpy as np\n",
    "import os\n",
    "import sys\n",
    "module_path = os.path.abspath(os.path.join('../..'))\n",
    "if module_path not in sys.path:\n",
    "    sys.path.append(module_path)\n",
    "import pickle as pickle"
   ]
  },
  {
   "cell_type": "code",
   "execution_count": 24,
   "id": "b4c3c143-ee5b-4062-ba15-1f09e89170ef",
   "metadata": {},
   "outputs": [],
   "source": [
    "source_trace = pd.read_pickle(\"../../Data/Trace/source_trace_c_l.pkl\")\n",
    "target_trace = pd.read_pickle(\"../../Data/Trace/target_trace_c_l.pkl\")"
   ]
  },
  {
   "cell_type": "code",
   "execution_count": 6,
   "id": "7e3c3ebf-6b4b-45af-93c7-17408b0883f9",
   "metadata": {},
   "outputs": [
    {
     "data": {
      "text/plain": [
       "2313"
      ]
     },
     "execution_count": 6,
     "metadata": {},
     "output_type": "execute_result"
    }
   ],
   "source": [
    "source_trace[\"Event_Name\"].apply(np.array2string).apply(hash).nunique()"
   ]
  },
  {
   "cell_type": "code",
   "execution_count": 7,
   "id": "72b5c195-842f-477a-971a-5af672c87c8f",
   "metadata": {},
   "outputs": [
    {
     "data": {
      "text/plain": [
       "15478"
      ]
     },
     "execution_count": 7,
     "metadata": {},
     "output_type": "execute_result"
    }
   ],
   "source": [
    "target_trace[\"Event_Name\"].apply(np.array2string).apply(hash).nunique()"
   ]
  },
  {
   "cell_type": "code",
   "execution_count": 8,
   "id": "c318a4a3-1bb5-4f7b-9f9f-9482017045df",
   "metadata": {},
   "outputs": [
    {
     "data": {
      "text/plain": [
       "28607"
      ]
     },
     "execution_count": 8,
     "metadata": {},
     "output_type": "execute_result"
    }
   ],
   "source": [
    "source_trace.shape[0]"
   ]
  },
  {
   "cell_type": "code",
   "execution_count": 9,
   "id": "399f6a20-c720-4157-957f-16853e4b18ac",
   "metadata": {},
   "outputs": [
    {
     "data": {
      "text/plain": [
       "56452"
      ]
     },
     "execution_count": 9,
     "metadata": {},
     "output_type": "execute_result"
    }
   ],
   "source": [
    "target_trace.shape[0]"
   ]
  },
  {
   "cell_type": "code",
   "execution_count": 12,
   "id": "721d5e31-af22-45ba-8790-af03d10b8096",
   "metadata": {},
   "outputs": [
    {
     "data": {
      "text/plain": [
       "233730"
      ]
     },
     "execution_count": 12,
     "metadata": {},
     "output_type": "execute_result"
    }
   ],
   "source": [
    "source_trace[\"Event_Name\"].explode(\"Event_Name\").shape[0]"
   ]
  },
  {
   "cell_type": "code",
   "execution_count": 16,
   "id": "ce14bd81-32fc-42fe-8cf2-4cf2344fae74",
   "metadata": {},
   "outputs": [
    {
     "data": {
      "text/plain": [
       "1141288"
      ]
     },
     "execution_count": 16,
     "metadata": {},
     "output_type": "execute_result"
    }
   ],
   "source": [
    "target_trace[\"Event_Name\"].explode(\"Event_Name\").shape[0]"
   ]
  },
  {
   "cell_type": "code",
   "execution_count": 14,
   "id": "78fbe79c-d805-4658-b87e-385edfd3dead",
   "metadata": {},
   "outputs": [
    {
     "data": {
      "text/plain": [
       "8"
      ]
     },
     "execution_count": 14,
     "metadata": {},
     "output_type": "execute_result"
    }
   ],
   "source": [
    "source_trace[\"Event_Name\"].explode(\"Event_Name\").nunique()"
   ]
  },
  {
   "cell_type": "code",
   "execution_count": 15,
   "id": "f2120289-be20-430b-83e2-f1cb3ab98459",
   "metadata": {},
   "outputs": [
    {
     "data": {
      "text/plain": [
       "40"
      ]
     },
     "execution_count": 15,
     "metadata": {},
     "output_type": "execute_result"
    }
   ],
   "source": [
    "target_trace[\"Event_Name\"].explode(\"Event_Name\").nunique()"
   ]
  },
  {
   "cell_type": "code",
   "execution_count": 19,
   "id": "fc5fc959-f5bd-444d-a242-e1099c130d2b",
   "metadata": {},
   "outputs": [
    {
     "name": "stdout",
     "output_type": "stream",
     "text": [
      "2\n",
      "8\n",
      "3.185863599818226\n"
     ]
    }
   ],
   "source": [
    "source_events_in_case = source_trace[\"Event_Name\"].apply(lambda x: np.unique(x).shape[0])\n",
    "print(source_events_in_case.min())\n",
    "print(source_events_in_case.max())\n",
    "print(source_events_in_case.mean())"
   ]
  },
  {
   "cell_type": "code",
   "execution_count": 20,
   "id": "f862d20a-4881-4e7e-9652-b794b94639ef",
   "metadata": {},
   "outputs": [
    {
     "name": "stdout",
     "output_type": "stream",
     "text": [
      "1\n",
      "18\n",
      "5.505509105080423\n"
     ]
    }
   ],
   "source": [
    "target_events_in_case = target_trace[\"Event_Name\"].apply(lambda x: np.unique(x).shape[0])\n",
    "print(target_events_in_case.min())\n",
    "print(target_events_in_case.max())\n",
    "print(target_events_in_case.mean())"
   ]
  },
  {
   "cell_type": "code",
   "execution_count": null,
   "id": "571ff49b-cd5e-4f10-b5c4-9e501698bec2",
   "metadata": {},
   "outputs": [],
   "source": []
  },
  {
   "cell_type": "code",
   "execution_count": 26,
   "id": "5f6cf81d-5f88-44ff-bb9d-6242b2486d8f",
   "metadata": {},
   "outputs": [],
   "source": []
  },
  {
   "cell_type": "code",
   "execution_count": 23,
   "id": "b302912b-b0c7-4b04-8cc2-e99596ada651",
   "metadata": {},
   "outputs": [],
   "source": [
    "target_trace_all = pd.read_pickle(\"../../Data/Trace/target_trace.pkl\")"
   ]
  },
  {
   "cell_type": "code",
   "execution_count": 27,
   "id": "7d14af3f-d314-43eb-a37e-d8c143223c06",
   "metadata": {},
   "outputs": [],
   "source": [
    "cleaned_target_act = target_trace[\"Event_Name\"].explode(\"Event_Name\").unique()\n",
    "all_target_act = target_trace_all[\"Event_Name\"].explode(\"Event_Name\").unique()"
   ]
  },
  {
   "cell_type": "code",
   "execution_count": 29,
   "id": "67a181b5-205e-477f-82a3-dab210108a50",
   "metadata": {},
   "outputs": [
    {
     "data": {
      "text/plain": [
       "array(['Release Purchase Requisition', 'SRM: Transfer Failed (E.Sys.)'],\n",
       "      dtype=object)"
      ]
     },
     "execution_count": 29,
     "metadata": {},
     "output_type": "execute_result"
    }
   ],
   "source": [
    "np.setdiff1d(all_target_act, cleaned_target_act)"
   ]
  },
  {
   "cell_type": "code",
   "execution_count": 43,
   "id": "ce164c01-e23e-49cb-8d01-2cfac4631a57",
   "metadata": {},
   "outputs": [
    {
     "data": {
      "text/html": [
       "<div>\n",
       "<style scoped>\n",
       "    .dataframe tbody tr th:only-of-type {\n",
       "        vertical-align: middle;\n",
       "    }\n",
       "\n",
       "    .dataframe tbody tr th {\n",
       "        vertical-align: top;\n",
       "    }\n",
       "\n",
       "    .dataframe thead th {\n",
       "        text-align: right;\n",
       "    }\n",
       "</style>\n",
       "<table border=\"1\" class=\"dataframe\">\n",
       "  <thead>\n",
       "    <tr style=\"text-align: right;\">\n",
       "      <th></th>\n",
       "      <th>index</th>\n",
       "      <th>Occurence</th>\n",
       "    </tr>\n",
       "  </thead>\n",
       "  <tbody>\n",
       "    <tr>\n",
       "      <th>0</th>\n",
       "      <td>Record Goods Receipt</td>\n",
       "      <td>224774</td>\n",
       "    </tr>\n",
       "    <tr>\n",
       "      <th>1</th>\n",
       "      <td>Create Purchase Order Item</td>\n",
       "      <td>178446</td>\n",
       "    </tr>\n",
       "    <tr>\n",
       "      <th>2</th>\n",
       "      <td>Record Invoice Receipt</td>\n",
       "      <td>162283</td>\n",
       "    </tr>\n",
       "    <tr>\n",
       "      <th>3</th>\n",
       "      <td>Vendor creates invoice</td>\n",
       "      <td>159386</td>\n",
       "    </tr>\n",
       "    <tr>\n",
       "      <th>4</th>\n",
       "      <td>Clear Invoice</td>\n",
       "      <td>156248</td>\n",
       "    </tr>\n",
       "    <tr>\n",
       "      <th>5</th>\n",
       "      <td>Record Service Entry Sheet</td>\n",
       "      <td>130630</td>\n",
       "    </tr>\n",
       "    <tr>\n",
       "      <th>6</th>\n",
       "      <td>Remove Payment Block</td>\n",
       "      <td>40069</td>\n",
       "    </tr>\n",
       "    <tr>\n",
       "      <th>7</th>\n",
       "      <td>Receive Order Confirmation</td>\n",
       "      <td>22692</td>\n",
       "    </tr>\n",
       "    <tr>\n",
       "      <th>8</th>\n",
       "      <td>Create Purchase Requisition Item</td>\n",
       "      <td>16563</td>\n",
       "    </tr>\n",
       "    <tr>\n",
       "      <th>9</th>\n",
       "      <td>Change Quantity</td>\n",
       "      <td>14248</td>\n",
       "    </tr>\n",
       "    <tr>\n",
       "      <th>10</th>\n",
       "      <td>Change Price</td>\n",
       "      <td>7882</td>\n",
       "    </tr>\n",
       "    <tr>\n",
       "      <th>11</th>\n",
       "      <td>Delete Purchase Order Item</td>\n",
       "      <td>6584</td>\n",
       "    </tr>\n",
       "    <tr>\n",
       "      <th>12</th>\n",
       "      <td>Vendor creates debit memo</td>\n",
       "      <td>3576</td>\n",
       "    </tr>\n",
       "    <tr>\n",
       "      <th>13</th>\n",
       "      <td>Cancel Invoice Receipt</td>\n",
       "      <td>3343</td>\n",
       "    </tr>\n",
       "    <tr>\n",
       "      <th>14</th>\n",
       "      <td>Change Delivery Indicator</td>\n",
       "      <td>2198</td>\n",
       "    </tr>\n",
       "    <tr>\n",
       "      <th>15</th>\n",
       "      <td>Change Approval for Purchase Order</td>\n",
       "      <td>1905</td>\n",
       "    </tr>\n",
       "    <tr>\n",
       "      <th>16</th>\n",
       "      <td>Cancel Goods Receipt</td>\n",
       "      <td>1556</td>\n",
       "    </tr>\n",
       "    <tr>\n",
       "      <th>17</th>\n",
       "      <td>SRM: In Transfer to Execution Syst.</td>\n",
       "      <td>1040</td>\n",
       "    </tr>\n",
       "    <tr>\n",
       "      <th>18</th>\n",
       "      <td>SRM: Document Completed</td>\n",
       "      <td>1008</td>\n",
       "    </tr>\n",
       "    <tr>\n",
       "      <th>19</th>\n",
       "      <td>SRM: Ordered</td>\n",
       "      <td>1008</td>\n",
       "    </tr>\n",
       "    <tr>\n",
       "      <th>20</th>\n",
       "      <td>SRM: Awaiting Approval</td>\n",
       "      <td>1008</td>\n",
       "    </tr>\n",
       "    <tr>\n",
       "      <th>21</th>\n",
       "      <td>SRM: Complete</td>\n",
       "      <td>1008</td>\n",
       "    </tr>\n",
       "    <tr>\n",
       "      <th>22</th>\n",
       "      <td>SRM: Created</td>\n",
       "      <td>1008</td>\n",
       "    </tr>\n",
       "    <tr>\n",
       "      <th>23</th>\n",
       "      <td>SRM: Change was Transmitted</td>\n",
       "      <td>932</td>\n",
       "    </tr>\n",
       "    <tr>\n",
       "      <th>24</th>\n",
       "      <td>Reactivate Purchase Order Item</td>\n",
       "      <td>323</td>\n",
       "    </tr>\n",
       "    <tr>\n",
       "      <th>25</th>\n",
       "      <td>Cancel Subsequent Invoice</td>\n",
       "      <td>316</td>\n",
       "    </tr>\n",
       "    <tr>\n",
       "      <th>26</th>\n",
       "      <td>Change Storage Location</td>\n",
       "      <td>260</td>\n",
       "    </tr>\n",
       "    <tr>\n",
       "      <th>27</th>\n",
       "      <td>Release Purchase Order</td>\n",
       "      <td>249</td>\n",
       "    </tr>\n",
       "    <tr>\n",
       "      <th>28</th>\n",
       "      <td>Update Order Confirmation</td>\n",
       "      <td>203</td>\n",
       "    </tr>\n",
       "    <tr>\n",
       "      <th>29</th>\n",
       "      <td>Block Purchase Order Item</td>\n",
       "      <td>198</td>\n",
       "    </tr>\n",
       "    <tr>\n",
       "      <th>30</th>\n",
       "      <td>Record Subsequent Invoice</td>\n",
       "      <td>105</td>\n",
       "    </tr>\n",
       "    <tr>\n",
       "      <th>31</th>\n",
       "      <td>Set Payment Block</td>\n",
       "      <td>96</td>\n",
       "    </tr>\n",
       "    <tr>\n",
       "      <th>32</th>\n",
       "      <td>SRM: Deleted</td>\n",
       "      <td>76</td>\n",
       "    </tr>\n",
       "    <tr>\n",
       "      <th>33</th>\n",
       "      <td>Change Currency</td>\n",
       "      <td>32</td>\n",
       "    </tr>\n",
       "    <tr>\n",
       "      <th>34</th>\n",
       "      <td>Change Final Invoice Indicator</td>\n",
       "      <td>8</td>\n",
       "    </tr>\n",
       "    <tr>\n",
       "      <th>35</th>\n",
       "      <td>Change payment term</td>\n",
       "      <td>7</td>\n",
       "    </tr>\n",
       "    <tr>\n",
       "      <th>36</th>\n",
       "      <td>SRM: Held</td>\n",
       "      <td>6</td>\n",
       "    </tr>\n",
       "    <tr>\n",
       "      <th>37</th>\n",
       "      <td>SRM: Incomplete</td>\n",
       "      <td>6</td>\n",
       "    </tr>\n",
       "    <tr>\n",
       "      <th>38</th>\n",
       "      <td>SRM: Transaction Completed</td>\n",
       "      <td>6</td>\n",
       "    </tr>\n",
       "    <tr>\n",
       "      <th>39</th>\n",
       "      <td>Change Rejection Indicator</td>\n",
       "      <td>2</td>\n",
       "    </tr>\n",
       "  </tbody>\n",
       "</table>\n",
       "</div>"
      ],
      "text/plain": [
       "                                  index  Occurence\n",
       "0                  Record Goods Receipt     224774\n",
       "1            Create Purchase Order Item     178446\n",
       "2                Record Invoice Receipt     162283\n",
       "3                Vendor creates invoice     159386\n",
       "4                         Clear Invoice     156248\n",
       "5            Record Service Entry Sheet     130630\n",
       "6                  Remove Payment Block      40069\n",
       "7            Receive Order Confirmation      22692\n",
       "8      Create Purchase Requisition Item      16563\n",
       "9                       Change Quantity      14248\n",
       "10                         Change Price       7882\n",
       "11           Delete Purchase Order Item       6584\n",
       "12            Vendor creates debit memo       3576\n",
       "13               Cancel Invoice Receipt       3343\n",
       "14            Change Delivery Indicator       2198\n",
       "15   Change Approval for Purchase Order       1905\n",
       "16                 Cancel Goods Receipt       1556\n",
       "17  SRM: In Transfer to Execution Syst.       1040\n",
       "18              SRM: Document Completed       1008\n",
       "19                         SRM: Ordered       1008\n",
       "20               SRM: Awaiting Approval       1008\n",
       "21                        SRM: Complete       1008\n",
       "22                         SRM: Created       1008\n",
       "23          SRM: Change was Transmitted        932\n",
       "24       Reactivate Purchase Order Item        323\n",
       "25            Cancel Subsequent Invoice        316\n",
       "26              Change Storage Location        260\n",
       "27               Release Purchase Order        249\n",
       "28            Update Order Confirmation        203\n",
       "29            Block Purchase Order Item        198\n",
       "30            Record Subsequent Invoice        105\n",
       "31                    Set Payment Block         96\n",
       "32                         SRM: Deleted         76\n",
       "33                      Change Currency         32\n",
       "34       Change Final Invoice Indicator          8\n",
       "35                  Change payment term          7\n",
       "36                            SRM: Held          6\n",
       "37                      SRM: Incomplete          6\n",
       "38           SRM: Transaction Completed          6\n",
       "39           Change Rejection Indicator          2"
      ]
     },
     "execution_count": 43,
     "metadata": {},
     "output_type": "execute_result"
    }
   ],
   "source": [
    "unique, counts = np.unique(target_trace[\"Event_Name\"].explode(\"Event_Name\"), return_counts=True)\n",
    "freq_data = dict(zip(unique, counts))\n",
    "freq_pd = pd.DataFrame.from_dict(freq_data, orient=\"index\", columns=[\"Occurence\"]).reset_index()\n",
    "freq_pd.sort_values(\"Occurence\", ascending=False).reset_index(drop=True)"
   ]
  },
  {
   "cell_type": "code",
   "execution_count": 44,
   "id": "b89fe716-5eaa-42f7-ba0e-472bcde9f201",
   "metadata": {},
   "outputs": [
    {
     "data": {
      "text/html": [
       "<div>\n",
       "<style scoped>\n",
       "    .dataframe tbody tr th:only-of-type {\n",
       "        vertical-align: middle;\n",
       "    }\n",
       "\n",
       "    .dataframe tbody tr th {\n",
       "        vertical-align: top;\n",
       "    }\n",
       "\n",
       "    .dataframe thead th {\n",
       "        text-align: right;\n",
       "    }\n",
       "</style>\n",
       "<table border=\"1\" class=\"dataframe\">\n",
       "  <thead>\n",
       "    <tr style=\"text-align: right;\">\n",
       "      <th></th>\n",
       "      <th>index</th>\n",
       "      <th>Occurence</th>\n",
       "    </tr>\n",
       "  </thead>\n",
       "  <tbody>\n",
       "    <tr>\n",
       "      <th>0</th>\n",
       "      <td>Create PO Item</td>\n",
       "      <td>77813</td>\n",
       "    </tr>\n",
       "    <tr>\n",
       "      <th>1</th>\n",
       "      <td>Record Invoice Receipt</td>\n",
       "      <td>66319</td>\n",
       "    </tr>\n",
       "    <tr>\n",
       "      <th>2</th>\n",
       "      <td>Record Goods Receipt</td>\n",
       "      <td>61832</td>\n",
       "    </tr>\n",
       "    <tr>\n",
       "      <th>3</th>\n",
       "      <td>Create PR Item</td>\n",
       "      <td>13226</td>\n",
       "    </tr>\n",
       "    <tr>\n",
       "      <th>4</th>\n",
       "      <td>Approve Purchase Requisition Item</td>\n",
       "      <td>12719</td>\n",
       "    </tr>\n",
       "    <tr>\n",
       "      <th>5</th>\n",
       "      <td>Change Price</td>\n",
       "      <td>1495</td>\n",
       "    </tr>\n",
       "    <tr>\n",
       "      <th>6</th>\n",
       "      <td>Goods Return</td>\n",
       "      <td>319</td>\n",
       "    </tr>\n",
       "    <tr>\n",
       "      <th>7</th>\n",
       "      <td>Record Credit Memo Receipt</td>\n",
       "      <td>7</td>\n",
       "    </tr>\n",
       "  </tbody>\n",
       "</table>\n",
       "</div>"
      ],
      "text/plain": [
       "                               index  Occurence\n",
       "0                     Create PO Item      77813\n",
       "1             Record Invoice Receipt      66319\n",
       "2               Record Goods Receipt      61832\n",
       "3                     Create PR Item      13226\n",
       "4  Approve Purchase Requisition Item      12719\n",
       "5                       Change Price       1495\n",
       "6                       Goods Return        319\n",
       "7         Record Credit Memo Receipt          7"
      ]
     },
     "execution_count": 44,
     "metadata": {},
     "output_type": "execute_result"
    }
   ],
   "source": [
    "unique, counts = np.unique(source_trace[\"Event_Name\"].explode(\"Event_Name\"), return_counts=True)\n",
    "freq_data = dict(zip(unique, counts))\n",
    "freq_pd = pd.DataFrame.from_dict(freq_data, orient=\"index\", columns=[\"Occurence\"]).reset_index()\n",
    "freq_pd.sort_values(\"Occurence\", ascending=False).reset_index(drop=True)"
   ]
  },
  {
   "cell_type": "code",
   "execution_count": null,
   "id": "50b58bbc-7a26-40bd-955c-6725ad3aae2e",
   "metadata": {},
   "outputs": [],
   "source": []
  },
  {
   "cell_type": "code",
   "execution_count": 47,
   "id": "c47f4e5d-d198-49f4-8cd7-a802a0968bc1",
   "metadata": {},
   "outputs": [],
   "source": [
    "source_train = pd.read_pickle(\"../../Data/Training/641620split/source_train_sorted.pkl\")\n",
    "target_train = pd.read_pickle(\"../../Data/Training/641620split/target_train_sorted.pkl\")"
   ]
  },
  {
   "cell_type": "code",
   "execution_count": 50,
   "id": "ede18e46-3662-49ba-ab0f-6d37cff4a286",
   "metadata": {},
   "outputs": [
    {
     "data": {
      "text/plain": [
       "8"
      ]
     },
     "execution_count": 50,
     "metadata": {},
     "output_type": "execute_result"
    }
   ],
   "source": [
    "source_train[\"Event_Name\"].explode(\"Event_Name\").nunique()"
   ]
  },
  {
   "cell_type": "code",
   "execution_count": 51,
   "id": "c1d78938-1abd-4426-a32d-c8a109df363a",
   "metadata": {},
   "outputs": [
    {
     "data": {
      "text/plain": [
       "40"
      ]
     },
     "execution_count": 51,
     "metadata": {},
     "output_type": "execute_result"
    }
   ],
   "source": [
    "target_train[\"Event_Name\"].explode(\"Event_Name\").nunique()"
   ]
  }
 ],
 "metadata": {
  "kernelspec": {
   "display_name": "Python 3 (ipykernel)",
   "language": "python",
   "name": "python3"
  },
  "language_info": {
   "codemirror_mode": {
    "name": "ipython",
    "version": 3
   },
   "file_extension": ".py",
   "mimetype": "text/x-python",
   "name": "python",
   "nbconvert_exporter": "python",
   "pygments_lexer": "ipython3",
   "version": "3.8.18"
  }
 },
 "nbformat": 4,
 "nbformat_minor": 5
}
