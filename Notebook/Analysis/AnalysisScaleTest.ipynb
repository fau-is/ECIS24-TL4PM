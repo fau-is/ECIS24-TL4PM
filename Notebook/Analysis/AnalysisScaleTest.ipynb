{
 "cells": [
  {
   "cell_type": "markdown",
   "id": "30f86526-cf60-4ae0-8fc4-a9de9992af0d",
   "metadata": {},
   "source": [
    "# Scale Test Analysis"
   ]
  },
  {
   "cell_type": "code",
   "execution_count": 4,
   "id": "b6cd79cb-111e-42f2-8375-21c8a67ec3aa",
   "metadata": {},
   "outputs": [],
   "source": [
    "import numpy as np\n",
    "import pandas as pd\n",
    "import plotly.graph_objects as go\n"
   ]
  },
  {
   "cell_type": "code",
   "execution_count": 172,
   "id": "99890b27-b1d8-4344-81e1-e2c516827563",
   "metadata": {},
   "outputs": [],
   "source": [
    "scale_test_res = pd.read_excel(\"../../Result/641620split/LSTM/Scale_test_weighted_w2v.xlsx\")"
   ]
  },
  {
   "cell_type": "code",
   "execution_count": 60,
   "id": "ccef5fab-c36f-4927-b881-fceb1afce386",
   "metadata": {},
   "outputs": [],
   "source": []
  },
  {
   "cell_type": "code",
   "execution_count": 13,
   "id": "70e5c917-e35a-48a1-898e-ffb674604744",
   "metadata": {},
   "outputs": [],
   "source": [
    "auc_ar = np.array([0.5762, 0.5383, 0.6126, 0.6193, 0.6061])\n",
    "f1_score_ar = np.array([0.4872, 0.6244, 0.4594, 0.5599, 0.5695])\n",
    "sacle_ar = np.array([0.01, 0.05, 0.1, 0.5, 1])\n",
    "\n",
    "tl_auc = 0.5702\n",
    "tl_f1 = 0.5842"
   ]
  },
  {
   "cell_type": "code",
   "execution_count": 55,
   "id": "17dc7a94-2a93-4d30-9c8f-aa8657e29a14",
   "metadata": {},
   "outputs": [
    {
     "ename": "ValueError",
     "evalue": "\n    Invalid value of type 'builtins.str' received for the 'type' property of layout.shape\n        Received value: 'line+markers'\n\n    The 'type' property is an enumeration that may be specified as:\n      - One of the following enumeration values:\n            ['circle', 'rect', 'path', 'line']",
     "output_type": "error",
     "traceback": [
      "\u001b[0;31m---------------------------------------------------------------------------\u001b[0m",
      "\u001b[0;31mValueError\u001b[0m                                Traceback (most recent call last)",
      "Cell \u001b[0;32mIn[55], line 6\u001b[0m\n\u001b[1;32m      4\u001b[0m fig\u001b[38;5;241m.\u001b[39madd_trace(go\u001b[38;5;241m.\u001b[39mScatter(x\u001b[38;5;241m=\u001b[39mx, y\u001b[38;5;241m=\u001b[39mauc_ar, name\u001b[38;5;241m=\u001b[39m\u001b[38;5;124m\"\u001b[39m\u001b[38;5;124mAUC_ROC\u001b[39m\u001b[38;5;124m\"\u001b[39m))\n\u001b[1;32m      5\u001b[0m fig\u001b[38;5;241m.\u001b[39madd_trace(go\u001b[38;5;241m.\u001b[39mScatter(x\u001b[38;5;241m=\u001b[39mx, y\u001b[38;5;241m=\u001b[39mf1_score_ar, name\u001b[38;5;241m=\u001b[39m\u001b[38;5;124m\"\u001b[39m\u001b[38;5;124mf1_score\u001b[39m\u001b[38;5;124m\"\u001b[39m))\n\u001b[0;32m----> 6\u001b[0m fig\u001b[38;5;241m.\u001b[39madd_shape(\u001b[43mgo\u001b[49m\u001b[38;5;241;43m.\u001b[39;49m\u001b[43mlayout\u001b[49m\u001b[38;5;241;43m.\u001b[39;49m\u001b[43mShape\u001b[49m\u001b[43m(\u001b[49m\u001b[38;5;28;43mtype\u001b[39;49m\u001b[38;5;241;43m=\u001b[39;49m\u001b[38;5;124;43m\"\u001b[39;49m\u001b[38;5;124;43mline+markers\u001b[39;49m\u001b[38;5;124;43m\"\u001b[39;49m\u001b[43m,\u001b[49m\u001b[43m \u001b[49m\u001b[43mx0\u001b[49m\u001b[38;5;241;43m=\u001b[39;49m\u001b[38;5;241;43m-\u001b[39;49m\u001b[38;5;241;43m0.5\u001b[39;49m\u001b[43m,\u001b[49m\u001b[43m \u001b[49m\u001b[43mx1\u001b[49m\u001b[38;5;241;43m=\u001b[39;49m\u001b[38;5;241;43m6.5\u001b[39;49m\u001b[43m,\u001b[49m\n\u001b[1;32m      7\u001b[0m \u001b[43m                              \u001b[49m\u001b[43my0\u001b[49m\u001b[38;5;241;43m=\u001b[39;49m\u001b[43mtl_auc\u001b[49m\u001b[43m,\u001b[49m\u001b[43m \u001b[49m\u001b[43my1\u001b[49m\u001b[38;5;241;43m=\u001b[39;49m\u001b[43mtl_auc\u001b[49m\u001b[43m,\u001b[49m\u001b[43m \u001b[49m\u001b[43mline\u001b[49m\u001b[38;5;241;43m=\u001b[39;49m\u001b[38;5;28;43mdict\u001b[39;49m\u001b[43m(\u001b[49m\u001b[43mcolor\u001b[49m\u001b[38;5;241;43m=\u001b[39;49m\u001b[38;5;124;43m\"\u001b[39;49m\u001b[38;5;124;43mBlue\u001b[39;49m\u001b[38;5;124;43m\"\u001b[39;49m\u001b[43m,\u001b[49m\n\u001b[1;32m      8\u001b[0m \u001b[43m                                                              \u001b[49m\u001b[43mwidth\u001b[49m\u001b[38;5;241;43m=\u001b[39;49m\u001b[38;5;241;43m3\u001b[39;49m\u001b[43m,\u001b[49m\n\u001b[1;32m      9\u001b[0m \u001b[43m                                                              \u001b[49m\u001b[43mdash\u001b[49m\u001b[38;5;241;43m=\u001b[39;49m\u001b[38;5;124;43m'\u001b[39;49m\u001b[38;5;124;43mdot\u001b[39;49m\u001b[38;5;124;43m'\u001b[39;49m\u001b[43m,\u001b[49m\u001b[43m)\u001b[49m\u001b[43m,\u001b[49m\n\u001b[1;32m     10\u001b[0m \u001b[43m                              \u001b[49m\u001b[43mopacity\u001b[49m\u001b[38;5;241;43m=\u001b[39;49m\u001b[38;5;241;43m0.7\u001b[39;49m\u001b[43m)\u001b[49m)\n\u001b[1;32m     11\u001b[0m fig\u001b[38;5;241m.\u001b[39madd_shape(go\u001b[38;5;241m.\u001b[39mlayout\u001b[38;5;241m.\u001b[39mShape(\u001b[38;5;28mtype\u001b[39m\u001b[38;5;241m=\u001b[39m\u001b[38;5;124m\"\u001b[39m\u001b[38;5;124mline+markers\u001b[39m\u001b[38;5;124m\"\u001b[39m, x0\u001b[38;5;241m=\u001b[39m\u001b[38;5;241m-\u001b[39m\u001b[38;5;241m0.5\u001b[39m, x1\u001b[38;5;241m=\u001b[39m\u001b[38;5;241m6.5\u001b[39m,\n\u001b[1;32m     12\u001b[0m                               y0\u001b[38;5;241m=\u001b[39mtl_f1, y1\u001b[38;5;241m=\u001b[39mtl_f1, line\u001b[38;5;241m=\u001b[39m\u001b[38;5;28mdict\u001b[39m(color\u001b[38;5;241m=\u001b[39m\u001b[38;5;124m\"\u001b[39m\u001b[38;5;124mRed\u001b[39m\u001b[38;5;124m\"\u001b[39m,\n\u001b[1;32m     13\u001b[0m                                                               width\u001b[38;5;241m=\u001b[39m\u001b[38;5;241m3\u001b[39m,\n\u001b[1;32m     14\u001b[0m                                                               dash\u001b[38;5;241m=\u001b[39m\u001b[38;5;124m'\u001b[39m\u001b[38;5;124mdot\u001b[39m\u001b[38;5;124m'\u001b[39m,),\n\u001b[1;32m     15\u001b[0m                               opacity\u001b[38;5;241m=\u001b[39m\u001b[38;5;241m0.7\u001b[39m))\n\u001b[1;32m     17\u001b[0m fig\u001b[38;5;241m.\u001b[39madd_annotation(\n\u001b[1;32m     18\u001b[0m     x\u001b[38;5;241m=\u001b[39m\u001b[38;5;241m5\u001b[39m,  \u001b[38;5;66;03m# x-coordinate position of the annotation (relative to the x-axis)\u001b[39;00m\n\u001b[1;32m     19\u001b[0m     y\u001b[38;5;241m=\u001b[39m\u001b[38;5;241m0.568\u001b[39m,  \u001b[38;5;66;03m# y-coordinate position (using the max value in this example)\u001b[39;00m\n\u001b[0;32m   (...)\u001b[0m\n\u001b[1;32m     25\u001b[0m     font\u001b[38;5;241m=\u001b[39m\u001b[38;5;28mdict\u001b[39m(size\u001b[38;5;241m=\u001b[39m\u001b[38;5;241m18\u001b[39m),\n\u001b[1;32m     26\u001b[0m )\n",
      "File \u001b[0;32m~/anaconda3/envs/tl4pm/lib/python3.8/site-packages/plotly/graph_objs/layout/_shape.py:1033\u001b[0m, in \u001b[0;36mShape.__init__\u001b[0;34m(self, arg, editable, fillcolor, fillrule, layer, line, name, opacity, path, templateitemname, type, visible, x0, x1, xanchor, xref, xsizemode, y0, y1, yanchor, yref, ysizemode, **kwargs)\u001b[0m\n\u001b[1;32m   1031\u001b[0m _v \u001b[38;5;241m=\u001b[39m \u001b[38;5;28mtype\u001b[39m \u001b[38;5;28;01mif\u001b[39;00m \u001b[38;5;28mtype\u001b[39m \u001b[38;5;129;01mis\u001b[39;00m \u001b[38;5;129;01mnot\u001b[39;00m \u001b[38;5;28;01mNone\u001b[39;00m \u001b[38;5;28;01melse\u001b[39;00m _v\n\u001b[1;32m   1032\u001b[0m \u001b[38;5;28;01mif\u001b[39;00m _v \u001b[38;5;129;01mis\u001b[39;00m \u001b[38;5;129;01mnot\u001b[39;00m \u001b[38;5;28;01mNone\u001b[39;00m:\n\u001b[0;32m-> 1033\u001b[0m     \u001b[38;5;28mself\u001b[39m[\u001b[38;5;124m\"\u001b[39m\u001b[38;5;124mtype\u001b[39m\u001b[38;5;124m\"\u001b[39m] \u001b[38;5;241m=\u001b[39m _v\n\u001b[1;32m   1034\u001b[0m _v \u001b[38;5;241m=\u001b[39m arg\u001b[38;5;241m.\u001b[39mpop(\u001b[38;5;124m\"\u001b[39m\u001b[38;5;124mvisible\u001b[39m\u001b[38;5;124m\"\u001b[39m, \u001b[38;5;28;01mNone\u001b[39;00m)\n\u001b[1;32m   1035\u001b[0m _v \u001b[38;5;241m=\u001b[39m visible \u001b[38;5;28;01mif\u001b[39;00m visible \u001b[38;5;129;01mis\u001b[39;00m \u001b[38;5;129;01mnot\u001b[39;00m \u001b[38;5;28;01mNone\u001b[39;00m \u001b[38;5;28;01melse\u001b[39;00m _v\n",
      "File \u001b[0;32m~/anaconda3/envs/tl4pm/lib/python3.8/site-packages/plotly/basedatatypes.py:4859\u001b[0m, in \u001b[0;36mBasePlotlyType.__setitem__\u001b[0;34m(self, prop, value)\u001b[0m\n\u001b[1;32m   4855\u001b[0m         \u001b[38;5;28mself\u001b[39m\u001b[38;5;241m.\u001b[39m_set_array_prop(prop, value)\n\u001b[1;32m   4857\u001b[0m     \u001b[38;5;66;03m# ### Handle simple property ###\u001b[39;00m\n\u001b[1;32m   4858\u001b[0m     \u001b[38;5;28;01melse\u001b[39;00m:\n\u001b[0;32m-> 4859\u001b[0m         \u001b[38;5;28;43mself\u001b[39;49m\u001b[38;5;241;43m.\u001b[39;49m\u001b[43m_set_prop\u001b[49m\u001b[43m(\u001b[49m\u001b[43mprop\u001b[49m\u001b[43m,\u001b[49m\u001b[43m \u001b[49m\u001b[43mvalue\u001b[49m\u001b[43m)\u001b[49m\n\u001b[1;32m   4860\u001b[0m \u001b[38;5;28;01melse\u001b[39;00m:\n\u001b[1;32m   4861\u001b[0m     \u001b[38;5;66;03m# Make sure properties dict is initialized\u001b[39;00m\n\u001b[1;32m   4862\u001b[0m     \u001b[38;5;28mself\u001b[39m\u001b[38;5;241m.\u001b[39m_init_props()\n",
      "File \u001b[0;32m~/anaconda3/envs/tl4pm/lib/python3.8/site-packages/plotly/basedatatypes.py:5203\u001b[0m, in \u001b[0;36mBasePlotlyType._set_prop\u001b[0;34m(self, prop, val)\u001b[0m\n\u001b[1;32m   5201\u001b[0m         \u001b[38;5;28;01mreturn\u001b[39;00m\n\u001b[1;32m   5202\u001b[0m     \u001b[38;5;28;01melse\u001b[39;00m:\n\u001b[0;32m-> 5203\u001b[0m         \u001b[38;5;28;01mraise\u001b[39;00m err\n\u001b[1;32m   5205\u001b[0m \u001b[38;5;66;03m# val is None\u001b[39;00m\n\u001b[1;32m   5206\u001b[0m \u001b[38;5;66;03m# -----------\u001b[39;00m\n\u001b[1;32m   5207\u001b[0m \u001b[38;5;28;01mif\u001b[39;00m val \u001b[38;5;129;01mis\u001b[39;00m \u001b[38;5;28;01mNone\u001b[39;00m:\n\u001b[1;32m   5208\u001b[0m     \u001b[38;5;66;03m# Check if we should send null update\u001b[39;00m\n",
      "File \u001b[0;32m~/anaconda3/envs/tl4pm/lib/python3.8/site-packages/plotly/basedatatypes.py:5198\u001b[0m, in \u001b[0;36mBasePlotlyType._set_prop\u001b[0;34m(self, prop, val)\u001b[0m\n\u001b[1;32m   5195\u001b[0m validator \u001b[38;5;241m=\u001b[39m \u001b[38;5;28mself\u001b[39m\u001b[38;5;241m.\u001b[39m_get_validator(prop)\n\u001b[1;32m   5197\u001b[0m \u001b[38;5;28;01mtry\u001b[39;00m:\n\u001b[0;32m-> 5198\u001b[0m     val \u001b[38;5;241m=\u001b[39m \u001b[43mvalidator\u001b[49m\u001b[38;5;241;43m.\u001b[39;49m\u001b[43mvalidate_coerce\u001b[49m\u001b[43m(\u001b[49m\u001b[43mval\u001b[49m\u001b[43m)\u001b[49m\n\u001b[1;32m   5199\u001b[0m \u001b[38;5;28;01mexcept\u001b[39;00m \u001b[38;5;167;01mValueError\u001b[39;00m \u001b[38;5;28;01mas\u001b[39;00m err:\n\u001b[1;32m   5200\u001b[0m     \u001b[38;5;28;01mif\u001b[39;00m \u001b[38;5;28mself\u001b[39m\u001b[38;5;241m.\u001b[39m_skip_invalid:\n",
      "File \u001b[0;32m~/anaconda3/envs/tl4pm/lib/python3.8/site-packages/_plotly_utils/basevalidators.py:611\u001b[0m, in \u001b[0;36mEnumeratedValidator.validate_coerce\u001b[0;34m(self, v)\u001b[0m\n\u001b[1;32m    609\u001b[0m     v \u001b[38;5;241m=\u001b[39m \u001b[38;5;28mself\u001b[39m\u001b[38;5;241m.\u001b[39mperform_replacemenet(v)\n\u001b[1;32m    610\u001b[0m     \u001b[38;5;28;01mif\u001b[39;00m \u001b[38;5;129;01mnot\u001b[39;00m \u001b[38;5;28mself\u001b[39m\u001b[38;5;241m.\u001b[39min_values(v):\n\u001b[0;32m--> 611\u001b[0m         \u001b[38;5;28;43mself\u001b[39;49m\u001b[38;5;241;43m.\u001b[39;49m\u001b[43mraise_invalid_val\u001b[49m\u001b[43m(\u001b[49m\u001b[43mv\u001b[49m\u001b[43m)\u001b[49m\n\u001b[1;32m    612\u001b[0m \u001b[38;5;28;01mreturn\u001b[39;00m v\n",
      "File \u001b[0;32m~/anaconda3/envs/tl4pm/lib/python3.8/site-packages/_plotly_utils/basevalidators.py:288\u001b[0m, in \u001b[0;36mBaseValidator.raise_invalid_val\u001b[0;34m(self, v, inds)\u001b[0m\n\u001b[1;32m    285\u001b[0m             \u001b[38;5;28;01mfor\u001b[39;00m i \u001b[38;5;129;01min\u001b[39;00m inds:\n\u001b[1;32m    286\u001b[0m                 name \u001b[38;5;241m+\u001b[39m\u001b[38;5;241m=\u001b[39m \u001b[38;5;124m\"\u001b[39m\u001b[38;5;124m[\u001b[39m\u001b[38;5;124m\"\u001b[39m \u001b[38;5;241m+\u001b[39m \u001b[38;5;28mstr\u001b[39m(i) \u001b[38;5;241m+\u001b[39m \u001b[38;5;124m\"\u001b[39m\u001b[38;5;124m]\u001b[39m\u001b[38;5;124m\"\u001b[39m\n\u001b[0;32m--> 288\u001b[0m         \u001b[38;5;28;01mraise\u001b[39;00m \u001b[38;5;167;01mValueError\u001b[39;00m(\n\u001b[1;32m    289\u001b[0m \u001b[38;5;250m            \u001b[39m\u001b[38;5;124;03m\"\"\"\u001b[39;00m\n\u001b[1;32m    290\u001b[0m \u001b[38;5;124;03m    Invalid value of type {typ} received for the '{name}' property of {pname}\u001b[39;00m\n\u001b[1;32m    291\u001b[0m \u001b[38;5;124;03m        Received value: {v}\u001b[39;00m\n\u001b[1;32m    292\u001b[0m \n\u001b[1;32m    293\u001b[0m \u001b[38;5;124;03m{valid_clr_desc}\"\"\"\u001b[39;00m\u001b[38;5;241m.\u001b[39mformat(\n\u001b[1;32m    294\u001b[0m                 name\u001b[38;5;241m=\u001b[39mname,\n\u001b[1;32m    295\u001b[0m                 pname\u001b[38;5;241m=\u001b[39m\u001b[38;5;28mself\u001b[39m\u001b[38;5;241m.\u001b[39mparent_name,\n\u001b[1;32m    296\u001b[0m                 typ\u001b[38;5;241m=\u001b[39mtype_str(v),\n\u001b[1;32m    297\u001b[0m                 v\u001b[38;5;241m=\u001b[39m\u001b[38;5;28mrepr\u001b[39m(v),\n\u001b[1;32m    298\u001b[0m                 valid_clr_desc\u001b[38;5;241m=\u001b[39m\u001b[38;5;28mself\u001b[39m\u001b[38;5;241m.\u001b[39mdescription(),\n\u001b[1;32m    299\u001b[0m             )\n\u001b[1;32m    300\u001b[0m         )\n",
      "\u001b[0;31mValueError\u001b[0m: \n    Invalid value of type 'builtins.str' received for the 'type' property of layout.shape\n        Received value: 'line+markers'\n\n    The 'type' property is an enumeration that may be specified as:\n      - One of the following enumeration values:\n            ['circle', 'rect', 'path', 'line']"
     ]
    }
   ],
   "source": [
    "x=np.array([\"1\", \"5\", \"10\", \"50\", \"100\"])\n",
    "x = x.astype(int).astype(str)\n",
    "fig = go.Figure()\n",
    "fig.add_trace(go.Scatter(x=x, y=auc_ar, name=\"AUC_ROC\"))\n",
    "fig.add_trace(go.Scatter(x=x, y=f1_score_ar, name=\"f1_score\"))\n",
    "fig.add_shape(go.layout.Shape(type=\"line+markers\", x0=-0.5, x1=6.5,\n",
    "                              y0=tl_auc, y1=tl_auc, line=dict(color=\"Blue\",\n",
    "                                                              width=3,\n",
    "                                                              dash='dot',),\n",
    "                              opacity=0.7))\n",
    "fig.add_shape(go.layout.Shape(type=\"line+markers\", x0=-0.5, x1=6.5,\n",
    "                              y0=tl_f1, y1=tl_f1, line=dict(color=\"Red\",\n",
    "                                                              width=3,\n",
    "                                                              dash='dot',),\n",
    "                              opacity=0.7))\n",
    "\n",
    "fig.add_annotation(\n",
    "    x=5,  # x-coordinate position of the annotation (relative to the x-axis)\n",
    "    y=0.568,  # y-coordinate position (using the max value in this example)\n",
    "    text=\"Transferred model AUC-ROC\",  # Text for the annotation\n",
    "    showarrow=True,  # Show an arrow pointing to the annotated point\n",
    "    arrowhead=1,  # The style of the arrowhead\n",
    "    ax=-20,  # x-offset of the arrow\n",
    "    ay=30,  # y-offset of the arrow\n",
    "    font=dict(size=18),\n",
    ")\n",
    "fig.add_annotation(\n",
    "    x=5,  # x-coordinate position of the annotation (relative to the x-axis)\n",
    "    y=0.588,  # y-coordinate position (using the max value in this example)\n",
    "    text=\"Transferred model F1 score\",  # Text for the annotation\n",
    "    showarrow=True,  # Show an arrow pointing to the annotated point\n",
    "    arrowhead=1,  # The style of the arrowhead\n",
    "    ax=20,  # x-offset of the arrow\n",
    "    ay=-30,  # y-offset of the arrow\n",
    "    font=dict(size=18),\n",
    ")\n",
    "fig.update_layout(\n",
    "    title=\"\",\n",
    "    yaxis_title='Values',\n",
    "    xaxis_title='Available data percentage',\n",
    "    boxmode='group',\n",
    "    bargap=0.8,\n",
    "    bargroupgap=1,\n",
    "    autosize=False,\n",
    "    width=1000,\n",
    "    height=800,\n",
    "    plot_bgcolor='rgba(0,0,0,0)',\n",
    "    yaxis=dict(\n",
    "        showgrid=True,  # Turn on Y-axis grid\n",
    "        gridcolor='rgba(100, 100, 100, 0.3)',  # Customize grid color\n",
    "        gridwidth=2,\n",
    "        tickfont=dict(size=16),\n",
    "        title_font=dict(size=18)\n",
    "    ),\n",
    "    margin=dict(l=80, r=100, b=30, t=50),\n",
    "    xaxis=dict(\n",
    "        tickfont=dict(size=16),\n",
    "        title_font=dict(size=18)\n",
    "    ),\n",
    "    legend=dict(\n",
    "        font=dict(size=16)  # Set legend font size\n",
    "    ),\n",
    ")\n",
    "\n",
    "fig.show()"
   ]
  },
  {
   "cell_type": "code",
   "execution_count": 173,
   "id": "7be0a9ca-9d9d-477b-a469-9ffc94e63d36",
   "metadata": {},
   "outputs": [
    {
     "data": {
      "text/html": [
       "<div>\n",
       "<style scoped>\n",
       "    .dataframe tbody tr th:only-of-type {\n",
       "        vertical-align: middle;\n",
       "    }\n",
       "\n",
       "    .dataframe tbody tr th {\n",
       "        vertical-align: top;\n",
       "    }\n",
       "\n",
       "    .dataframe thead th {\n",
       "        text-align: right;\n",
       "    }\n",
       "</style>\n",
       "<table border=\"1\" class=\"dataframe\">\n",
       "  <thead>\n",
       "    <tr style=\"text-align: right;\">\n",
       "      <th></th>\n",
       "      <th>Unnamed: 0</th>\n",
       "      <th>ROC_AUC</th>\n",
       "      <th>Weighted F1 score</th>\n",
       "      <th>Weighted precision</th>\n",
       "      <th>Weighted recall</th>\n",
       "      <th>Embedding</th>\n",
       "      <th>Training set</th>\n",
       "      <th>Testing set</th>\n",
       "      <th>Model index</th>\n",
       "    </tr>\n",
       "  </thead>\n",
       "  <tbody>\n",
       "    <tr>\n",
       "      <th>0</th>\n",
       "      <td>0</td>\n",
       "      <td>0.523191</td>\n",
       "      <td>0.580599</td>\n",
       "      <td>0.594850</td>\n",
       "      <td>0.569338</td>\n",
       "      <td>w2v</td>\n",
       "      <td>target_0.01</td>\n",
       "      <td>target</td>\n",
       "      <td>0</td>\n",
       "    </tr>\n",
       "    <tr>\n",
       "      <th>1</th>\n",
       "      <td>1</td>\n",
       "      <td>0.525248</td>\n",
       "      <td>0.536452</td>\n",
       "      <td>0.608646</td>\n",
       "      <td>0.510239</td>\n",
       "      <td>w2v</td>\n",
       "      <td>target_0.01</td>\n",
       "      <td>target</td>\n",
       "      <td>1</td>\n",
       "    </tr>\n",
       "    <tr>\n",
       "      <th>2</th>\n",
       "      <td>2</td>\n",
       "      <td>0.544945</td>\n",
       "      <td>0.487127</td>\n",
       "      <td>0.637307</td>\n",
       "      <td>0.469572</td>\n",
       "      <td>w2v</td>\n",
       "      <td>target_0.01</td>\n",
       "      <td>target</td>\n",
       "      <td>2</td>\n",
       "    </tr>\n",
       "    <tr>\n",
       "      <th>3</th>\n",
       "      <td>3</td>\n",
       "      <td>0.542918</td>\n",
       "      <td>0.571603</td>\n",
       "      <td>0.613745</td>\n",
       "      <td>0.549713</td>\n",
       "      <td>w2v</td>\n",
       "      <td>target_0.01</td>\n",
       "      <td>target</td>\n",
       "      <td>3</td>\n",
       "    </tr>\n",
       "    <tr>\n",
       "      <th>4</th>\n",
       "      <td>4</td>\n",
       "      <td>0.514990</td>\n",
       "      <td>0.548036</td>\n",
       "      <td>0.603808</td>\n",
       "      <td>0.523012</td>\n",
       "      <td>w2v</td>\n",
       "      <td>target_0.01</td>\n",
       "      <td>target</td>\n",
       "      <td>4</td>\n",
       "    </tr>\n",
       "    <tr>\n",
       "      <th>5</th>\n",
       "      <td>5</td>\n",
       "      <td>0.553795</td>\n",
       "      <td>0.406432</td>\n",
       "      <td>0.681287</td>\n",
       "      <td>0.420884</td>\n",
       "      <td>w2v</td>\n",
       "      <td>target_0.01</td>\n",
       "      <td>target</td>\n",
       "      <td>5</td>\n",
       "    </tr>\n",
       "    <tr>\n",
       "      <th>6</th>\n",
       "      <td>6</td>\n",
       "      <td>0.542827</td>\n",
       "      <td>0.567166</td>\n",
       "      <td>0.608022</td>\n",
       "      <td>0.545306</td>\n",
       "      <td>w2v</td>\n",
       "      <td>target_0.01</td>\n",
       "      <td>target</td>\n",
       "      <td>6</td>\n",
       "    </tr>\n",
       "    <tr>\n",
       "      <th>7</th>\n",
       "      <td>7</td>\n",
       "      <td>0.535134</td>\n",
       "      <td>0.600496</td>\n",
       "      <td>0.601833</td>\n",
       "      <td>0.599193</td>\n",
       "      <td>w2v</td>\n",
       "      <td>target_0.01</td>\n",
       "      <td>target</td>\n",
       "      <td>7</td>\n",
       "    </tr>\n",
       "    <tr>\n",
       "      <th>8</th>\n",
       "      <td>8</td>\n",
       "      <td>0.567580</td>\n",
       "      <td>0.574496</td>\n",
       "      <td>0.629471</td>\n",
       "      <td>0.551045</td>\n",
       "      <td>w2v</td>\n",
       "      <td>target_0.01</td>\n",
       "      <td>target</td>\n",
       "      <td>8</td>\n",
       "    </tr>\n",
       "    <tr>\n",
       "      <th>9</th>\n",
       "      <td>9</td>\n",
       "      <td>0.565250</td>\n",
       "      <td>0.536983</td>\n",
       "      <td>0.653093</td>\n",
       "      <td>0.514459</td>\n",
       "      <td>w2v</td>\n",
       "      <td>target_0.01</td>\n",
       "      <td>target</td>\n",
       "      <td>9</td>\n",
       "    </tr>\n",
       "    <tr>\n",
       "      <th>10</th>\n",
       "      <td>10</td>\n",
       "      <td>0.581859</td>\n",
       "      <td>0.602303</td>\n",
       "      <td>0.633092</td>\n",
       "      <td>0.584548</td>\n",
       "      <td>w2v</td>\n",
       "      <td>target_0.05</td>\n",
       "      <td>target</td>\n",
       "      <td>0</td>\n",
       "    </tr>\n",
       "    <tr>\n",
       "      <th>11</th>\n",
       "      <td>11</td>\n",
       "      <td>0.558974</td>\n",
       "      <td>0.627978</td>\n",
       "      <td>0.612401</td>\n",
       "      <td>0.654366</td>\n",
       "      <td>w2v</td>\n",
       "      <td>target_0.05</td>\n",
       "      <td>target</td>\n",
       "      <td>1</td>\n",
       "    </tr>\n",
       "    <tr>\n",
       "      <th>12</th>\n",
       "      <td>12</td>\n",
       "      <td>0.576098</td>\n",
       "      <td>0.630430</td>\n",
       "      <td>0.625883</td>\n",
       "      <td>0.635574</td>\n",
       "      <td>w2v</td>\n",
       "      <td>target_0.05</td>\n",
       "      <td>target</td>\n",
       "      <td>2</td>\n",
       "    </tr>\n",
       "    <tr>\n",
       "      <th>13</th>\n",
       "      <td>13</td>\n",
       "      <td>0.581473</td>\n",
       "      <td>0.613828</td>\n",
       "      <td>0.637128</td>\n",
       "      <td>0.598988</td>\n",
       "      <td>w2v</td>\n",
       "      <td>target_0.05</td>\n",
       "      <td>target</td>\n",
       "      <td>3</td>\n",
       "    </tr>\n",
       "    <tr>\n",
       "      <th>14</th>\n",
       "      <td>14</td>\n",
       "      <td>0.545420</td>\n",
       "      <td>0.630329</td>\n",
       "      <td>0.614808</td>\n",
       "      <td>0.657394</td>\n",
       "      <td>w2v</td>\n",
       "      <td>target_0.05</td>\n",
       "      <td>target</td>\n",
       "      <td>4</td>\n",
       "    </tr>\n",
       "    <tr>\n",
       "      <th>15</th>\n",
       "      <td>15</td>\n",
       "      <td>0.565246</td>\n",
       "      <td>0.611770</td>\n",
       "      <td>0.612556</td>\n",
       "      <td>0.610997</td>\n",
       "      <td>w2v</td>\n",
       "      <td>target_0.05</td>\n",
       "      <td>target</td>\n",
       "      <td>5</td>\n",
       "    </tr>\n",
       "    <tr>\n",
       "      <th>16</th>\n",
       "      <td>16</td>\n",
       "      <td>0.576348</td>\n",
       "      <td>0.561889</td>\n",
       "      <td>0.647119</td>\n",
       "      <td>0.537513</td>\n",
       "      <td>w2v</td>\n",
       "      <td>target_0.05</td>\n",
       "      <td>target</td>\n",
       "      <td>6</td>\n",
       "    </tr>\n",
       "    <tr>\n",
       "      <th>17</th>\n",
       "      <td>17</td>\n",
       "      <td>0.552997</td>\n",
       "      <td>0.629294</td>\n",
       "      <td>0.611473</td>\n",
       "      <td>0.666044</td>\n",
       "      <td>w2v</td>\n",
       "      <td>target_0.05</td>\n",
       "      <td>target</td>\n",
       "      <td>7</td>\n",
       "    </tr>\n",
       "    <tr>\n",
       "      <th>18</th>\n",
       "      <td>18</td>\n",
       "      <td>0.543835</td>\n",
       "      <td>0.611263</td>\n",
       "      <td>0.611277</td>\n",
       "      <td>0.611249</td>\n",
       "      <td>w2v</td>\n",
       "      <td>target_0.05</td>\n",
       "      <td>target</td>\n",
       "      <td>8</td>\n",
       "    </tr>\n",
       "    <tr>\n",
       "      <th>19</th>\n",
       "      <td>19</td>\n",
       "      <td>0.578212</td>\n",
       "      <td>0.604355</td>\n",
       "      <td>0.645628</td>\n",
       "      <td>0.584291</td>\n",
       "      <td>w2v</td>\n",
       "      <td>target_0.05</td>\n",
       "      <td>target</td>\n",
       "      <td>9</td>\n",
       "    </tr>\n",
       "    <tr>\n",
       "      <th>20</th>\n",
       "      <td>20</td>\n",
       "      <td>0.607993</td>\n",
       "      <td>0.483176</td>\n",
       "      <td>0.692644</td>\n",
       "      <td>0.476909</td>\n",
       "      <td>w2v</td>\n",
       "      <td>target_0.1</td>\n",
       "      <td>target</td>\n",
       "      <td>0</td>\n",
       "    </tr>\n",
       "    <tr>\n",
       "      <th>21</th>\n",
       "      <td>21</td>\n",
       "      <td>0.611773</td>\n",
       "      <td>0.477628</td>\n",
       "      <td>0.690736</td>\n",
       "      <td>0.472381</td>\n",
       "      <td>w2v</td>\n",
       "      <td>target_0.1</td>\n",
       "      <td>target</td>\n",
       "      <td>1</td>\n",
       "    </tr>\n",
       "    <tr>\n",
       "      <th>22</th>\n",
       "      <td>22</td>\n",
       "      <td>0.613975</td>\n",
       "      <td>0.440861</td>\n",
       "      <td>0.721542</td>\n",
       "      <td>0.451256</td>\n",
       "      <td>w2v</td>\n",
       "      <td>target_0.1</td>\n",
       "      <td>target</td>\n",
       "      <td>2</td>\n",
       "    </tr>\n",
       "    <tr>\n",
       "      <th>23</th>\n",
       "      <td>23</td>\n",
       "      <td>0.616523</td>\n",
       "      <td>0.460555</td>\n",
       "      <td>0.709911</td>\n",
       "      <td>0.463256</td>\n",
       "      <td>w2v</td>\n",
       "      <td>target_0.1</td>\n",
       "      <td>target</td>\n",
       "      <td>3</td>\n",
       "    </tr>\n",
       "    <tr>\n",
       "      <th>24</th>\n",
       "      <td>24</td>\n",
       "      <td>0.611024</td>\n",
       "      <td>0.434637</td>\n",
       "      <td>0.716287</td>\n",
       "      <td>0.446043</td>\n",
       "      <td>w2v</td>\n",
       "      <td>target_0.1</td>\n",
       "      <td>target</td>\n",
       "      <td>4</td>\n",
       "    </tr>\n",
       "    <tr>\n",
       "      <th>25</th>\n",
       "      <td>25</td>\n",
       "      <td>0.627453</td>\n",
       "      <td>0.561601</td>\n",
       "      <td>0.675884</td>\n",
       "      <td>0.539679</td>\n",
       "      <td>w2v</td>\n",
       "      <td>target_0.1</td>\n",
       "      <td>target</td>\n",
       "      <td>5</td>\n",
       "    </tr>\n",
       "    <tr>\n",
       "      <th>26</th>\n",
       "      <td>26</td>\n",
       "      <td>0.615968</td>\n",
       "      <td>0.438714</td>\n",
       "      <td>0.727282</td>\n",
       "      <td>0.450711</td>\n",
       "      <td>w2v</td>\n",
       "      <td>target_0.1</td>\n",
       "      <td>target</td>\n",
       "      <td>6</td>\n",
       "    </tr>\n",
       "    <tr>\n",
       "      <th>27</th>\n",
       "      <td>27</td>\n",
       "      <td>0.616234</td>\n",
       "      <td>0.589685</td>\n",
       "      <td>0.660056</td>\n",
       "      <td>0.566469</td>\n",
       "      <td>w2v</td>\n",
       "      <td>target_0.1</td>\n",
       "      <td>target</td>\n",
       "      <td>7</td>\n",
       "    </tr>\n",
       "    <tr>\n",
       "      <th>28</th>\n",
       "      <td>28</td>\n",
       "      <td>0.615622</td>\n",
       "      <td>0.564866</td>\n",
       "      <td>0.668033</td>\n",
       "      <td>0.541957</td>\n",
       "      <td>w2v</td>\n",
       "      <td>target_0.1</td>\n",
       "      <td>target</td>\n",
       "      <td>8</td>\n",
       "    </tr>\n",
       "    <tr>\n",
       "      <th>29</th>\n",
       "      <td>29</td>\n",
       "      <td>0.620863</td>\n",
       "      <td>0.490862</td>\n",
       "      <td>0.695445</td>\n",
       "      <td>0.483277</td>\n",
       "      <td>w2v</td>\n",
       "      <td>target_0.1</td>\n",
       "      <td>target</td>\n",
       "      <td>9</td>\n",
       "    </tr>\n",
       "    <tr>\n",
       "      <th>30</th>\n",
       "      <td>30</td>\n",
       "      <td>0.624230</td>\n",
       "      <td>0.432651</td>\n",
       "      <td>0.731696</td>\n",
       "      <td>0.447222</td>\n",
       "      <td>w2v</td>\n",
       "      <td>target_0.5</td>\n",
       "      <td>target</td>\n",
       "      <td>0</td>\n",
       "    </tr>\n",
       "    <tr>\n",
       "      <th>31</th>\n",
       "      <td>31</td>\n",
       "      <td>0.634038</td>\n",
       "      <td>0.448322</td>\n",
       "      <td>0.730240</td>\n",
       "      <td>0.457950</td>\n",
       "      <td>w2v</td>\n",
       "      <td>target_0.5</td>\n",
       "      <td>target</td>\n",
       "      <td>1</td>\n",
       "    </tr>\n",
       "    <tr>\n",
       "      <th>32</th>\n",
       "      <td>32</td>\n",
       "      <td>0.623857</td>\n",
       "      <td>0.504877</td>\n",
       "      <td>0.689220</td>\n",
       "      <td>0.493138</td>\n",
       "      <td>w2v</td>\n",
       "      <td>target_0.5</td>\n",
       "      <td>target</td>\n",
       "      <td>2</td>\n",
       "    </tr>\n",
       "    <tr>\n",
       "      <th>33</th>\n",
       "      <td>33</td>\n",
       "      <td>0.618842</td>\n",
       "      <td>0.644624</td>\n",
       "      <td>0.636902</td>\n",
       "      <td>0.654696</td>\n",
       "      <td>w2v</td>\n",
       "      <td>target_0.5</td>\n",
       "      <td>target</td>\n",
       "      <td>3</td>\n",
       "    </tr>\n",
       "    <tr>\n",
       "      <th>34</th>\n",
       "      <td>34</td>\n",
       "      <td>0.608705</td>\n",
       "      <td>0.452356</td>\n",
       "      <td>0.707929</td>\n",
       "      <td>0.457023</td>\n",
       "      <td>w2v</td>\n",
       "      <td>target_0.5</td>\n",
       "      <td>target</td>\n",
       "      <td>4</td>\n",
       "    </tr>\n",
       "    <tr>\n",
       "      <th>35</th>\n",
       "      <td>35</td>\n",
       "      <td>0.615659</td>\n",
       "      <td>0.541507</td>\n",
       "      <td>0.670809</td>\n",
       "      <td>0.520850</td>\n",
       "      <td>w2v</td>\n",
       "      <td>target_0.5</td>\n",
       "      <td>target</td>\n",
       "      <td>5</td>\n",
       "    </tr>\n",
       "    <tr>\n",
       "      <th>36</th>\n",
       "      <td>36</td>\n",
       "      <td>0.619284</td>\n",
       "      <td>0.485810</td>\n",
       "      <td>0.689525</td>\n",
       "      <td>0.478348</td>\n",
       "      <td>w2v</td>\n",
       "      <td>target_0.5</td>\n",
       "      <td>target</td>\n",
       "      <td>6</td>\n",
       "    </tr>\n",
       "    <tr>\n",
       "      <th>37</th>\n",
       "      <td>37</td>\n",
       "      <td>0.603653</td>\n",
       "      <td>0.493334</td>\n",
       "      <td>0.680243</td>\n",
       "      <td>0.482466</td>\n",
       "      <td>w2v</td>\n",
       "      <td>target_0.5</td>\n",
       "      <td>target</td>\n",
       "      <td>7</td>\n",
       "    </tr>\n",
       "    <tr>\n",
       "      <th>38</th>\n",
       "      <td>38</td>\n",
       "      <td>0.619074</td>\n",
       "      <td>0.507257</td>\n",
       "      <td>0.694167</td>\n",
       "      <td>0.495882</td>\n",
       "      <td>w2v</td>\n",
       "      <td>target_0.5</td>\n",
       "      <td>target</td>\n",
       "      <td>8</td>\n",
       "    </tr>\n",
       "    <tr>\n",
       "      <th>39</th>\n",
       "      <td>39</td>\n",
       "      <td>0.610866</td>\n",
       "      <td>0.560353</td>\n",
       "      <td>0.650775</td>\n",
       "      <td>0.536213</td>\n",
       "      <td>w2v</td>\n",
       "      <td>target_0.5</td>\n",
       "      <td>target</td>\n",
       "      <td>9</td>\n",
       "    </tr>\n",
       "  </tbody>\n",
       "</table>\n",
       "</div>"
      ],
      "text/plain": [
       "    Unnamed: 0   ROC_AUC  Weighted F1 score  Weighted precision  \\\n",
       "0            0  0.523191           0.580599            0.594850   \n",
       "1            1  0.525248           0.536452            0.608646   \n",
       "2            2  0.544945           0.487127            0.637307   \n",
       "3            3  0.542918           0.571603            0.613745   \n",
       "4            4  0.514990           0.548036            0.603808   \n",
       "5            5  0.553795           0.406432            0.681287   \n",
       "6            6  0.542827           0.567166            0.608022   \n",
       "7            7  0.535134           0.600496            0.601833   \n",
       "8            8  0.567580           0.574496            0.629471   \n",
       "9            9  0.565250           0.536983            0.653093   \n",
       "10          10  0.581859           0.602303            0.633092   \n",
       "11          11  0.558974           0.627978            0.612401   \n",
       "12          12  0.576098           0.630430            0.625883   \n",
       "13          13  0.581473           0.613828            0.637128   \n",
       "14          14  0.545420           0.630329            0.614808   \n",
       "15          15  0.565246           0.611770            0.612556   \n",
       "16          16  0.576348           0.561889            0.647119   \n",
       "17          17  0.552997           0.629294            0.611473   \n",
       "18          18  0.543835           0.611263            0.611277   \n",
       "19          19  0.578212           0.604355            0.645628   \n",
       "20          20  0.607993           0.483176            0.692644   \n",
       "21          21  0.611773           0.477628            0.690736   \n",
       "22          22  0.613975           0.440861            0.721542   \n",
       "23          23  0.616523           0.460555            0.709911   \n",
       "24          24  0.611024           0.434637            0.716287   \n",
       "25          25  0.627453           0.561601            0.675884   \n",
       "26          26  0.615968           0.438714            0.727282   \n",
       "27          27  0.616234           0.589685            0.660056   \n",
       "28          28  0.615622           0.564866            0.668033   \n",
       "29          29  0.620863           0.490862            0.695445   \n",
       "30          30  0.624230           0.432651            0.731696   \n",
       "31          31  0.634038           0.448322            0.730240   \n",
       "32          32  0.623857           0.504877            0.689220   \n",
       "33          33  0.618842           0.644624            0.636902   \n",
       "34          34  0.608705           0.452356            0.707929   \n",
       "35          35  0.615659           0.541507            0.670809   \n",
       "36          36  0.619284           0.485810            0.689525   \n",
       "37          37  0.603653           0.493334            0.680243   \n",
       "38          38  0.619074           0.507257            0.694167   \n",
       "39          39  0.610866           0.560353            0.650775   \n",
       "\n",
       "    Weighted recall Embedding Training set Testing set  Model index  \n",
       "0          0.569338       w2v  target_0.01      target            0  \n",
       "1          0.510239       w2v  target_0.01      target            1  \n",
       "2          0.469572       w2v  target_0.01      target            2  \n",
       "3          0.549713       w2v  target_0.01      target            3  \n",
       "4          0.523012       w2v  target_0.01      target            4  \n",
       "5          0.420884       w2v  target_0.01      target            5  \n",
       "6          0.545306       w2v  target_0.01      target            6  \n",
       "7          0.599193       w2v  target_0.01      target            7  \n",
       "8          0.551045       w2v  target_0.01      target            8  \n",
       "9          0.514459       w2v  target_0.01      target            9  \n",
       "10         0.584548       w2v  target_0.05      target            0  \n",
       "11         0.654366       w2v  target_0.05      target            1  \n",
       "12         0.635574       w2v  target_0.05      target            2  \n",
       "13         0.598988       w2v  target_0.05      target            3  \n",
       "14         0.657394       w2v  target_0.05      target            4  \n",
       "15         0.610997       w2v  target_0.05      target            5  \n",
       "16         0.537513       w2v  target_0.05      target            6  \n",
       "17         0.666044       w2v  target_0.05      target            7  \n",
       "18         0.611249       w2v  target_0.05      target            8  \n",
       "19         0.584291       w2v  target_0.05      target            9  \n",
       "20         0.476909       w2v   target_0.1      target            0  \n",
       "21         0.472381       w2v   target_0.1      target            1  \n",
       "22         0.451256       w2v   target_0.1      target            2  \n",
       "23         0.463256       w2v   target_0.1      target            3  \n",
       "24         0.446043       w2v   target_0.1      target            4  \n",
       "25         0.539679       w2v   target_0.1      target            5  \n",
       "26         0.450711       w2v   target_0.1      target            6  \n",
       "27         0.566469       w2v   target_0.1      target            7  \n",
       "28         0.541957       w2v   target_0.1      target            8  \n",
       "29         0.483277       w2v   target_0.1      target            9  \n",
       "30         0.447222       w2v   target_0.5      target            0  \n",
       "31         0.457950       w2v   target_0.5      target            1  \n",
       "32         0.493138       w2v   target_0.5      target            2  \n",
       "33         0.654696       w2v   target_0.5      target            3  \n",
       "34         0.457023       w2v   target_0.5      target            4  \n",
       "35         0.520850       w2v   target_0.5      target            5  \n",
       "36         0.478348       w2v   target_0.5      target            6  \n",
       "37         0.482466       w2v   target_0.5      target            7  \n",
       "38         0.495882       w2v   target_0.5      target            8  \n",
       "39         0.536213       w2v   target_0.5      target            9  "
      ]
     },
     "execution_count": 173,
     "metadata": {},
     "output_type": "execute_result"
    }
   ],
   "source": [
    "scale_test_res"
   ]
  },
  {
   "cell_type": "code",
   "execution_count": 174,
   "id": "d99c6562-40e3-45be-8cc2-7e4e42c892f0",
   "metadata": {},
   "outputs": [],
   "source": [
    "res_w2v = scale_test_res[scale_test_res[\"Embedding\"] == \"w2v\"]"
   ]
  },
  {
   "cell_type": "code",
   "execution_count": 175,
   "id": "71e7fe5c-7fbc-4cb9-82d5-cae5e0059126",
   "metadata": {},
   "outputs": [],
   "source": [
    "res_w2v_g = res_w2v.groupby(by=\"Training set\")"
   ]
  },
  {
   "cell_type": "code",
   "execution_count": 176,
   "id": "1e27c99f-7ace-4989-94bb-8ca0fd9de3e4",
   "metadata": {},
   "outputs": [],
   "source": [
    "group_exper_stat = res_w2v_g[[\"ROC_AUC\", \"Weighted F1 score\"]].apply(lambda x: np.mean(x, axis=0))"
   ]
  },
  {
   "cell_type": "code",
   "execution_count": 177,
   "id": "92793566-eee3-4748-99de-17de0c2b5437",
   "metadata": {},
   "outputs": [],
   "source": [
    "group_exper_stat = group_exper_stat.reset_index()"
   ]
  },
  {
   "cell_type": "code",
   "execution_count": 179,
   "id": "415d9ddd-668b-4318-83f8-9005755d4e20",
   "metadata": {},
   "outputs": [
    {
     "data": {
      "text/html": [
       "<div>\n",
       "<style scoped>\n",
       "    .dataframe tbody tr th:only-of-type {\n",
       "        vertical-align: middle;\n",
       "    }\n",
       "\n",
       "    .dataframe tbody tr th {\n",
       "        vertical-align: top;\n",
       "    }\n",
       "\n",
       "    .dataframe thead th {\n",
       "        text-align: right;\n",
       "    }\n",
       "</style>\n",
       "<table border=\"1\" class=\"dataframe\">\n",
       "  <thead>\n",
       "    <tr style=\"text-align: right;\">\n",
       "      <th></th>\n",
       "      <th>Unnamed: 0</th>\n",
       "      <th>ROC_AUC</th>\n",
       "      <th>Weighted F1 score</th>\n",
       "      <th>Weighted precision</th>\n",
       "      <th>Weighted recall</th>\n",
       "      <th>Embedding</th>\n",
       "      <th>Training set</th>\n",
       "      <th>Testing set</th>\n",
       "      <th>Model index</th>\n",
       "    </tr>\n",
       "  </thead>\n",
       "  <tbody>\n",
       "    <tr>\n",
       "      <th>0</th>\n",
       "      <td>0</td>\n",
       "      <td>0.523191</td>\n",
       "      <td>0.580599</td>\n",
       "      <td>0.594850</td>\n",
       "      <td>0.569338</td>\n",
       "      <td>w2v</td>\n",
       "      <td>target_0.01</td>\n",
       "      <td>target</td>\n",
       "      <td>0</td>\n",
       "    </tr>\n",
       "    <tr>\n",
       "      <th>1</th>\n",
       "      <td>1</td>\n",
       "      <td>0.525248</td>\n",
       "      <td>0.536452</td>\n",
       "      <td>0.608646</td>\n",
       "      <td>0.510239</td>\n",
       "      <td>w2v</td>\n",
       "      <td>target_0.01</td>\n",
       "      <td>target</td>\n",
       "      <td>1</td>\n",
       "    </tr>\n",
       "    <tr>\n",
       "      <th>2</th>\n",
       "      <td>2</td>\n",
       "      <td>0.544945</td>\n",
       "      <td>0.487127</td>\n",
       "      <td>0.637307</td>\n",
       "      <td>0.469572</td>\n",
       "      <td>w2v</td>\n",
       "      <td>target_0.01</td>\n",
       "      <td>target</td>\n",
       "      <td>2</td>\n",
       "    </tr>\n",
       "    <tr>\n",
       "      <th>3</th>\n",
       "      <td>3</td>\n",
       "      <td>0.542918</td>\n",
       "      <td>0.571603</td>\n",
       "      <td>0.613745</td>\n",
       "      <td>0.549713</td>\n",
       "      <td>w2v</td>\n",
       "      <td>target_0.01</td>\n",
       "      <td>target</td>\n",
       "      <td>3</td>\n",
       "    </tr>\n",
       "    <tr>\n",
       "      <th>4</th>\n",
       "      <td>4</td>\n",
       "      <td>0.514990</td>\n",
       "      <td>0.548036</td>\n",
       "      <td>0.603808</td>\n",
       "      <td>0.523012</td>\n",
       "      <td>w2v</td>\n",
       "      <td>target_0.01</td>\n",
       "      <td>target</td>\n",
       "      <td>4</td>\n",
       "    </tr>\n",
       "    <tr>\n",
       "      <th>5</th>\n",
       "      <td>5</td>\n",
       "      <td>0.553795</td>\n",
       "      <td>0.406432</td>\n",
       "      <td>0.681287</td>\n",
       "      <td>0.420884</td>\n",
       "      <td>w2v</td>\n",
       "      <td>target_0.01</td>\n",
       "      <td>target</td>\n",
       "      <td>5</td>\n",
       "    </tr>\n",
       "    <tr>\n",
       "      <th>6</th>\n",
       "      <td>6</td>\n",
       "      <td>0.542827</td>\n",
       "      <td>0.567166</td>\n",
       "      <td>0.608022</td>\n",
       "      <td>0.545306</td>\n",
       "      <td>w2v</td>\n",
       "      <td>target_0.01</td>\n",
       "      <td>target</td>\n",
       "      <td>6</td>\n",
       "    </tr>\n",
       "    <tr>\n",
       "      <th>7</th>\n",
       "      <td>7</td>\n",
       "      <td>0.535134</td>\n",
       "      <td>0.600496</td>\n",
       "      <td>0.601833</td>\n",
       "      <td>0.599193</td>\n",
       "      <td>w2v</td>\n",
       "      <td>target_0.01</td>\n",
       "      <td>target</td>\n",
       "      <td>7</td>\n",
       "    </tr>\n",
       "    <tr>\n",
       "      <th>8</th>\n",
       "      <td>8</td>\n",
       "      <td>0.567580</td>\n",
       "      <td>0.574496</td>\n",
       "      <td>0.629471</td>\n",
       "      <td>0.551045</td>\n",
       "      <td>w2v</td>\n",
       "      <td>target_0.01</td>\n",
       "      <td>target</td>\n",
       "      <td>8</td>\n",
       "    </tr>\n",
       "    <tr>\n",
       "      <th>9</th>\n",
       "      <td>9</td>\n",
       "      <td>0.565250</td>\n",
       "      <td>0.536983</td>\n",
       "      <td>0.653093</td>\n",
       "      <td>0.514459</td>\n",
       "      <td>w2v</td>\n",
       "      <td>target_0.01</td>\n",
       "      <td>target</td>\n",
       "      <td>9</td>\n",
       "    </tr>\n",
       "    <tr>\n",
       "      <th>10</th>\n",
       "      <td>10</td>\n",
       "      <td>0.581859</td>\n",
       "      <td>0.602303</td>\n",
       "      <td>0.633092</td>\n",
       "      <td>0.584548</td>\n",
       "      <td>w2v</td>\n",
       "      <td>target_0.05</td>\n",
       "      <td>target</td>\n",
       "      <td>0</td>\n",
       "    </tr>\n",
       "    <tr>\n",
       "      <th>11</th>\n",
       "      <td>11</td>\n",
       "      <td>0.558974</td>\n",
       "      <td>0.627978</td>\n",
       "      <td>0.612401</td>\n",
       "      <td>0.654366</td>\n",
       "      <td>w2v</td>\n",
       "      <td>target_0.05</td>\n",
       "      <td>target</td>\n",
       "      <td>1</td>\n",
       "    </tr>\n",
       "    <tr>\n",
       "      <th>12</th>\n",
       "      <td>12</td>\n",
       "      <td>0.576098</td>\n",
       "      <td>0.630430</td>\n",
       "      <td>0.625883</td>\n",
       "      <td>0.635574</td>\n",
       "      <td>w2v</td>\n",
       "      <td>target_0.05</td>\n",
       "      <td>target</td>\n",
       "      <td>2</td>\n",
       "    </tr>\n",
       "    <tr>\n",
       "      <th>13</th>\n",
       "      <td>13</td>\n",
       "      <td>0.581473</td>\n",
       "      <td>0.613828</td>\n",
       "      <td>0.637128</td>\n",
       "      <td>0.598988</td>\n",
       "      <td>w2v</td>\n",
       "      <td>target_0.05</td>\n",
       "      <td>target</td>\n",
       "      <td>3</td>\n",
       "    </tr>\n",
       "    <tr>\n",
       "      <th>14</th>\n",
       "      <td>14</td>\n",
       "      <td>0.545420</td>\n",
       "      <td>0.630329</td>\n",
       "      <td>0.614808</td>\n",
       "      <td>0.657394</td>\n",
       "      <td>w2v</td>\n",
       "      <td>target_0.05</td>\n",
       "      <td>target</td>\n",
       "      <td>4</td>\n",
       "    </tr>\n",
       "    <tr>\n",
       "      <th>15</th>\n",
       "      <td>15</td>\n",
       "      <td>0.565246</td>\n",
       "      <td>0.611770</td>\n",
       "      <td>0.612556</td>\n",
       "      <td>0.610997</td>\n",
       "      <td>w2v</td>\n",
       "      <td>target_0.05</td>\n",
       "      <td>target</td>\n",
       "      <td>5</td>\n",
       "    </tr>\n",
       "    <tr>\n",
       "      <th>16</th>\n",
       "      <td>16</td>\n",
       "      <td>0.576348</td>\n",
       "      <td>0.561889</td>\n",
       "      <td>0.647119</td>\n",
       "      <td>0.537513</td>\n",
       "      <td>w2v</td>\n",
       "      <td>target_0.05</td>\n",
       "      <td>target</td>\n",
       "      <td>6</td>\n",
       "    </tr>\n",
       "    <tr>\n",
       "      <th>17</th>\n",
       "      <td>17</td>\n",
       "      <td>0.552997</td>\n",
       "      <td>0.629294</td>\n",
       "      <td>0.611473</td>\n",
       "      <td>0.666044</td>\n",
       "      <td>w2v</td>\n",
       "      <td>target_0.05</td>\n",
       "      <td>target</td>\n",
       "      <td>7</td>\n",
       "    </tr>\n",
       "    <tr>\n",
       "      <th>18</th>\n",
       "      <td>18</td>\n",
       "      <td>0.543835</td>\n",
       "      <td>0.611263</td>\n",
       "      <td>0.611277</td>\n",
       "      <td>0.611249</td>\n",
       "      <td>w2v</td>\n",
       "      <td>target_0.05</td>\n",
       "      <td>target</td>\n",
       "      <td>8</td>\n",
       "    </tr>\n",
       "    <tr>\n",
       "      <th>19</th>\n",
       "      <td>19</td>\n",
       "      <td>0.578212</td>\n",
       "      <td>0.604355</td>\n",
       "      <td>0.645628</td>\n",
       "      <td>0.584291</td>\n",
       "      <td>w2v</td>\n",
       "      <td>target_0.05</td>\n",
       "      <td>target</td>\n",
       "      <td>9</td>\n",
       "    </tr>\n",
       "    <tr>\n",
       "      <th>20</th>\n",
       "      <td>20</td>\n",
       "      <td>0.607993</td>\n",
       "      <td>0.483176</td>\n",
       "      <td>0.692644</td>\n",
       "      <td>0.476909</td>\n",
       "      <td>w2v</td>\n",
       "      <td>target_0.1</td>\n",
       "      <td>target</td>\n",
       "      <td>0</td>\n",
       "    </tr>\n",
       "    <tr>\n",
       "      <th>21</th>\n",
       "      <td>21</td>\n",
       "      <td>0.611773</td>\n",
       "      <td>0.477628</td>\n",
       "      <td>0.690736</td>\n",
       "      <td>0.472381</td>\n",
       "      <td>w2v</td>\n",
       "      <td>target_0.1</td>\n",
       "      <td>target</td>\n",
       "      <td>1</td>\n",
       "    </tr>\n",
       "    <tr>\n",
       "      <th>22</th>\n",
       "      <td>22</td>\n",
       "      <td>0.613975</td>\n",
       "      <td>0.440861</td>\n",
       "      <td>0.721542</td>\n",
       "      <td>0.451256</td>\n",
       "      <td>w2v</td>\n",
       "      <td>target_0.1</td>\n",
       "      <td>target</td>\n",
       "      <td>2</td>\n",
       "    </tr>\n",
       "    <tr>\n",
       "      <th>23</th>\n",
       "      <td>23</td>\n",
       "      <td>0.616523</td>\n",
       "      <td>0.460555</td>\n",
       "      <td>0.709911</td>\n",
       "      <td>0.463256</td>\n",
       "      <td>w2v</td>\n",
       "      <td>target_0.1</td>\n",
       "      <td>target</td>\n",
       "      <td>3</td>\n",
       "    </tr>\n",
       "    <tr>\n",
       "      <th>24</th>\n",
       "      <td>24</td>\n",
       "      <td>0.611024</td>\n",
       "      <td>0.434637</td>\n",
       "      <td>0.716287</td>\n",
       "      <td>0.446043</td>\n",
       "      <td>w2v</td>\n",
       "      <td>target_0.1</td>\n",
       "      <td>target</td>\n",
       "      <td>4</td>\n",
       "    </tr>\n",
       "    <tr>\n",
       "      <th>25</th>\n",
       "      <td>25</td>\n",
       "      <td>0.627453</td>\n",
       "      <td>0.561601</td>\n",
       "      <td>0.675884</td>\n",
       "      <td>0.539679</td>\n",
       "      <td>w2v</td>\n",
       "      <td>target_0.1</td>\n",
       "      <td>target</td>\n",
       "      <td>5</td>\n",
       "    </tr>\n",
       "    <tr>\n",
       "      <th>26</th>\n",
       "      <td>26</td>\n",
       "      <td>0.615968</td>\n",
       "      <td>0.438714</td>\n",
       "      <td>0.727282</td>\n",
       "      <td>0.450711</td>\n",
       "      <td>w2v</td>\n",
       "      <td>target_0.1</td>\n",
       "      <td>target</td>\n",
       "      <td>6</td>\n",
       "    </tr>\n",
       "    <tr>\n",
       "      <th>27</th>\n",
       "      <td>27</td>\n",
       "      <td>0.616234</td>\n",
       "      <td>0.589685</td>\n",
       "      <td>0.660056</td>\n",
       "      <td>0.566469</td>\n",
       "      <td>w2v</td>\n",
       "      <td>target_0.1</td>\n",
       "      <td>target</td>\n",
       "      <td>7</td>\n",
       "    </tr>\n",
       "    <tr>\n",
       "      <th>28</th>\n",
       "      <td>28</td>\n",
       "      <td>0.615622</td>\n",
       "      <td>0.564866</td>\n",
       "      <td>0.668033</td>\n",
       "      <td>0.541957</td>\n",
       "      <td>w2v</td>\n",
       "      <td>target_0.1</td>\n",
       "      <td>target</td>\n",
       "      <td>8</td>\n",
       "    </tr>\n",
       "    <tr>\n",
       "      <th>29</th>\n",
       "      <td>29</td>\n",
       "      <td>0.620863</td>\n",
       "      <td>0.490862</td>\n",
       "      <td>0.695445</td>\n",
       "      <td>0.483277</td>\n",
       "      <td>w2v</td>\n",
       "      <td>target_0.1</td>\n",
       "      <td>target</td>\n",
       "      <td>9</td>\n",
       "    </tr>\n",
       "    <tr>\n",
       "      <th>30</th>\n",
       "      <td>30</td>\n",
       "      <td>0.624230</td>\n",
       "      <td>0.432651</td>\n",
       "      <td>0.731696</td>\n",
       "      <td>0.447222</td>\n",
       "      <td>w2v</td>\n",
       "      <td>target_0.5</td>\n",
       "      <td>target</td>\n",
       "      <td>0</td>\n",
       "    </tr>\n",
       "    <tr>\n",
       "      <th>31</th>\n",
       "      <td>31</td>\n",
       "      <td>0.634038</td>\n",
       "      <td>0.448322</td>\n",
       "      <td>0.730240</td>\n",
       "      <td>0.457950</td>\n",
       "      <td>w2v</td>\n",
       "      <td>target_0.5</td>\n",
       "      <td>target</td>\n",
       "      <td>1</td>\n",
       "    </tr>\n",
       "    <tr>\n",
       "      <th>32</th>\n",
       "      <td>32</td>\n",
       "      <td>0.623857</td>\n",
       "      <td>0.504877</td>\n",
       "      <td>0.689220</td>\n",
       "      <td>0.493138</td>\n",
       "      <td>w2v</td>\n",
       "      <td>target_0.5</td>\n",
       "      <td>target</td>\n",
       "      <td>2</td>\n",
       "    </tr>\n",
       "    <tr>\n",
       "      <th>33</th>\n",
       "      <td>33</td>\n",
       "      <td>0.618842</td>\n",
       "      <td>0.644624</td>\n",
       "      <td>0.636902</td>\n",
       "      <td>0.654696</td>\n",
       "      <td>w2v</td>\n",
       "      <td>target_0.5</td>\n",
       "      <td>target</td>\n",
       "      <td>3</td>\n",
       "    </tr>\n",
       "    <tr>\n",
       "      <th>34</th>\n",
       "      <td>34</td>\n",
       "      <td>0.608705</td>\n",
       "      <td>0.452356</td>\n",
       "      <td>0.707929</td>\n",
       "      <td>0.457023</td>\n",
       "      <td>w2v</td>\n",
       "      <td>target_0.5</td>\n",
       "      <td>target</td>\n",
       "      <td>4</td>\n",
       "    </tr>\n",
       "    <tr>\n",
       "      <th>35</th>\n",
       "      <td>35</td>\n",
       "      <td>0.615659</td>\n",
       "      <td>0.541507</td>\n",
       "      <td>0.670809</td>\n",
       "      <td>0.520850</td>\n",
       "      <td>w2v</td>\n",
       "      <td>target_0.5</td>\n",
       "      <td>target</td>\n",
       "      <td>5</td>\n",
       "    </tr>\n",
       "    <tr>\n",
       "      <th>36</th>\n",
       "      <td>36</td>\n",
       "      <td>0.619284</td>\n",
       "      <td>0.485810</td>\n",
       "      <td>0.689525</td>\n",
       "      <td>0.478348</td>\n",
       "      <td>w2v</td>\n",
       "      <td>target_0.5</td>\n",
       "      <td>target</td>\n",
       "      <td>6</td>\n",
       "    </tr>\n",
       "    <tr>\n",
       "      <th>37</th>\n",
       "      <td>37</td>\n",
       "      <td>0.603653</td>\n",
       "      <td>0.493334</td>\n",
       "      <td>0.680243</td>\n",
       "      <td>0.482466</td>\n",
       "      <td>w2v</td>\n",
       "      <td>target_0.5</td>\n",
       "      <td>target</td>\n",
       "      <td>7</td>\n",
       "    </tr>\n",
       "    <tr>\n",
       "      <th>38</th>\n",
       "      <td>38</td>\n",
       "      <td>0.619074</td>\n",
       "      <td>0.507257</td>\n",
       "      <td>0.694167</td>\n",
       "      <td>0.495882</td>\n",
       "      <td>w2v</td>\n",
       "      <td>target_0.5</td>\n",
       "      <td>target</td>\n",
       "      <td>8</td>\n",
       "    </tr>\n",
       "    <tr>\n",
       "      <th>39</th>\n",
       "      <td>39</td>\n",
       "      <td>0.610866</td>\n",
       "      <td>0.560353</td>\n",
       "      <td>0.650775</td>\n",
       "      <td>0.536213</td>\n",
       "      <td>w2v</td>\n",
       "      <td>target_0.5</td>\n",
       "      <td>target</td>\n",
       "      <td>9</td>\n",
       "    </tr>\n",
       "  </tbody>\n",
       "</table>\n",
       "</div>"
      ],
      "text/plain": [
       "    Unnamed: 0   ROC_AUC  Weighted F1 score  Weighted precision  \\\n",
       "0            0  0.523191           0.580599            0.594850   \n",
       "1            1  0.525248           0.536452            0.608646   \n",
       "2            2  0.544945           0.487127            0.637307   \n",
       "3            3  0.542918           0.571603            0.613745   \n",
       "4            4  0.514990           0.548036            0.603808   \n",
       "5            5  0.553795           0.406432            0.681287   \n",
       "6            6  0.542827           0.567166            0.608022   \n",
       "7            7  0.535134           0.600496            0.601833   \n",
       "8            8  0.567580           0.574496            0.629471   \n",
       "9            9  0.565250           0.536983            0.653093   \n",
       "10          10  0.581859           0.602303            0.633092   \n",
       "11          11  0.558974           0.627978            0.612401   \n",
       "12          12  0.576098           0.630430            0.625883   \n",
       "13          13  0.581473           0.613828            0.637128   \n",
       "14          14  0.545420           0.630329            0.614808   \n",
       "15          15  0.565246           0.611770            0.612556   \n",
       "16          16  0.576348           0.561889            0.647119   \n",
       "17          17  0.552997           0.629294            0.611473   \n",
       "18          18  0.543835           0.611263            0.611277   \n",
       "19          19  0.578212           0.604355            0.645628   \n",
       "20          20  0.607993           0.483176            0.692644   \n",
       "21          21  0.611773           0.477628            0.690736   \n",
       "22          22  0.613975           0.440861            0.721542   \n",
       "23          23  0.616523           0.460555            0.709911   \n",
       "24          24  0.611024           0.434637            0.716287   \n",
       "25          25  0.627453           0.561601            0.675884   \n",
       "26          26  0.615968           0.438714            0.727282   \n",
       "27          27  0.616234           0.589685            0.660056   \n",
       "28          28  0.615622           0.564866            0.668033   \n",
       "29          29  0.620863           0.490862            0.695445   \n",
       "30          30  0.624230           0.432651            0.731696   \n",
       "31          31  0.634038           0.448322            0.730240   \n",
       "32          32  0.623857           0.504877            0.689220   \n",
       "33          33  0.618842           0.644624            0.636902   \n",
       "34          34  0.608705           0.452356            0.707929   \n",
       "35          35  0.615659           0.541507            0.670809   \n",
       "36          36  0.619284           0.485810            0.689525   \n",
       "37          37  0.603653           0.493334            0.680243   \n",
       "38          38  0.619074           0.507257            0.694167   \n",
       "39          39  0.610866           0.560353            0.650775   \n",
       "\n",
       "    Weighted recall Embedding Training set Testing set  Model index  \n",
       "0          0.569338       w2v  target_0.01      target            0  \n",
       "1          0.510239       w2v  target_0.01      target            1  \n",
       "2          0.469572       w2v  target_0.01      target            2  \n",
       "3          0.549713       w2v  target_0.01      target            3  \n",
       "4          0.523012       w2v  target_0.01      target            4  \n",
       "5          0.420884       w2v  target_0.01      target            5  \n",
       "6          0.545306       w2v  target_0.01      target            6  \n",
       "7          0.599193       w2v  target_0.01      target            7  \n",
       "8          0.551045       w2v  target_0.01      target            8  \n",
       "9          0.514459       w2v  target_0.01      target            9  \n",
       "10         0.584548       w2v  target_0.05      target            0  \n",
       "11         0.654366       w2v  target_0.05      target            1  \n",
       "12         0.635574       w2v  target_0.05      target            2  \n",
       "13         0.598988       w2v  target_0.05      target            3  \n",
       "14         0.657394       w2v  target_0.05      target            4  \n",
       "15         0.610997       w2v  target_0.05      target            5  \n",
       "16         0.537513       w2v  target_0.05      target            6  \n",
       "17         0.666044       w2v  target_0.05      target            7  \n",
       "18         0.611249       w2v  target_0.05      target            8  \n",
       "19         0.584291       w2v  target_0.05      target            9  \n",
       "20         0.476909       w2v   target_0.1      target            0  \n",
       "21         0.472381       w2v   target_0.1      target            1  \n",
       "22         0.451256       w2v   target_0.1      target            2  \n",
       "23         0.463256       w2v   target_0.1      target            3  \n",
       "24         0.446043       w2v   target_0.1      target            4  \n",
       "25         0.539679       w2v   target_0.1      target            5  \n",
       "26         0.450711       w2v   target_0.1      target            6  \n",
       "27         0.566469       w2v   target_0.1      target            7  \n",
       "28         0.541957       w2v   target_0.1      target            8  \n",
       "29         0.483277       w2v   target_0.1      target            9  \n",
       "30         0.447222       w2v   target_0.5      target            0  \n",
       "31         0.457950       w2v   target_0.5      target            1  \n",
       "32         0.493138       w2v   target_0.5      target            2  \n",
       "33         0.654696       w2v   target_0.5      target            3  \n",
       "34         0.457023       w2v   target_0.5      target            4  \n",
       "35         0.520850       w2v   target_0.5      target            5  \n",
       "36         0.478348       w2v   target_0.5      target            6  \n",
       "37         0.482466       w2v   target_0.5      target            7  \n",
       "38         0.495882       w2v   target_0.5      target            8  \n",
       "39         0.536213       w2v   target_0.5      target            9  "
      ]
     },
     "execution_count": 179,
     "metadata": {},
     "output_type": "execute_result"
    }
   ],
   "source": [
    "res_w2v\n"
   ]
  },
  {
   "cell_type": "code",
   "execution_count": 81,
   "id": "7f2ba5e8-a694-45f2-a525-004eb9b387ca",
   "metadata": {},
   "outputs": [],
   "source": [
    "w2v_100 = pd.read_csv(\"../../Result/641620split/LSTM/Scale_w2v_100.csv\")"
   ]
  },
  {
   "cell_type": "code",
   "execution_count": 83,
   "id": "49480c54-e791-47db-b5c8-6af3c6ef5488",
   "metadata": {},
   "outputs": [],
   "source": [
    "w2v_100 = w2v_100[w2v_100[\"Testing set\"] == \"target\"]"
   ]
  },
  {
   "cell_type": "code",
   "execution_count": 85,
   "id": "9323ad20-7219-466f-b61b-c09a6e83c09b",
   "metadata": {},
   "outputs": [
    {
     "data": {
      "text/html": [
       "<div>\n",
       "<style scoped>\n",
       "    .dataframe tbody tr th:only-of-type {\n",
       "        vertical-align: middle;\n",
       "    }\n",
       "\n",
       "    .dataframe tbody tr th {\n",
       "        vertical-align: top;\n",
       "    }\n",
       "\n",
       "    .dataframe thead th {\n",
       "        text-align: right;\n",
       "    }\n",
       "</style>\n",
       "<table border=\"1\" class=\"dataframe\">\n",
       "  <thead>\n",
       "    <tr style=\"text-align: right;\">\n",
       "      <th></th>\n",
       "      <th>ROC_AUC</th>\n",
       "      <th>Weighted F1 score</th>\n",
       "    </tr>\n",
       "  </thead>\n",
       "  <tbody>\n",
       "    <tr>\n",
       "      <th>0</th>\n",
       "      <td>0.595461</td>\n",
       "      <td>0.614613</td>\n",
       "    </tr>\n",
       "    <tr>\n",
       "      <th>1</th>\n",
       "      <td>0.624541</td>\n",
       "      <td>0.619586</td>\n",
       "    </tr>\n",
       "    <tr>\n",
       "      <th>2</th>\n",
       "      <td>0.586815</td>\n",
       "      <td>0.549732</td>\n",
       "    </tr>\n",
       "    <tr>\n",
       "      <th>3</th>\n",
       "      <td>0.608985</td>\n",
       "      <td>0.544130</td>\n",
       "    </tr>\n",
       "    <tr>\n",
       "      <th>4</th>\n",
       "      <td>0.600479</td>\n",
       "      <td>0.558132</td>\n",
       "    </tr>\n",
       "    <tr>\n",
       "      <th>5</th>\n",
       "      <td>0.609029</td>\n",
       "      <td>0.410310</td>\n",
       "    </tr>\n",
       "    <tr>\n",
       "      <th>6</th>\n",
       "      <td>0.606099</td>\n",
       "      <td>0.569504</td>\n",
       "    </tr>\n",
       "    <tr>\n",
       "      <th>7</th>\n",
       "      <td>0.627638</td>\n",
       "      <td>0.598759</td>\n",
       "    </tr>\n",
       "    <tr>\n",
       "      <th>8</th>\n",
       "      <td>0.609128</td>\n",
       "      <td>0.593824</td>\n",
       "    </tr>\n",
       "    <tr>\n",
       "      <th>9</th>\n",
       "      <td>0.625923</td>\n",
       "      <td>0.519940</td>\n",
       "    </tr>\n",
       "  </tbody>\n",
       "</table>\n",
       "</div>"
      ],
      "text/plain": [
       "    ROC_AUC  Weighted F1 score\n",
       "0  0.595461           0.614613\n",
       "1  0.624541           0.619586\n",
       "2  0.586815           0.549732\n",
       "3  0.608985           0.544130\n",
       "4  0.600479           0.558132\n",
       "5  0.609029           0.410310\n",
       "6  0.606099           0.569504\n",
       "7  0.627638           0.598759\n",
       "8  0.609128           0.593824\n",
       "9  0.625923           0.519940"
      ]
     },
     "execution_count": 85,
     "metadata": {},
     "output_type": "execute_result"
    }
   ],
   "source": [
    "w2v_100 = w2v_100[[\"ROC_AUC\", \"Weighted F1 score\"]].reset_index_index(drop=True)\n",
    "w2v_100"
   ]
  },
  {
   "cell_type": "code",
   "execution_count": 90,
   "id": "b487e81f-5396-4800-8cf8-6f43448f6dc2",
   "metadata": {},
   "outputs": [],
   "source": [
    "res_w2v = res_w2v[[\"ROC_AUC\", \"Weighted F1 score\"]]"
   ]
  },
  {
   "cell_type": "code",
   "execution_count": 91,
   "id": "0d99a188-859c-4072-a72b-b5c321a5fce2",
   "metadata": {},
   "outputs": [
    {
     "data": {
      "text/html": [
       "<div>\n",
       "<style scoped>\n",
       "    .dataframe tbody tr th:only-of-type {\n",
       "        vertical-align: middle;\n",
       "    }\n",
       "\n",
       "    .dataframe tbody tr th {\n",
       "        vertical-align: top;\n",
       "    }\n",
       "\n",
       "    .dataframe thead th {\n",
       "        text-align: right;\n",
       "    }\n",
       "</style>\n",
       "<table border=\"1\" class=\"dataframe\">\n",
       "  <thead>\n",
       "    <tr style=\"text-align: right;\">\n",
       "      <th></th>\n",
       "      <th>ROC_AUC</th>\n",
       "      <th>Weighted F1 score</th>\n",
       "    </tr>\n",
       "  </thead>\n",
       "  <tbody>\n",
       "    <tr>\n",
       "      <th>0</th>\n",
       "      <td>0.535455</td>\n",
       "      <td>0.562171</td>\n",
       "    </tr>\n",
       "    <tr>\n",
       "      <th>1</th>\n",
       "      <td>0.576242</td>\n",
       "      <td>0.487172</td>\n",
       "    </tr>\n",
       "    <tr>\n",
       "      <th>2</th>\n",
       "      <td>0.532818</td>\n",
       "      <td>0.425265</td>\n",
       "    </tr>\n",
       "    <tr>\n",
       "      <th>9</th>\n",
       "      <td>0.538314</td>\n",
       "      <td>0.624399</td>\n",
       "    </tr>\n",
       "    <tr>\n",
       "      <th>10</th>\n",
       "      <td>0.583160</td>\n",
       "      <td>0.626587</td>\n",
       "    </tr>\n",
       "    <tr>\n",
       "      <th>11</th>\n",
       "      <td>0.571485</td>\n",
       "      <td>0.616771</td>\n",
       "    </tr>\n",
       "    <tr>\n",
       "      <th>18</th>\n",
       "      <td>0.620514</td>\n",
       "      <td>0.608130</td>\n",
       "    </tr>\n",
       "    <tr>\n",
       "      <th>19</th>\n",
       "      <td>0.612618</td>\n",
       "      <td>0.459442</td>\n",
       "    </tr>\n",
       "    <tr>\n",
       "      <th>20</th>\n",
       "      <td>0.607395</td>\n",
       "      <td>0.509854</td>\n",
       "    </tr>\n",
       "    <tr>\n",
       "      <th>27</th>\n",
       "      <td>0.615987</td>\n",
       "      <td>0.497927</td>\n",
       "    </tr>\n",
       "    <tr>\n",
       "      <th>28</th>\n",
       "      <td>0.614663</td>\n",
       "      <td>0.483539</td>\n",
       "    </tr>\n",
       "    <tr>\n",
       "      <th>29</th>\n",
       "      <td>0.619309</td>\n",
       "      <td>0.559886</td>\n",
       "    </tr>\n",
       "  </tbody>\n",
       "</table>\n",
       "</div>"
      ],
      "text/plain": [
       "     ROC_AUC  Weighted F1 score\n",
       "0   0.535455           0.562171\n",
       "1   0.576242           0.487172\n",
       "2   0.532818           0.425265\n",
       "9   0.538314           0.624399\n",
       "10  0.583160           0.626587\n",
       "11  0.571485           0.616771\n",
       "18  0.620514           0.608130\n",
       "19  0.612618           0.459442\n",
       "20  0.607395           0.509854\n",
       "27  0.615987           0.497927\n",
       "28  0.614663           0.483539\n",
       "29  0.619309           0.559886"
      ]
     },
     "execution_count": 91,
     "metadata": {},
     "output_type": "execute_result"
    }
   ],
   "source": [
    "res_w2v"
   ]
  },
  {
   "cell_type": "code",
   "execution_count": 180,
   "id": "735be35d-2e12-40d9-91f4-6f7f2393d249",
   "metadata": {},
   "outputs": [],
   "source": [
    "scale_plot_data_list = [res_w2v[:10], res_w2v[10:20], res_w2v[20:30], res_w2v[30:40], w2v_100[:10]]"
   ]
  },
  {
   "cell_type": "code",
   "execution_count": 181,
   "id": "25bda8b7-4123-4fab-ad52-ec406c35676e",
   "metadata": {},
   "outputs": [],
   "source": [
    "auc_roc_list = []\n",
    "f1_list = []\n",
    "for exper_group in scale_plot_data_list:\n",
    "    auc_roc_list.append(exper_group[\"ROC_AUC\"].values.tolist())\n",
    "    f1_list.append(exper_group[\"Weighted F1 score\"].values.tolist())\n"
   ]
  },
  {
   "cell_type": "code",
   "execution_count": 182,
   "id": "0af923a7-7efd-4571-be14-8f34d8d9c391",
   "metadata": {},
   "outputs": [
    {
     "data": {
      "text/plain": [
       "[[0.5231909693715584,\n",
       "  0.5252475717662184,\n",
       "  0.5449448631210561,\n",
       "  0.5429180927187068,\n",
       "  0.5149904782041062,\n",
       "  0.5537947518125258,\n",
       "  0.5428265471906522,\n",
       "  0.5351342352288126,\n",
       "  0.567580326402523,\n",
       "  0.5652496778468457],\n",
       " [0.5818585956624847,\n",
       "  0.558974489113283,\n",
       "  0.5760978449138486,\n",
       "  0.5814728484753724,\n",
       "  0.5454203094437935,\n",
       "  0.5652462027553454,\n",
       "  0.5763476400674198,\n",
       "  0.552996588069405,\n",
       "  0.5438346397866984,\n",
       "  0.5782115135619337],\n",
       " [0.6079925262145539,\n",
       "  0.611772981997003,\n",
       "  0.613975160387819,\n",
       "  0.6165230544489618,\n",
       "  0.6110243192956588,\n",
       "  0.6274525630012779,\n",
       "  0.6159680306702369,\n",
       "  0.6162339882627801,\n",
       "  0.6156216459153723,\n",
       "  0.6208626169446066],\n",
       " [0.6242301435927373,\n",
       "  0.6340381239984128,\n",
       "  0.6238565769995403,\n",
       "  0.6188418204530184,\n",
       "  0.6087047530684547,\n",
       "  0.615658583344862,\n",
       "  0.6192835357369876,\n",
       "  0.6036532724852826,\n",
       "  0.6190742022609712,\n",
       "  0.610865911530806],\n",
       " [0.595460983006284,\n",
       "  0.624541425552161,\n",
       "  0.586814906251114,\n",
       "  0.608985337923577,\n",
       "  0.600478796296355,\n",
       "  0.609028776485677,\n",
       "  0.606098908480091,\n",
       "  0.62763775641235,\n",
       "  0.609127578350132,\n",
       "  0.625922978208295]]"
      ]
     },
     "execution_count": 182,
     "metadata": {},
     "output_type": "execute_result"
    }
   ],
   "source": [
    "auc_roc_list"
   ]
  },
  {
   "cell_type": "code",
   "execution_count": 198,
   "id": "0179a2ba-559d-4408-a98f-e3ff60c6fb69",
   "metadata": {},
   "outputs": [
    {
     "data": {
      "application/vnd.plotly.v1+json": {
       "config": {
        "plotlyServerURL": "https://plot.ly"
       },
       "data": [
        {
         "boxpoints": "all",
         "jitter": 0.3,
         "marker": {
          "color": "#004A9F"
         },
         "name": "AUC_ROC",
         "pointpos": -1.4,
         "type": "box",
         "x": [
          "1",
          "1",
          "1",
          "1",
          "1",
          "1",
          "1",
          "1",
          "1",
          "1",
          "5",
          "5",
          "5",
          "5",
          "5",
          "5",
          "5",
          "5",
          "5",
          "5",
          "10",
          "10",
          "10",
          "10",
          "10",
          "10",
          "10",
          "10",
          "10",
          "10",
          "50",
          "50",
          "50",
          "50",
          "50",
          "50",
          "50",
          "50",
          "50",
          "50",
          "100",
          "100",
          "100",
          "100",
          "100",
          "100",
          "100",
          "100",
          "100",
          "100"
         ],
         "y": [
          0.5231909693715584,
          0.5252475717662184,
          0.5449448631210561,
          0.5429180927187068,
          0.5149904782041062,
          0.5537947518125258,
          0.5428265471906522,
          0.5351342352288126,
          0.567580326402523,
          0.5652496778468457,
          0.5818585956624847,
          0.558974489113283,
          0.5760978449138486,
          0.5814728484753724,
          0.5454203094437935,
          0.5652462027553454,
          0.5763476400674198,
          0.552996588069405,
          0.5438346397866984,
          0.5782115135619337,
          0.6079925262145539,
          0.611772981997003,
          0.613975160387819,
          0.6165230544489618,
          0.6110243192956588,
          0.6274525630012779,
          0.6159680306702369,
          0.6162339882627801,
          0.6156216459153723,
          0.6208626169446066,
          0.6242301435927373,
          0.6340381239984128,
          0.6238565769995403,
          0.6188418204530184,
          0.6087047530684547,
          0.615658583344862,
          0.6192835357369876,
          0.6036532724852826,
          0.6190742022609712,
          0.610865911530806,
          0.595460983006284,
          0.624541425552161,
          0.586814906251114,
          0.608985337923577,
          0.600478796296355,
          0.609028776485677,
          0.606098908480091,
          0.62763775641235,
          0.609127578350132,
          0.625922978208295
         ]
        },
        {
         "boxpoints": "all",
         "jitter": 0.3,
         "marker": {
          "color": "#C50F3C"
         },
         "name": "f1",
         "pointpos": -1.4,
         "type": "box",
         "x": [
          "1",
          "1",
          "1",
          "1",
          "1",
          "1",
          "1",
          "1",
          "1",
          "1",
          "5",
          "5",
          "5",
          "5",
          "5",
          "5",
          "5",
          "5",
          "5",
          "5",
          "10",
          "10",
          "10",
          "10",
          "10",
          "10",
          "10",
          "10",
          "10",
          "10",
          "50",
          "50",
          "50",
          "50",
          "50",
          "50",
          "50",
          "50",
          "50",
          "50",
          "100",
          "100",
          "100",
          "100",
          "100",
          "100",
          "100",
          "100",
          "100",
          "100"
         ],
         "y": [
          0.5805991953198699,
          0.5364516988509486,
          0.4871272965914888,
          0.5716025761173786,
          0.548035669207181,
          0.406432298795795,
          0.5671659778542789,
          0.6004960356529736,
          0.5744962324815965,
          0.5369829003887168,
          0.6023026317721971,
          0.6279781824066194,
          0.6304301716539076,
          0.6138284105867723,
          0.6303292521771565,
          0.6117699261828584,
          0.5618887554817442,
          0.6292941650626667,
          0.6112631055334602,
          0.6043546082892766,
          0.4831761535549271,
          0.4776284312466548,
          0.4408609302992491,
          0.4605545648980566,
          0.4346373481330478,
          0.5616011900855665,
          0.4387142522048667,
          0.5896854210388556,
          0.5648662317699662,
          0.4908615024833989,
          0.4326508039973737,
          0.4483223866981688,
          0.5048772058975569,
          0.6446236101686655,
          0.4523557992750331,
          0.5415069069973395,
          0.4858104146466905,
          0.4933344720023532,
          0.5072566454476551,
          0.5603532313294307,
          0.614612663274617,
          0.619586232466791,
          0.549732351547391,
          0.544130406293101,
          0.55813153381323,
          0.410309651549997,
          0.569503517197403,
          0.598759095080993,
          0.593823799528257,
          0.519940087918998
         ]
        }
       ],
       "layout": {
        "annotations": [
         {
          "arrowhead": 1,
          "ax": -20,
          "ay": 30,
          "font": {
           "size": 18
          },
          "showarrow": true,
          "text": "Transferred model AUC-ROC",
          "x": 5.8,
          "y": 0.568
         },
         {
          "arrowhead": 1,
          "ax": -20,
          "ay": -30,
          "font": {
           "size": 18
          },
          "showarrow": true,
          "text": "Transferred model F1 score",
          "x": 5.8,
          "y": 0.588
         }
        ],
        "bargap": 0.5,
        "bargroupgap": 1,
        "boxmode": "group",
        "height": 800,
        "legend": {
         "font": {
          "size": 16
         }
        },
        "margin": {
         "b": 30,
         "l": 80,
         "r": 100,
         "t": 50
        },
        "plot_bgcolor": "rgba(0, 0, 0, 0)",
        "shapes": [
         {
          "line": {
           "color": "#004A9F",
           "dash": "dot",
           "width": 4
          },
          "opacity": 0.7,
          "type": "line",
          "x0": -0.5,
          "x1": 6.5,
          "y0": 0.5702,
          "y1": 0.5702
         },
         {
          "line": {
           "color": "#C50F3C",
           "dash": "dot",
           "width": 4
          },
          "opacity": 0.7,
          "type": "line",
          "x0": -0.5,
          "x1": 6.5,
          "y0": 0.5842,
          "y1": 0.5842
         }
        ],
        "template": {
         "data": {
          "bar": [
           {
            "error_x": {
             "color": "#2a3f5f"
            },
            "error_y": {
             "color": "#2a3f5f"
            },
            "marker": {
             "line": {
              "color": "#E5ECF6",
              "width": 0.5
             },
             "pattern": {
              "fillmode": "overlay",
              "size": 10,
              "solidity": 0.2
             }
            },
            "type": "bar"
           }
          ],
          "barpolar": [
           {
            "marker": {
             "line": {
              "color": "#E5ECF6",
              "width": 0.5
             },
             "pattern": {
              "fillmode": "overlay",
              "size": 10,
              "solidity": 0.2
             }
            },
            "type": "barpolar"
           }
          ],
          "carpet": [
           {
            "aaxis": {
             "endlinecolor": "#2a3f5f",
             "gridcolor": "white",
             "linecolor": "white",
             "minorgridcolor": "white",
             "startlinecolor": "#2a3f5f"
            },
            "baxis": {
             "endlinecolor": "#2a3f5f",
             "gridcolor": "white",
             "linecolor": "white",
             "minorgridcolor": "white",
             "startlinecolor": "#2a3f5f"
            },
            "type": "carpet"
           }
          ],
          "choropleth": [
           {
            "colorbar": {
             "outlinewidth": 0,
             "ticks": ""
            },
            "type": "choropleth"
           }
          ],
          "contour": [
           {
            "colorbar": {
             "outlinewidth": 0,
             "ticks": ""
            },
            "colorscale": [
             [
              0,
              "#0d0887"
             ],
             [
              0.1111111111111111,
              "#46039f"
             ],
             [
              0.2222222222222222,
              "#7201a8"
             ],
             [
              0.3333333333333333,
              "#9c179e"
             ],
             [
              0.4444444444444444,
              "#bd3786"
             ],
             [
              0.5555555555555556,
              "#d8576b"
             ],
             [
              0.6666666666666666,
              "#ed7953"
             ],
             [
              0.7777777777777778,
              "#fb9f3a"
             ],
             [
              0.8888888888888888,
              "#fdca26"
             ],
             [
              1,
              "#f0f921"
             ]
            ],
            "type": "contour"
           }
          ],
          "contourcarpet": [
           {
            "colorbar": {
             "outlinewidth": 0,
             "ticks": ""
            },
            "type": "contourcarpet"
           }
          ],
          "heatmap": [
           {
            "colorbar": {
             "outlinewidth": 0,
             "ticks": ""
            },
            "colorscale": [
             [
              0,
              "#0d0887"
             ],
             [
              0.1111111111111111,
              "#46039f"
             ],
             [
              0.2222222222222222,
              "#7201a8"
             ],
             [
              0.3333333333333333,
              "#9c179e"
             ],
             [
              0.4444444444444444,
              "#bd3786"
             ],
             [
              0.5555555555555556,
              "#d8576b"
             ],
             [
              0.6666666666666666,
              "#ed7953"
             ],
             [
              0.7777777777777778,
              "#fb9f3a"
             ],
             [
              0.8888888888888888,
              "#fdca26"
             ],
             [
              1,
              "#f0f921"
             ]
            ],
            "type": "heatmap"
           }
          ],
          "heatmapgl": [
           {
            "colorbar": {
             "outlinewidth": 0,
             "ticks": ""
            },
            "colorscale": [
             [
              0,
              "#0d0887"
             ],
             [
              0.1111111111111111,
              "#46039f"
             ],
             [
              0.2222222222222222,
              "#7201a8"
             ],
             [
              0.3333333333333333,
              "#9c179e"
             ],
             [
              0.4444444444444444,
              "#bd3786"
             ],
             [
              0.5555555555555556,
              "#d8576b"
             ],
             [
              0.6666666666666666,
              "#ed7953"
             ],
             [
              0.7777777777777778,
              "#fb9f3a"
             ],
             [
              0.8888888888888888,
              "#fdca26"
             ],
             [
              1,
              "#f0f921"
             ]
            ],
            "type": "heatmapgl"
           }
          ],
          "histogram": [
           {
            "marker": {
             "pattern": {
              "fillmode": "overlay",
              "size": 10,
              "solidity": 0.2
             }
            },
            "type": "histogram"
           }
          ],
          "histogram2d": [
           {
            "colorbar": {
             "outlinewidth": 0,
             "ticks": ""
            },
            "colorscale": [
             [
              0,
              "#0d0887"
             ],
             [
              0.1111111111111111,
              "#46039f"
             ],
             [
              0.2222222222222222,
              "#7201a8"
             ],
             [
              0.3333333333333333,
              "#9c179e"
             ],
             [
              0.4444444444444444,
              "#bd3786"
             ],
             [
              0.5555555555555556,
              "#d8576b"
             ],
             [
              0.6666666666666666,
              "#ed7953"
             ],
             [
              0.7777777777777778,
              "#fb9f3a"
             ],
             [
              0.8888888888888888,
              "#fdca26"
             ],
             [
              1,
              "#f0f921"
             ]
            ],
            "type": "histogram2d"
           }
          ],
          "histogram2dcontour": [
           {
            "colorbar": {
             "outlinewidth": 0,
             "ticks": ""
            },
            "colorscale": [
             [
              0,
              "#0d0887"
             ],
             [
              0.1111111111111111,
              "#46039f"
             ],
             [
              0.2222222222222222,
              "#7201a8"
             ],
             [
              0.3333333333333333,
              "#9c179e"
             ],
             [
              0.4444444444444444,
              "#bd3786"
             ],
             [
              0.5555555555555556,
              "#d8576b"
             ],
             [
              0.6666666666666666,
              "#ed7953"
             ],
             [
              0.7777777777777778,
              "#fb9f3a"
             ],
             [
              0.8888888888888888,
              "#fdca26"
             ],
             [
              1,
              "#f0f921"
             ]
            ],
            "type": "histogram2dcontour"
           }
          ],
          "mesh3d": [
           {
            "colorbar": {
             "outlinewidth": 0,
             "ticks": ""
            },
            "type": "mesh3d"
           }
          ],
          "parcoords": [
           {
            "line": {
             "colorbar": {
              "outlinewidth": 0,
              "ticks": ""
             }
            },
            "type": "parcoords"
           }
          ],
          "pie": [
           {
            "automargin": true,
            "type": "pie"
           }
          ],
          "scatter": [
           {
            "fillpattern": {
             "fillmode": "overlay",
             "size": 10,
             "solidity": 0.2
            },
            "type": "scatter"
           }
          ],
          "scatter3d": [
           {
            "line": {
             "colorbar": {
              "outlinewidth": 0,
              "ticks": ""
             }
            },
            "marker": {
             "colorbar": {
              "outlinewidth": 0,
              "ticks": ""
             }
            },
            "type": "scatter3d"
           }
          ],
          "scattercarpet": [
           {
            "marker": {
             "colorbar": {
              "outlinewidth": 0,
              "ticks": ""
             }
            },
            "type": "scattercarpet"
           }
          ],
          "scattergeo": [
           {
            "marker": {
             "colorbar": {
              "outlinewidth": 0,
              "ticks": ""
             }
            },
            "type": "scattergeo"
           }
          ],
          "scattergl": [
           {
            "marker": {
             "colorbar": {
              "outlinewidth": 0,
              "ticks": ""
             }
            },
            "type": "scattergl"
           }
          ],
          "scattermapbox": [
           {
            "marker": {
             "colorbar": {
              "outlinewidth": 0,
              "ticks": ""
             }
            },
            "type": "scattermapbox"
           }
          ],
          "scatterpolar": [
           {
            "marker": {
             "colorbar": {
              "outlinewidth": 0,
              "ticks": ""
             }
            },
            "type": "scatterpolar"
           }
          ],
          "scatterpolargl": [
           {
            "marker": {
             "colorbar": {
              "outlinewidth": 0,
              "ticks": ""
             }
            },
            "type": "scatterpolargl"
           }
          ],
          "scatterternary": [
           {
            "marker": {
             "colorbar": {
              "outlinewidth": 0,
              "ticks": ""
             }
            },
            "type": "scatterternary"
           }
          ],
          "surface": [
           {
            "colorbar": {
             "outlinewidth": 0,
             "ticks": ""
            },
            "colorscale": [
             [
              0,
              "#0d0887"
             ],
             [
              0.1111111111111111,
              "#46039f"
             ],
             [
              0.2222222222222222,
              "#7201a8"
             ],
             [
              0.3333333333333333,
              "#9c179e"
             ],
             [
              0.4444444444444444,
              "#bd3786"
             ],
             [
              0.5555555555555556,
              "#d8576b"
             ],
             [
              0.6666666666666666,
              "#ed7953"
             ],
             [
              0.7777777777777778,
              "#fb9f3a"
             ],
             [
              0.8888888888888888,
              "#fdca26"
             ],
             [
              1,
              "#f0f921"
             ]
            ],
            "type": "surface"
           }
          ],
          "table": [
           {
            "cells": {
             "fill": {
              "color": "#EBF0F8"
             },
             "line": {
              "color": "white"
             }
            },
            "header": {
             "fill": {
              "color": "#C8D4E3"
             },
             "line": {
              "color": "white"
             }
            },
            "type": "table"
           }
          ]
         },
         "layout": {
          "annotationdefaults": {
           "arrowcolor": "#2a3f5f",
           "arrowhead": 0,
           "arrowwidth": 1
          },
          "autotypenumbers": "strict",
          "coloraxis": {
           "colorbar": {
            "outlinewidth": 0,
            "ticks": ""
           }
          },
          "colorscale": {
           "diverging": [
            [
             0,
             "#8e0152"
            ],
            [
             0.1,
             "#c51b7d"
            ],
            [
             0.2,
             "#de77ae"
            ],
            [
             0.3,
             "#f1b6da"
            ],
            [
             0.4,
             "#fde0ef"
            ],
            [
             0.5,
             "#f7f7f7"
            ],
            [
             0.6,
             "#e6f5d0"
            ],
            [
             0.7,
             "#b8e186"
            ],
            [
             0.8,
             "#7fbc41"
            ],
            [
             0.9,
             "#4d9221"
            ],
            [
             1,
             "#276419"
            ]
           ],
           "sequential": [
            [
             0,
             "#0d0887"
            ],
            [
             0.1111111111111111,
             "#46039f"
            ],
            [
             0.2222222222222222,
             "#7201a8"
            ],
            [
             0.3333333333333333,
             "#9c179e"
            ],
            [
             0.4444444444444444,
             "#bd3786"
            ],
            [
             0.5555555555555556,
             "#d8576b"
            ],
            [
             0.6666666666666666,
             "#ed7953"
            ],
            [
             0.7777777777777778,
             "#fb9f3a"
            ],
            [
             0.8888888888888888,
             "#fdca26"
            ],
            [
             1,
             "#f0f921"
            ]
           ],
           "sequentialminus": [
            [
             0,
             "#0d0887"
            ],
            [
             0.1111111111111111,
             "#46039f"
            ],
            [
             0.2222222222222222,
             "#7201a8"
            ],
            [
             0.3333333333333333,
             "#9c179e"
            ],
            [
             0.4444444444444444,
             "#bd3786"
            ],
            [
             0.5555555555555556,
             "#d8576b"
            ],
            [
             0.6666666666666666,
             "#ed7953"
            ],
            [
             0.7777777777777778,
             "#fb9f3a"
            ],
            [
             0.8888888888888888,
             "#fdca26"
            ],
            [
             1,
             "#f0f921"
            ]
           ]
          },
          "colorway": [
           "#636efa",
           "#EF553B",
           "#00cc96",
           "#ab63fa",
           "#FFA15A",
           "#19d3f3",
           "#FF6692",
           "#B6E880",
           "#FF97FF",
           "#FECB52"
          ],
          "font": {
           "color": "#2a3f5f"
          },
          "geo": {
           "bgcolor": "white",
           "lakecolor": "white",
           "landcolor": "#E5ECF6",
           "showlakes": true,
           "showland": true,
           "subunitcolor": "white"
          },
          "hoverlabel": {
           "align": "left"
          },
          "hovermode": "closest",
          "mapbox": {
           "style": "light"
          },
          "paper_bgcolor": "white",
          "plot_bgcolor": "#E5ECF6",
          "polar": {
           "angularaxis": {
            "gridcolor": "white",
            "linecolor": "white",
            "ticks": ""
           },
           "bgcolor": "#E5ECF6",
           "radialaxis": {
            "gridcolor": "white",
            "linecolor": "white",
            "ticks": ""
           }
          },
          "scene": {
           "xaxis": {
            "backgroundcolor": "#E5ECF6",
            "gridcolor": "white",
            "gridwidth": 2,
            "linecolor": "white",
            "showbackground": true,
            "ticks": "",
            "zerolinecolor": "white"
           },
           "yaxis": {
            "backgroundcolor": "#E5ECF6",
            "gridcolor": "white",
            "gridwidth": 2,
            "linecolor": "white",
            "showbackground": true,
            "ticks": "",
            "zerolinecolor": "white"
           },
           "zaxis": {
            "backgroundcolor": "#E5ECF6",
            "gridcolor": "white",
            "gridwidth": 2,
            "linecolor": "white",
            "showbackground": true,
            "ticks": "",
            "zerolinecolor": "white"
           }
          },
          "shapedefaults": {
           "line": {
            "color": "#2a3f5f"
           }
          },
          "ternary": {
           "aaxis": {
            "gridcolor": "white",
            "linecolor": "white",
            "ticks": ""
           },
           "baxis": {
            "gridcolor": "white",
            "linecolor": "white",
            "ticks": ""
           },
           "bgcolor": "#E5ECF6",
           "caxis": {
            "gridcolor": "white",
            "linecolor": "white",
            "ticks": ""
           }
          },
          "title": {
           "x": 0.05
          },
          "xaxis": {
           "automargin": true,
           "gridcolor": "white",
           "linecolor": "white",
           "ticks": "",
           "title": {
            "standoff": 15
           },
           "zerolinecolor": "white",
           "zerolinewidth": 2
          },
          "yaxis": {
           "automargin": true,
           "gridcolor": "white",
           "linecolor": "white",
           "ticks": "",
           "title": {
            "standoff": 15
           },
           "zerolinecolor": "white",
           "zerolinewidth": 2
          }
         }
        },
        "title": {
         "text": ""
        },
        "width": 1200,
        "xaxis": {
         "autorange": true,
         "range": [
          -0.9032838787206507,
          6.581078295433537
         ],
         "tickfont": {
          "size": 16
         },
         "title": {
          "font": {
           "size": 18
          },
          "text": "Available data percentage"
         },
         "type": "category"
        },
        "yaxis": {
         "gridcolor": "rgba(100, 100, 100, 0.3)",
         "gridwidth": 2,
         "range": [
          0.39,
          0.66
         ],
         "showgrid": true,
         "tickfont": {
          "size": 16
         },
         "title": {
          "font": {
           "size": 18
          },
          "text": "Values"
         },
         "type": "linear"
        }
       }
      },
      "image/png": "[encoded data removed]",
      "text/html": [
       "<div>                            <div id=\"a239edb3-ffb3-4a15-9a6e-9ecaaab4dca6\" class=\"plotly-graph-div\" style=\"height:800px; width:1200px;\"></div>            <script type=\"text/javascript\">                require([\"plotly\"], function(Plotly) {                    window.PLOTLYENV=window.PLOTLYENV || {};                                    if (document.getElementById(\"a239edb3-ffb3-4a15-9a6e-9ecaaab4dca6\")) {                    Plotly.newPlot(                        \"a239edb3-ffb3-4a15-9a6e-9ecaaab4dca6\",                        [{\"boxpoints\":\"all\",\"jitter\":0.3,\"marker\":{\"color\":\"#004A9F\"},\"name\":\"AUC_ROC\",\"pointpos\":-1.4,\"x\":[\"1\",\"1\",\"1\",\"1\",\"1\",\"1\",\"1\",\"1\",\"1\",\"1\",\"5\",\"5\",\"5\",\"5\",\"5\",\"5\",\"5\",\"5\",\"5\",\"5\",\"10\",\"10\",\"10\",\"10\",\"10\",\"10\",\"10\",\"10\",\"10\",\"10\",\"50\",\"50\",\"50\",\"50\",\"50\",\"50\",\"50\",\"50\",\"50\",\"50\",\"100\",\"100\",\"100\",\"100\",\"100\",\"100\",\"100\",\"100\",\"100\",\"100\"],\"y\":[0.5231909693715584,0.5252475717662184,0.5449448631210561,0.5429180927187068,0.5149904782041062,0.5537947518125258,0.5428265471906522,0.5351342352288126,0.567580326402523,0.5652496778468457,0.5818585956624847,0.558974489113283,0.5760978449138486,0.5814728484753724,0.5454203094437935,0.5652462027553454,0.5763476400674198,0.552996588069405,0.5438346397866984,0.5782115135619337,0.6079925262145539,0.611772981997003,0.613975160387819,0.6165230544489618,0.6110243192956588,0.6274525630012779,0.6159680306702369,0.6162339882627801,0.6156216459153723,0.6208626169446066,0.6242301435927373,0.6340381239984128,0.6238565769995403,0.6188418204530184,0.6087047530684547,0.615658583344862,0.6192835357369876,0.6036532724852826,0.6190742022609712,0.610865911530806,0.595460983006284,0.624541425552161,0.586814906251114,0.608985337923577,0.600478796296355,0.609028776485677,0.606098908480091,0.62763775641235,0.609127578350132,0.625922978208295],\"type\":\"box\"},{\"boxpoints\":\"all\",\"jitter\":0.3,\"marker\":{\"color\":\"#C50F3C\"},\"name\":\"f1\",\"pointpos\":-1.4,\"x\":[\"1\",\"1\",\"1\",\"1\",\"1\",\"1\",\"1\",\"1\",\"1\",\"1\",\"5\",\"5\",\"5\",\"5\",\"5\",\"5\",\"5\",\"5\",\"5\",\"5\",\"10\",\"10\",\"10\",\"10\",\"10\",\"10\",\"10\",\"10\",\"10\",\"10\",\"50\",\"50\",\"50\",\"50\",\"50\",\"50\",\"50\",\"50\",\"50\",\"50\",\"100\",\"100\",\"100\",\"100\",\"100\",\"100\",\"100\",\"100\",\"100\",\"100\"],\"y\":[0.5805991953198699,0.5364516988509486,0.4871272965914888,0.5716025761173786,0.548035669207181,0.406432298795795,0.5671659778542789,0.6004960356529736,0.5744962324815965,0.5369829003887168,0.6023026317721971,0.6279781824066194,0.6304301716539076,0.6138284105867723,0.6303292521771565,0.6117699261828584,0.5618887554817442,0.6292941650626667,0.6112631055334602,0.6043546082892766,0.4831761535549271,0.4776284312466548,0.4408609302992491,0.4605545648980566,0.4346373481330478,0.5616011900855665,0.4387142522048667,0.5896854210388556,0.5648662317699662,0.4908615024833989,0.4326508039973737,0.4483223866981688,0.5048772058975569,0.6446236101686655,0.4523557992750331,0.5415069069973395,0.4858104146466905,0.4933344720023532,0.5072566454476551,0.5603532313294307,0.614612663274617,0.619586232466791,0.549732351547391,0.544130406293101,0.55813153381323,0.410309651549997,0.569503517197403,0.598759095080993,0.593823799528257,0.519940087918998],\"type\":\"box\"}],                        {\"template\":{\"data\":{\"histogram2dcontour\":[{\"type\":\"histogram2dcontour\",\"colorbar\":{\"outlinewidth\":0,\"ticks\":\"\"},\"colorscale\":[[0.0,\"#0d0887\"],[0.1111111111111111,\"#46039f\"],[0.2222222222222222,\"#7201a8\"],[0.3333333333333333,\"#9c179e\"],[0.4444444444444444,\"#bd3786\"],[0.5555555555555556,\"#d8576b\"],[0.6666666666666666,\"#ed7953\"],[0.7777777777777778,\"#fb9f3a\"],[0.8888888888888888,\"#fdca26\"],[1.0,\"#f0f921\"]]}],\"choropleth\":[{\"type\":\"choropleth\",\"colorbar\":{\"outlinewidth\":0,\"ticks\":\"\"}}],\"histogram2d\":[{\"type\":\"histogram2d\",\"colorbar\":{\"outlinewidth\":0,\"ticks\":\"\"},\"colorscale\":[[0.0,\"#0d0887\"],[0.1111111111111111,\"#46039f\"],[0.2222222222222222,\"#7201a8\"],[0.3333333333333333,\"#9c179e\"],[0.4444444444444444,\"#bd3786\"],[0.5555555555555556,\"#d8576b\"],[0.6666666666666666,\"#ed7953\"],[0.7777777777777778,\"#fb9f3a\"],[0.8888888888888888,\"#fdca26\"],[1.0,\"#f0f921\"]]}],\"heatmap\":[{\"type\":\"heatmap\",\"colorbar\":{\"outlinewidth\":0,\"ticks\":\"\"},\"colorscale\":[[0.0,\"#0d0887\"],[0.1111111111111111,\"#46039f\"],[0.2222222222222222,\"#7201a8\"],[0.3333333333333333,\"#9c179e\"],[0.4444444444444444,\"#bd3786\"],[0.5555555555555556,\"#d8576b\"],[0.6666666666666666,\"#ed7953\"],[0.7777777777777778,\"#fb9f3a\"],[0.8888888888888888,\"#fdca26\"],[1.0,\"#f0f921\"]]}],\"heatmapgl\":[{\"type\":\"heatmapgl\",\"colorbar\":{\"outlinewidth\":0,\"ticks\":\"\"},\"colorscale\":[[0.0,\"#0d0887\"],[0.1111111111111111,\"#46039f\"],[0.2222222222222222,\"#7201a8\"],[0.3333333333333333,\"#9c179e\"],[0.4444444444444444,\"#bd3786\"],[0.5555555555555556,\"#d8576b\"],[0.6666666666666666,\"#ed7953\"],[0.7777777777777778,\"#fb9f3a\"],[0.8888888888888888,\"#fdca26\"],[1.0,\"#f0f921\"]]}],\"contourcarpet\":[{\"type\":\"contourcarpet\",\"colorbar\":{\"outlinewidth\":0,\"ticks\":\"\"}}],\"contour\":[{\"type\":\"contour\",\"colorbar\":{\"outlinewidth\":0,\"ticks\":\"\"},\"colorscale\":[[0.0,\"#0d0887\"],[0.1111111111111111,\"#46039f\"],[0.2222222222222222,\"#7201a8\"],[0.3333333333333333,\"#9c179e\"],[0.4444444444444444,\"#bd3786\"],[0.5555555555555556,\"#d8576b\"],[0.6666666666666666,\"#ed7953\"],[0.7777777777777778,\"#fb9f3a\"],[0.8888888888888888,\"#fdca26\"],[1.0,\"#f0f921\"]]}],\"surface\":[{\"type\":\"surface\",\"colorbar\":{\"outlinewidth\":0,\"ticks\":\"\"},\"colorscale\":[[0.0,\"#0d0887\"],[0.1111111111111111,\"#46039f\"],[0.2222222222222222,\"#7201a8\"],[0.3333333333333333,\"#9c179e\"],[0.4444444444444444,\"#bd3786\"],[0.5555555555555556,\"#d8576b\"],[0.6666666666666666,\"#ed7953\"],[0.7777777777777778,\"#fb9f3a\"],[0.8888888888888888,\"#fdca26\"],[1.0,\"#f0f921\"]]}],\"mesh3d\":[{\"type\":\"mesh3d\",\"colorbar\":{\"outlinewidth\":0,\"ticks\":\"\"}}],\"scatter\":[{\"fillpattern\":{\"fillmode\":\"overlay\",\"size\":10,\"solidity\":0.2},\"type\":\"scatter\"}],\"parcoords\":[{\"type\":\"parcoords\",\"line\":{\"colorbar\":{\"outlinewidth\":0,\"ticks\":\"\"}}}],\"scatterpolargl\":[{\"type\":\"scatterpolargl\",\"marker\":{\"colorbar\":{\"outlinewidth\":0,\"ticks\":\"\"}}}],\"bar\":[{\"error_x\":{\"color\":\"#2a3f5f\"},\"error_y\":{\"color\":\"#2a3f5f\"},\"marker\":{\"line\":{\"color\":\"#E5ECF6\",\"width\":0.5},\"pattern\":{\"fillmode\":\"overlay\",\"size\":10,\"solidity\":0.2}},\"type\":\"bar\"}],\"scattergeo\":[{\"type\":\"scattergeo\",\"marker\":{\"colorbar\":{\"outlinewidth\":0,\"ticks\":\"\"}}}],\"scatterpolar\":[{\"type\":\"scatterpolar\",\"marker\":{\"colorbar\":{\"outlinewidth\":0,\"ticks\":\"\"}}}],\"histogram\":[{\"marker\":{\"pattern\":{\"fillmode\":\"overlay\",\"size\":10,\"solidity\":0.2}},\"type\":\"histogram\"}],\"scattergl\":[{\"type\":\"scattergl\",\"marker\":{\"colorbar\":{\"outlinewidth\":0,\"ticks\":\"\"}}}],\"scatter3d\":[{\"type\":\"scatter3d\",\"line\":{\"colorbar\":{\"outlinewidth\":0,\"ticks\":\"\"}},\"marker\":{\"colorbar\":{\"outlinewidth\":0,\"ticks\":\"\"}}}],\"scattermapbox\":[{\"type\":\"scattermapbox\",\"marker\":{\"colorbar\":{\"outlinewidth\":0,\"ticks\":\"\"}}}],\"scatterternary\":[{\"type\":\"scatterternary\",\"marker\":{\"colorbar\":{\"outlinewidth\":0,\"ticks\":\"\"}}}],\"scattercarpet\":[{\"type\":\"scattercarpet\",\"marker\":{\"colorbar\":{\"outlinewidth\":0,\"ticks\":\"\"}}}],\"carpet\":[{\"aaxis\":{\"endlinecolor\":\"#2a3f5f\",\"gridcolor\":\"white\",\"linecolor\":\"white\",\"minorgridcolor\":\"white\",\"startlinecolor\":\"#2a3f5f\"},\"baxis\":{\"endlinecolor\":\"#2a3f5f\",\"gridcolor\":\"white\",\"linecolor\":\"white\",\"minorgridcolor\":\"white\",\"startlinecolor\":\"#2a3f5f\"},\"type\":\"carpet\"}],\"table\":[{\"cells\":{\"fill\":{\"color\":\"#EBF0F8\"},\"line\":{\"color\":\"white\"}},\"header\":{\"fill\":{\"color\":\"#C8D4E3\"},\"line\":{\"color\":\"white\"}},\"type\":\"table\"}],\"barpolar\":[{\"marker\":{\"line\":{\"color\":\"#E5ECF6\",\"width\":0.5},\"pattern\":{\"fillmode\":\"overlay\",\"size\":10,\"solidity\":0.2}},\"type\":\"barpolar\"}],\"pie\":[{\"automargin\":true,\"type\":\"pie\"}]},\"layout\":{\"autotypenumbers\":\"strict\",\"colorway\":[\"#636efa\",\"#EF553B\",\"#00cc96\",\"#ab63fa\",\"#FFA15A\",\"#19d3f3\",\"#FF6692\",\"#B6E880\",\"#FF97FF\",\"#FECB52\"],\"font\":{\"color\":\"#2a3f5f\"},\"hovermode\":\"closest\",\"hoverlabel\":{\"align\":\"left\"},\"paper_bgcolor\":\"white\",\"plot_bgcolor\":\"#E5ECF6\",\"polar\":{\"bgcolor\":\"#E5ECF6\",\"angularaxis\":{\"gridcolor\":\"white\",\"linecolor\":\"white\",\"ticks\":\"\"},\"radialaxis\":{\"gridcolor\":\"white\",\"linecolor\":\"white\",\"ticks\":\"\"}},\"ternary\":{\"bgcolor\":\"#E5ECF6\",\"aaxis\":{\"gridcolor\":\"white\",\"linecolor\":\"white\",\"ticks\":\"\"},\"baxis\":{\"gridcolor\":\"white\",\"linecolor\":\"white\",\"ticks\":\"\"},\"caxis\":{\"gridcolor\":\"white\",\"linecolor\":\"white\",\"ticks\":\"\"}},\"coloraxis\":{\"colorbar\":{\"outlinewidth\":0,\"ticks\":\"\"}},\"colorscale\":{\"sequential\":[[0.0,\"#0d0887\"],[0.1111111111111111,\"#46039f\"],[0.2222222222222222,\"#7201a8\"],[0.3333333333333333,\"#9c179e\"],[0.4444444444444444,\"#bd3786\"],[0.5555555555555556,\"#d8576b\"],[0.6666666666666666,\"#ed7953\"],[0.7777777777777778,\"#fb9f3a\"],[0.8888888888888888,\"#fdca26\"],[1.0,\"#f0f921\"]],\"sequentialminus\":[[0.0,\"#0d0887\"],[0.1111111111111111,\"#46039f\"],[0.2222222222222222,\"#7201a8\"],[0.3333333333333333,\"#9c179e\"],[0.4444444444444444,\"#bd3786\"],[0.5555555555555556,\"#d8576b\"],[0.6666666666666666,\"#ed7953\"],[0.7777777777777778,\"#fb9f3a\"],[0.8888888888888888,\"#fdca26\"],[1.0,\"#f0f921\"]],\"diverging\":[[0,\"#8e0152\"],[0.1,\"#c51b7d\"],[0.2,\"#de77ae\"],[0.3,\"#f1b6da\"],[0.4,\"#fde0ef\"],[0.5,\"#f7f7f7\"],[0.6,\"#e6f5d0\"],[0.7,\"#b8e186\"],[0.8,\"#7fbc41\"],[0.9,\"#4d9221\"],[1,\"#276419\"]]},\"xaxis\":{\"gridcolor\":\"white\",\"linecolor\":\"white\",\"ticks\":\"\",\"title\":{\"standoff\":15},\"zerolinecolor\":\"white\",\"automargin\":true,\"zerolinewidth\":2},\"yaxis\":{\"gridcolor\":\"white\",\"linecolor\":\"white\",\"ticks\":\"\",\"title\":{\"standoff\":15},\"zerolinecolor\":\"white\",\"automargin\":true,\"zerolinewidth\":2},\"scene\":{\"xaxis\":{\"backgroundcolor\":\"#E5ECF6\",\"gridcolor\":\"white\",\"linecolor\":\"white\",\"showbackground\":true,\"ticks\":\"\",\"zerolinecolor\":\"white\",\"gridwidth\":2},\"yaxis\":{\"backgroundcolor\":\"#E5ECF6\",\"gridcolor\":\"white\",\"linecolor\":\"white\",\"showbackground\":true,\"ticks\":\"\",\"zerolinecolor\":\"white\",\"gridwidth\":2},\"zaxis\":{\"backgroundcolor\":\"#E5ECF6\",\"gridcolor\":\"white\",\"linecolor\":\"white\",\"showbackground\":true,\"ticks\":\"\",\"zerolinecolor\":\"white\",\"gridwidth\":2}},\"shapedefaults\":{\"line\":{\"color\":\"#2a3f5f\"}},\"annotationdefaults\":{\"arrowcolor\":\"#2a3f5f\",\"arrowhead\":0,\"arrowwidth\":1},\"geo\":{\"bgcolor\":\"white\",\"landcolor\":\"#E5ECF6\",\"subunitcolor\":\"white\",\"showland\":true,\"showlakes\":true,\"lakecolor\":\"white\"},\"title\":{\"x\":0.05},\"mapbox\":{\"style\":\"light\"}}},\"shapes\":[{\"line\":{\"color\":\"#004A9F\",\"dash\":\"dot\",\"width\":4},\"opacity\":0.7,\"type\":\"line\",\"x0\":-0.5,\"x1\":6.5,\"y0\":0.5702,\"y1\":0.5702},{\"line\":{\"color\":\"#C50F3C\",\"dash\":\"dot\",\"width\":4},\"opacity\":0.7,\"type\":\"line\",\"x0\":-0.5,\"x1\":6.5,\"y0\":0.5842,\"y1\":0.5842}],\"annotations\":[{\"arrowhead\":1,\"ax\":-20,\"ay\":30,\"font\":{\"size\":18},\"showarrow\":true,\"text\":\"Transferred model AUC-ROC\",\"x\":5.8,\"y\":0.568},{\"arrowhead\":1,\"ax\":-20,\"ay\":-30,\"font\":{\"size\":18},\"showarrow\":true,\"text\":\"Transferred model F1 score\",\"x\":5.8,\"y\":0.588}],\"yaxis\":{\"tickfont\":{\"size\":16},\"title\":{\"text\":\"Values\",\"font\":{\"size\":18}},\"showgrid\":true,\"gridcolor\":\"rgba(100, 100, 100, 0.3)\",\"gridwidth\":2,\"range\":[0.39,0.66]},\"margin\":{\"l\":80,\"r\":100,\"b\":30,\"t\":50},\"xaxis\":{\"tickfont\":{\"size\":16},\"title\":{\"text\":\"Available data percentage\",\"font\":{\"size\":18}}},\"legend\":{\"font\":{\"size\":16}},\"title\":{\"text\":\"\"},\"boxmode\":\"group\",\"bargap\":0.5,\"bargroupgap\":1,\"width\":1200,\"height\":800,\"plot_bgcolor\":\"rgba(0,0,0,0)\"},                        {\"responsive\": true}                    ).then(function(){\n",
       "                            \n",
       "var gd = document.getElementById('a239edb3-ffb3-4a15-9a6e-9ecaaab4dca6');\n",
       "var x = new MutationObserver(function (mutations, observer) {{\n",
       "        var display = window.getComputedStyle(gd).display;\n",
       "        if (!display || display === 'none') {{\n",
       "            console.log([gd, 'removed!']);\n",
       "            Plotly.purge(gd);\n",
       "            observer.disconnect();\n",
       "        }}\n",
       "}});\n",
       "\n",
       "// Listen for the removal of the full notebook cells\n",
       "var notebookContainer = gd.closest('#notebook-container');\n",
       "if (notebookContainer) {{\n",
       "    x.observe(notebookContainer, {childList: true});\n",
       "}}\n",
       "\n",
       "// Listen for the clearing of the current output cell\n",
       "var outputEl = gd.closest('.output');\n",
       "if (outputEl) {{\n",
       "    x.observe(outputEl, {childList: true});\n",
       "}}\n",
       "\n",
       "                        })                };                });            </script>        </div>"
      ]
     },
     "metadata": {},
     "output_type": "display_data"
    }
   ],
   "source": [
    "x = np.ones(50)\n",
    "x[:10] = 1\n",
    "x[10:20] = 5\n",
    "x[20:30] = 10\n",
    "x[30:40] = 50\n",
    "x[40:] = 100\n",
    "x = x.astype(int).astype(str)\n",
    "\n",
    "auc_plot_data = np.array(auc_roc_list).reshape((1,-1))[0]\n",
    "f1_plot_data = np.array(f1_list).reshape((1,-1))[0]\n",
    "\n",
    "# Create a box plot\n",
    "fig = go.Figure()\n",
    "fig.add_trace(go.Box(x=x, y=auc_plot_data, marker_color=\"#004A9F\", boxpoints=\"all\",\n",
    "                     jitter=0.3, pointpos=-1.4, name=\"AUC_ROC\"))\n",
    "fig.add_trace(go.Box(x=x, y=f1_plot_data, marker_color=\"#C50F3C\",boxpoints=\"all\",\n",
    "                     jitter=0.3, pointpos=-1.4, name=\"f1\"))\n",
    "fig.add_shape(go.layout.Shape(type=\"line\", x0=-0.5, x1=6.5,\n",
    "                              y0=tl_auc, y1=tl_auc, line=dict(color=\"#004A9F\",\n",
    "                                                              width=4,\n",
    "                                                              dash='dot',),\n",
    "                              opacity=0.7))\n",
    "fig.add_shape(go.layout.Shape(type=\"line\", x0=-0.5, x1=6.5,\n",
    "                              y0=tl_f1, y1=tl_f1, line=dict(color=\"#C50F3C\",\n",
    "                                                              width=4,\n",
    "                                                              dash='dot',),\n",
    "                              opacity=0.7))\n",
    "\n",
    "fig.add_annotation(\n",
    "    x=5.8,  # x-coordinate position of the annotation (relative to the x-axis)\n",
    "    y=0.568,  # y-coordinate position (using the max value in this example)\n",
    "    text=\"Transferred model AUC-ROC\",  # Text for the annotation\n",
    "    showarrow=True,  # Show an arrow pointing to the annotated point\n",
    "    arrowhead=1,  # The style of the arrowhead\n",
    "    ax=-20,  # x-offset of the arrow\n",
    "    ay=30,  # y-offset of the arrow\n",
    "    font=dict(size=18),\n",
    ")\n",
    "fig.add_annotation(\n",
    "    x=5.8,  # x-coordinate position of the annotation (relative to the x-axis)\n",
    "    y=0.588,  # y-coordinate position (using the max value in this example)\n",
    "    text=\"Transferred model F1 score\",  # Text for the annotation\n",
    "    showarrow=True,  # Show an arrow pointing to the annotated point\n",
    "    arrowhead=1,  # The style of the arrowhead\n",
    "    ax=-20,  # x-offset of the arrow\n",
    "    ay=-30,  # y-offset of the arrow\n",
    "    font=dict(size=18),\n",
    ")\n",
    "# Customize the layout\n",
    "fig.update_layout(\n",
    "    title=\"\",\n",
    "    yaxis_title='Values',\n",
    "    xaxis_title='Available data percentage',\n",
    "    boxmode='group',\n",
    "    bargap=0.5,\n",
    "    bargroupgap=1,\n",
    "    width=1200,\n",
    "    height=800,\n",
    "    plot_bgcolor='rgba(0,0,0,0)',\n",
    "    yaxis=dict(\n",
    "        showgrid=True,  # Turn on Y-axis grid\n",
    "        gridcolor='rgba(100, 100, 100, 0.3)',  # Customize grid color\n",
    "        gridwidth=2,\n",
    "        tickfont=dict(size=16),\n",
    "        title_font=dict(size=18)\n",
    "    ),\n",
    "    margin=dict(l=80, r=100, b=30, t=50),\n",
    "    xaxis=dict(\n",
    "        tickfont=dict(size=16),\n",
    "        title_font=dict(size=18)\n",
    "    ),\n",
    "    legend=dict(\n",
    "        font=dict(size=16)  # Set legend font size\n",
    "    ),\n",
    ")\n",
    "fig.update_layout(yaxis_range=[0.39,0.66])\n",
    "# Show the plot\n",
    "fig.show()\n",
    "fig.write_image(\"../../Result/Fig/Box_word2vec.pdf\")"
   ]
  },
  {
   "cell_type": "code",
   "execution_count": 142,
   "id": "e81d61ac-1a17-4ce7-9873-8ee94dccd9bb",
   "metadata": {},
   "outputs": [],
   "source": [
    "test_data = np.array(auc_roc_list).reshape((1,-1))[0]"
   ]
  },
  {
   "cell_type": "code",
   "execution_count": 138,
   "id": "ff52b9f3-297a-4129-9822-7fed3b440d1f",
   "metadata": {},
   "outputs": [
    {
     "data": {
      "text/plain": [
       "[[0.5354553293393829, 0.5762416123512547, 0.5328184943948745],\n",
       " [0.5383136731278757, 0.5831603495764346, 0.5714848542798663],\n",
       " [0.6205140476894239, 0.6126181313049335, 0.6073951591995759],\n",
       " [0.6159873887758511, 0.614662548151916, 0.6193093618231102],\n",
       " [0.595460983006284, 0.624541425552161, 0.586814906251114]]"
      ]
     },
     "execution_count": 138,
     "metadata": {},
     "output_type": "execute_result"
    }
   ],
   "source": [
    "auc_roc_list"
   ]
  },
  {
   "cell_type": "code",
   "execution_count": 143,
   "id": "79d44ff2-1397-419c-b2a0-d37aba807064",
   "metadata": {},
   "outputs": [
    {
     "data": {
      "application/vnd.plotly.v1+json": {
       "config": {
        "plotlyServerURL": "https://plot.ly"
       },
       "data": [
        {
         "boxpoints": "all",
         "jitter": 0.3,
         "name": "Precompiled Quartiles",
         "pointpos": -1.4,
         "type": "box",
         "x": [
          "1",
          "1",
          "1",
          "5",
          "5",
          "5",
          "10",
          "10",
          "10",
          "50",
          "50",
          "50",
          "100",
          "100",
          "100"
         ],
         "y": [
          0.5354553293393829,
          0.5762416123512547,
          0.5328184943948745,
          0.5383136731278757,
          0.5831603495764346,
          0.5714848542798663,
          0.6205140476894239,
          0.6126181313049335,
          0.6073951591995759,
          0.6159873887758511,
          0.614662548151916,
          0.6193093618231102,
          0.595460983006284,
          0.624541425552161,
          0.586814906251114
         ]
        }
       ],
       "layout": {
        "autosize": true,
        "template": {
         "data": {
          "bar": [
           {
            "error_x": {
             "color": "#2a3f5f"
            },
            "error_y": {
             "color": "#2a3f5f"
            },
            "marker": {
             "line": {
              "color": "#E5ECF6",
              "width": 0.5
             },
             "pattern": {
              "fillmode": "overlay",
              "size": 10,
              "solidity": 0.2
             }
            },
            "type": "bar"
           }
          ],
          "barpolar": [
           {
            "marker": {
             "line": {
              "color": "#E5ECF6",
              "width": 0.5
             },
             "pattern": {
              "fillmode": "overlay",
              "size": 10,
              "solidity": 0.2
             }
            },
            "type": "barpolar"
           }
          ],
          "carpet": [
           {
            "aaxis": {
             "endlinecolor": "#2a3f5f",
             "gridcolor": "white",
             "linecolor": "white",
             "minorgridcolor": "white",
             "startlinecolor": "#2a3f5f"
            },
            "baxis": {
             "endlinecolor": "#2a3f5f",
             "gridcolor": "white",
             "linecolor": "white",
             "minorgridcolor": "white",
             "startlinecolor": "#2a3f5f"
            },
            "type": "carpet"
           }
          ],
          "choropleth": [
           {
            "colorbar": {
             "outlinewidth": 0,
             "ticks": ""
            },
            "type": "choropleth"
           }
          ],
          "contour": [
           {
            "colorbar": {
             "outlinewidth": 0,
             "ticks": ""
            },
            "colorscale": [
             [
              0,
              "#0d0887"
             ],
             [
              0.1111111111111111,
              "#46039f"
             ],
             [
              0.2222222222222222,
              "#7201a8"
             ],
             [
              0.3333333333333333,
              "#9c179e"
             ],
             [
              0.4444444444444444,
              "#bd3786"
             ],
             [
              0.5555555555555556,
              "#d8576b"
             ],
             [
              0.6666666666666666,
              "#ed7953"
             ],
             [
              0.7777777777777778,
              "#fb9f3a"
             ],
             [
              0.8888888888888888,
              "#fdca26"
             ],
             [
              1,
              "#f0f921"
             ]
            ],
            "type": "contour"
           }
          ],
          "contourcarpet": [
           {
            "colorbar": {
             "outlinewidth": 0,
             "ticks": ""
            },
            "type": "contourcarpet"
           }
          ],
          "heatmap": [
           {
            "colorbar": {
             "outlinewidth": 0,
             "ticks": ""
            },
            "colorscale": [
             [
              0,
              "#0d0887"
             ],
             [
              0.1111111111111111,
              "#46039f"
             ],
             [
              0.2222222222222222,
              "#7201a8"
             ],
             [
              0.3333333333333333,
              "#9c179e"
             ],
             [
              0.4444444444444444,
              "#bd3786"
             ],
             [
              0.5555555555555556,
              "#d8576b"
             ],
             [
              0.6666666666666666,
              "#ed7953"
             ],
             [
              0.7777777777777778,
              "#fb9f3a"
             ],
             [
              0.8888888888888888,
              "#fdca26"
             ],
             [
              1,
              "#f0f921"
             ]
            ],
            "type": "heatmap"
           }
          ],
          "heatmapgl": [
           {
            "colorbar": {
             "outlinewidth": 0,
             "ticks": ""
            },
            "colorscale": [
             [
              0,
              "#0d0887"
             ],
             [
              0.1111111111111111,
              "#46039f"
             ],
             [
              0.2222222222222222,
              "#7201a8"
             ],
             [
              0.3333333333333333,
              "#9c179e"
             ],
             [
              0.4444444444444444,
              "#bd3786"
             ],
             [
              0.5555555555555556,
              "#d8576b"
             ],
             [
              0.6666666666666666,
              "#ed7953"
             ],
             [
              0.7777777777777778,
              "#fb9f3a"
             ],
             [
              0.8888888888888888,
              "#fdca26"
             ],
             [
              1,
              "#f0f921"
             ]
            ],
            "type": "heatmapgl"
           }
          ],
          "histogram": [
           {
            "marker": {
             "pattern": {
              "fillmode": "overlay",
              "size": 10,
              "solidity": 0.2
             }
            },
            "type": "histogram"
           }
          ],
          "histogram2d": [
           {
            "colorbar": {
             "outlinewidth": 0,
             "ticks": ""
            },
            "colorscale": [
             [
              0,
              "#0d0887"
             ],
             [
              0.1111111111111111,
              "#46039f"
             ],
             [
              0.2222222222222222,
              "#7201a8"
             ],
             [
              0.3333333333333333,
              "#9c179e"
             ],
             [
              0.4444444444444444,
              "#bd3786"
             ],
             [
              0.5555555555555556,
              "#d8576b"
             ],
             [
              0.6666666666666666,
              "#ed7953"
             ],
             [
              0.7777777777777778,
              "#fb9f3a"
             ],
             [
              0.8888888888888888,
              "#fdca26"
             ],
             [
              1,
              "#f0f921"
             ]
            ],
            "type": "histogram2d"
           }
          ],
          "histogram2dcontour": [
           {
            "colorbar": {
             "outlinewidth": 0,
             "ticks": ""
            },
            "colorscale": [
             [
              0,
              "#0d0887"
             ],
             [
              0.1111111111111111,
              "#46039f"
             ],
             [
              0.2222222222222222,
              "#7201a8"
             ],
             [
              0.3333333333333333,
              "#9c179e"
             ],
             [
              0.4444444444444444,
              "#bd3786"
             ],
             [
              0.5555555555555556,
              "#d8576b"
             ],
             [
              0.6666666666666666,
              "#ed7953"
             ],
             [
              0.7777777777777778,
              "#fb9f3a"
             ],
             [
              0.8888888888888888,
              "#fdca26"
             ],
             [
              1,
              "#f0f921"
             ]
            ],
            "type": "histogram2dcontour"
           }
          ],
          "mesh3d": [
           {
            "colorbar": {
             "outlinewidth": 0,
             "ticks": ""
            },
            "type": "mesh3d"
           }
          ],
          "parcoords": [
           {
            "line": {
             "colorbar": {
              "outlinewidth": 0,
              "ticks": ""
             }
            },
            "type": "parcoords"
           }
          ],
          "pie": [
           {
            "automargin": true,
            "type": "pie"
           }
          ],
          "scatter": [
           {
            "fillpattern": {
             "fillmode": "overlay",
             "size": 10,
             "solidity": 0.2
            },
            "type": "scatter"
           }
          ],
          "scatter3d": [
           {
            "line": {
             "colorbar": {
              "outlinewidth": 0,
              "ticks": ""
             }
            },
            "marker": {
             "colorbar": {
              "outlinewidth": 0,
              "ticks": ""
             }
            },
            "type": "scatter3d"
           }
          ],
          "scattercarpet": [
           {
            "marker": {
             "colorbar": {
              "outlinewidth": 0,
              "ticks": ""
             }
            },
            "type": "scattercarpet"
           }
          ],
          "scattergeo": [
           {
            "marker": {
             "colorbar": {
              "outlinewidth": 0,
              "ticks": ""
             }
            },
            "type": "scattergeo"
           }
          ],
          "scattergl": [
           {
            "marker": {
             "colorbar": {
              "outlinewidth": 0,
              "ticks": ""
             }
            },
            "type": "scattergl"
           }
          ],
          "scattermapbox": [
           {
            "marker": {
             "colorbar": {
              "outlinewidth": 0,
              "ticks": ""
             }
            },
            "type": "scattermapbox"
           }
          ],
          "scatterpolar": [
           {
            "marker": {
             "colorbar": {
              "outlinewidth": 0,
              "ticks": ""
             }
            },
            "type": "scatterpolar"
           }
          ],
          "scatterpolargl": [
           {
            "marker": {
             "colorbar": {
              "outlinewidth": 0,
              "ticks": ""
             }
            },
            "type": "scatterpolargl"
           }
          ],
          "scatterternary": [
           {
            "marker": {
             "colorbar": {
              "outlinewidth": 0,
              "ticks": ""
             }
            },
            "type": "scatterternary"
           }
          ],
          "surface": [
           {
            "colorbar": {
             "outlinewidth": 0,
             "ticks": ""
            },
            "colorscale": [
             [
              0,
              "#0d0887"
             ],
             [
              0.1111111111111111,
              "#46039f"
             ],
             [
              0.2222222222222222,
              "#7201a8"
             ],
             [
              0.3333333333333333,
              "#9c179e"
             ],
             [
              0.4444444444444444,
              "#bd3786"
             ],
             [
              0.5555555555555556,
              "#d8576b"
             ],
             [
              0.6666666666666666,
              "#ed7953"
             ],
             [
              0.7777777777777778,
              "#fb9f3a"
             ],
             [
              0.8888888888888888,
              "#fdca26"
             ],
             [
              1,
              "#f0f921"
             ]
            ],
            "type": "surface"
           }
          ],
          "table": [
           {
            "cells": {
             "fill": {
              "color": "#EBF0F8"
             },
             "line": {
              "color": "white"
             }
            },
            "header": {
             "fill": {
              "color": "#C8D4E3"
             },
             "line": {
              "color": "white"
             }
            },
            "type": "table"
           }
          ]
         },
         "layout": {
          "annotationdefaults": {
           "arrowcolor": "#2a3f5f",
           "arrowhead": 0,
           "arrowwidth": 1
          },
          "autotypenumbers": "strict",
          "coloraxis": {
           "colorbar": {
            "outlinewidth": 0,
            "ticks": ""
           }
          },
          "colorscale": {
           "diverging": [
            [
             0,
             "#8e0152"
            ],
            [
             0.1,
             "#c51b7d"
            ],
            [
             0.2,
             "#de77ae"
            ],
            [
             0.3,
             "#f1b6da"
            ],
            [
             0.4,
             "#fde0ef"
            ],
            [
             0.5,
             "#f7f7f7"
            ],
            [
             0.6,
             "#e6f5d0"
            ],
            [
             0.7,
             "#b8e186"
            ],
            [
             0.8,
             "#7fbc41"
            ],
            [
             0.9,
             "#4d9221"
            ],
            [
             1,
             "#276419"
            ]
           ],
           "sequential": [
            [
             0,
             "#0d0887"
            ],
            [
             0.1111111111111111,
             "#46039f"
            ],
            [
             0.2222222222222222,
             "#7201a8"
            ],
            [
             0.3333333333333333,
             "#9c179e"
            ],
            [
             0.4444444444444444,
             "#bd3786"
            ],
            [
             0.5555555555555556,
             "#d8576b"
            ],
            [
             0.6666666666666666,
             "#ed7953"
            ],
            [
             0.7777777777777778,
             "#fb9f3a"
            ],
            [
             0.8888888888888888,
             "#fdca26"
            ],
            [
             1,
             "#f0f921"
            ]
           ],
           "sequentialminus": [
            [
             0,
             "#0d0887"
            ],
            [
             0.1111111111111111,
             "#46039f"
            ],
            [
             0.2222222222222222,
             "#7201a8"
            ],
            [
             0.3333333333333333,
             "#9c179e"
            ],
            [
             0.4444444444444444,
             "#bd3786"
            ],
            [
             0.5555555555555556,
             "#d8576b"
            ],
            [
             0.6666666666666666,
             "#ed7953"
            ],
            [
             0.7777777777777778,
             "#fb9f3a"
            ],
            [
             0.8888888888888888,
             "#fdca26"
            ],
            [
             1,
             "#f0f921"
            ]
           ]
          },
          "colorway": [
           "#636efa",
           "#EF553B",
           "#00cc96",
           "#ab63fa",
           "#FFA15A",
           "#19d3f3",
           "#FF6692",
           "#B6E880",
           "#FF97FF",
           "#FECB52"
          ],
          "font": {
           "color": "#2a3f5f"
          },
          "geo": {
           "bgcolor": "white",
           "lakecolor": "white",
           "landcolor": "#E5ECF6",
           "showlakes": true,
           "showland": true,
           "subunitcolor": "white"
          },
          "hoverlabel": {
           "align": "left"
          },
          "hovermode": "closest",
          "mapbox": {
           "style": "light"
          },
          "paper_bgcolor": "white",
          "plot_bgcolor": "#E5ECF6",
          "polar": {
           "angularaxis": {
            "gridcolor": "white",
            "linecolor": "white",
            "ticks": ""
           },
           "bgcolor": "#E5ECF6",
           "radialaxis": {
            "gridcolor": "white",
            "linecolor": "white",
            "ticks": ""
           }
          },
          "scene": {
           "xaxis": {
            "backgroundcolor": "#E5ECF6",
            "gridcolor": "white",
            "gridwidth": 2,
            "linecolor": "white",
            "showbackground": true,
            "ticks": "",
            "zerolinecolor": "white"
           },
           "yaxis": {
            "backgroundcolor": "#E5ECF6",
            "gridcolor": "white",
            "gridwidth": 2,
            "linecolor": "white",
            "showbackground": true,
            "ticks": "",
            "zerolinecolor": "white"
           },
           "zaxis": {
            "backgroundcolor": "#E5ECF6",
            "gridcolor": "white",
            "gridwidth": 2,
            "linecolor": "white",
            "showbackground": true,
            "ticks": "",
            "zerolinecolor": "white"
           }
          },
          "shapedefaults": {
           "line": {
            "color": "#2a3f5f"
           }
          },
          "ternary": {
           "aaxis": {
            "gridcolor": "white",
            "linecolor": "white",
            "ticks": ""
           },
           "baxis": {
            "gridcolor": "white",
            "linecolor": "white",
            "ticks": ""
           },
           "bgcolor": "#E5ECF6",
           "caxis": {
            "gridcolor": "white",
            "linecolor": "white",
            "ticks": ""
           }
          },
          "title": {
           "x": 0.05
          },
          "xaxis": {
           "automargin": true,
           "gridcolor": "white",
           "linecolor": "white",
           "ticks": "",
           "title": {
            "standoff": 15
           },
           "zerolinecolor": "white",
           "zerolinewidth": 2
          },
          "yaxis": {
           "automargin": true,
           "gridcolor": "white",
           "linecolor": "white",
           "ticks": "",
           "title": {
            "standoff": 15
           },
           "zerolinecolor": "white",
           "zerolinewidth": 2
          }
         }
        },
        "xaxis": {
         "autorange": true,
         "range": [
          -0.5119047619047619,
          4.5
         ],
         "type": "category"
        },
        "yaxis": {
         "autorange": true,
         "range": [
          0.5277227759972475,
          0.629637143949788
         ],
         "type": "linear"
        }
       }
      },
      "image/png": "[encoded data removed]",
      "text/html": [
       "<div>                            <div id=\"1474a2a5-5c63-4090-b1a8-0eed1ebec835\" class=\"plotly-graph-div\" style=\"height:525px; width:100%;\"></div>            <script type=\"text/javascript\">                require([\"plotly\"], function(Plotly) {                    window.PLOTLYENV=window.PLOTLYENV || {};                                    if (document.getElementById(\"1474a2a5-5c63-4090-b1a8-0eed1ebec835\")) {                    Plotly.newPlot(                        \"1474a2a5-5c63-4090-b1a8-0eed1ebec835\",                        [{\"boxpoints\":\"all\",\"jitter\":0.3,\"name\":\"Precompiled Quartiles\",\"pointpos\":-1.4,\"x\":[\"1\",\"1\",\"1\",\"5\",\"5\",\"5\",\"10\",\"10\",\"10\",\"50\",\"50\",\"50\",\"100\",\"100\",\"100\"],\"y\":[0.5354553293393829,0.5762416123512547,0.5328184943948745,0.5383136731278757,0.5831603495764346,0.5714848542798663,0.6205140476894239,0.6126181313049335,0.6073951591995759,0.6159873887758511,0.614662548151916,0.6193093618231102,0.595460983006284,0.624541425552161,0.586814906251114],\"type\":\"box\"}],                        {\"template\":{\"data\":{\"histogram2dcontour\":[{\"type\":\"histogram2dcontour\",\"colorbar\":{\"outlinewidth\":0,\"ticks\":\"\"},\"colorscale\":[[0.0,\"#0d0887\"],[0.1111111111111111,\"#46039f\"],[0.2222222222222222,\"#7201a8\"],[0.3333333333333333,\"#9c179e\"],[0.4444444444444444,\"#bd3786\"],[0.5555555555555556,\"#d8576b\"],[0.6666666666666666,\"#ed7953\"],[0.7777777777777778,\"#fb9f3a\"],[0.8888888888888888,\"#fdca26\"],[1.0,\"#f0f921\"]]}],\"choropleth\":[{\"type\":\"choropleth\",\"colorbar\":{\"outlinewidth\":0,\"ticks\":\"\"}}],\"histogram2d\":[{\"type\":\"histogram2d\",\"colorbar\":{\"outlinewidth\":0,\"ticks\":\"\"},\"colorscale\":[[0.0,\"#0d0887\"],[0.1111111111111111,\"#46039f\"],[0.2222222222222222,\"#7201a8\"],[0.3333333333333333,\"#9c179e\"],[0.4444444444444444,\"#bd3786\"],[0.5555555555555556,\"#d8576b\"],[0.6666666666666666,\"#ed7953\"],[0.7777777777777778,\"#fb9f3a\"],[0.8888888888888888,\"#fdca26\"],[1.0,\"#f0f921\"]]}],\"heatmap\":[{\"type\":\"heatmap\",\"colorbar\":{\"outlinewidth\":0,\"ticks\":\"\"},\"colorscale\":[[0.0,\"#0d0887\"],[0.1111111111111111,\"#46039f\"],[0.2222222222222222,\"#7201a8\"],[0.3333333333333333,\"#9c179e\"],[0.4444444444444444,\"#bd3786\"],[0.5555555555555556,\"#d8576b\"],[0.6666666666666666,\"#ed7953\"],[0.7777777777777778,\"#fb9f3a\"],[0.8888888888888888,\"#fdca26\"],[1.0,\"#f0f921\"]]}],\"heatmapgl\":[{\"type\":\"heatmapgl\",\"colorbar\":{\"outlinewidth\":0,\"ticks\":\"\"},\"colorscale\":[[0.0,\"#0d0887\"],[0.1111111111111111,\"#46039f\"],[0.2222222222222222,\"#7201a8\"],[0.3333333333333333,\"#9c179e\"],[0.4444444444444444,\"#bd3786\"],[0.5555555555555556,\"#d8576b\"],[0.6666666666666666,\"#ed7953\"],[0.7777777777777778,\"#fb9f3a\"],[0.8888888888888888,\"#fdca26\"],[1.0,\"#f0f921\"]]}],\"contourcarpet\":[{\"type\":\"contourcarpet\",\"colorbar\":{\"outlinewidth\":0,\"ticks\":\"\"}}],\"contour\":[{\"type\":\"contour\",\"colorbar\":{\"outlinewidth\":0,\"ticks\":\"\"},\"colorscale\":[[0.0,\"#0d0887\"],[0.1111111111111111,\"#46039f\"],[0.2222222222222222,\"#7201a8\"],[0.3333333333333333,\"#9c179e\"],[0.4444444444444444,\"#bd3786\"],[0.5555555555555556,\"#d8576b\"],[0.6666666666666666,\"#ed7953\"],[0.7777777777777778,\"#fb9f3a\"],[0.8888888888888888,\"#fdca26\"],[1.0,\"#f0f921\"]]}],\"surface\":[{\"type\":\"surface\",\"colorbar\":{\"outlinewidth\":0,\"ticks\":\"\"},\"colorscale\":[[0.0,\"#0d0887\"],[0.1111111111111111,\"#46039f\"],[0.2222222222222222,\"#7201a8\"],[0.3333333333333333,\"#9c179e\"],[0.4444444444444444,\"#bd3786\"],[0.5555555555555556,\"#d8576b\"],[0.6666666666666666,\"#ed7953\"],[0.7777777777777778,\"#fb9f3a\"],[0.8888888888888888,\"#fdca26\"],[1.0,\"#f0f921\"]]}],\"mesh3d\":[{\"type\":\"mesh3d\",\"colorbar\":{\"outlinewidth\":0,\"ticks\":\"\"}}],\"scatter\":[{\"fillpattern\":{\"fillmode\":\"overlay\",\"size\":10,\"solidity\":0.2},\"type\":\"scatter\"}],\"parcoords\":[{\"type\":\"parcoords\",\"line\":{\"colorbar\":{\"outlinewidth\":0,\"ticks\":\"\"}}}],\"scatterpolargl\":[{\"type\":\"scatterpolargl\",\"marker\":{\"colorbar\":{\"outlinewidth\":0,\"ticks\":\"\"}}}],\"bar\":[{\"error_x\":{\"color\":\"#2a3f5f\"},\"error_y\":{\"color\":\"#2a3f5f\"},\"marker\":{\"line\":{\"color\":\"#E5ECF6\",\"width\":0.5},\"pattern\":{\"fillmode\":\"overlay\",\"size\":10,\"solidity\":0.2}},\"type\":\"bar\"}],\"scattergeo\":[{\"type\":\"scattergeo\",\"marker\":{\"colorbar\":{\"outlinewidth\":0,\"ticks\":\"\"}}}],\"scatterpolar\":[{\"type\":\"scatterpolar\",\"marker\":{\"colorbar\":{\"outlinewidth\":0,\"ticks\":\"\"}}}],\"histogram\":[{\"marker\":{\"pattern\":{\"fillmode\":\"overlay\",\"size\":10,\"solidity\":0.2}},\"type\":\"histogram\"}],\"scattergl\":[{\"type\":\"scattergl\",\"marker\":{\"colorbar\":{\"outlinewidth\":0,\"ticks\":\"\"}}}],\"scatter3d\":[{\"type\":\"scatter3d\",\"line\":{\"colorbar\":{\"outlinewidth\":0,\"ticks\":\"\"}},\"marker\":{\"colorbar\":{\"outlinewidth\":0,\"ticks\":\"\"}}}],\"scattermapbox\":[{\"type\":\"scattermapbox\",\"marker\":{\"colorbar\":{\"outlinewidth\":0,\"ticks\":\"\"}}}],\"scatterternary\":[{\"type\":\"scatterternary\",\"marker\":{\"colorbar\":{\"outlinewidth\":0,\"ticks\":\"\"}}}],\"scattercarpet\":[{\"type\":\"scattercarpet\",\"marker\":{\"colorbar\":{\"outlinewidth\":0,\"ticks\":\"\"}}}],\"carpet\":[{\"aaxis\":{\"endlinecolor\":\"#2a3f5f\",\"gridcolor\":\"white\",\"linecolor\":\"white\",\"minorgridcolor\":\"white\",\"startlinecolor\":\"#2a3f5f\"},\"baxis\":{\"endlinecolor\":\"#2a3f5f\",\"gridcolor\":\"white\",\"linecolor\":\"white\",\"minorgridcolor\":\"white\",\"startlinecolor\":\"#2a3f5f\"},\"type\":\"carpet\"}],\"table\":[{\"cells\":{\"fill\":{\"color\":\"#EBF0F8\"},\"line\":{\"color\":\"white\"}},\"header\":{\"fill\":{\"color\":\"#C8D4E3\"},\"line\":{\"color\":\"white\"}},\"type\":\"table\"}],\"barpolar\":[{\"marker\":{\"line\":{\"color\":\"#E5ECF6\",\"width\":0.5},\"pattern\":{\"fillmode\":\"overlay\",\"size\":10,\"solidity\":0.2}},\"type\":\"barpolar\"}],\"pie\":[{\"automargin\":true,\"type\":\"pie\"}]},\"layout\":{\"autotypenumbers\":\"strict\",\"colorway\":[\"#636efa\",\"#EF553B\",\"#00cc96\",\"#ab63fa\",\"#FFA15A\",\"#19d3f3\",\"#FF6692\",\"#B6E880\",\"#FF97FF\",\"#FECB52\"],\"font\":{\"color\":\"#2a3f5f\"},\"hovermode\":\"closest\",\"hoverlabel\":{\"align\":\"left\"},\"paper_bgcolor\":\"white\",\"plot_bgcolor\":\"#E5ECF6\",\"polar\":{\"bgcolor\":\"#E5ECF6\",\"angularaxis\":{\"gridcolor\":\"white\",\"linecolor\":\"white\",\"ticks\":\"\"},\"radialaxis\":{\"gridcolor\":\"white\",\"linecolor\":\"white\",\"ticks\":\"\"}},\"ternary\":{\"bgcolor\":\"#E5ECF6\",\"aaxis\":{\"gridcolor\":\"white\",\"linecolor\":\"white\",\"ticks\":\"\"},\"baxis\":{\"gridcolor\":\"white\",\"linecolor\":\"white\",\"ticks\":\"\"},\"caxis\":{\"gridcolor\":\"white\",\"linecolor\":\"white\",\"ticks\":\"\"}},\"coloraxis\":{\"colorbar\":{\"outlinewidth\":0,\"ticks\":\"\"}},\"colorscale\":{\"sequential\":[[0.0,\"#0d0887\"],[0.1111111111111111,\"#46039f\"],[0.2222222222222222,\"#7201a8\"],[0.3333333333333333,\"#9c179e\"],[0.4444444444444444,\"#bd3786\"],[0.5555555555555556,\"#d8576b\"],[0.6666666666666666,\"#ed7953\"],[0.7777777777777778,\"#fb9f3a\"],[0.8888888888888888,\"#fdca26\"],[1.0,\"#f0f921\"]],\"sequentialminus\":[[0.0,\"#0d0887\"],[0.1111111111111111,\"#46039f\"],[0.2222222222222222,\"#7201a8\"],[0.3333333333333333,\"#9c179e\"],[0.4444444444444444,\"#bd3786\"],[0.5555555555555556,\"#d8576b\"],[0.6666666666666666,\"#ed7953\"],[0.7777777777777778,\"#fb9f3a\"],[0.8888888888888888,\"#fdca26\"],[1.0,\"#f0f921\"]],\"diverging\":[[0,\"#8e0152\"],[0.1,\"#c51b7d\"],[0.2,\"#de77ae\"],[0.3,\"#f1b6da\"],[0.4,\"#fde0ef\"],[0.5,\"#f7f7f7\"],[0.6,\"#e6f5d0\"],[0.7,\"#b8e186\"],[0.8,\"#7fbc41\"],[0.9,\"#4d9221\"],[1,\"#276419\"]]},\"xaxis\":{\"gridcolor\":\"white\",\"linecolor\":\"white\",\"ticks\":\"\",\"title\":{\"standoff\":15},\"zerolinecolor\":\"white\",\"automargin\":true,\"zerolinewidth\":2},\"yaxis\":{\"gridcolor\":\"white\",\"linecolor\":\"white\",\"ticks\":\"\",\"title\":{\"standoff\":15},\"zerolinecolor\":\"white\",\"automargin\":true,\"zerolinewidth\":2},\"scene\":{\"xaxis\":{\"backgroundcolor\":\"#E5ECF6\",\"gridcolor\":\"white\",\"linecolor\":\"white\",\"showbackground\":true,\"ticks\":\"\",\"zerolinecolor\":\"white\",\"gridwidth\":2},\"yaxis\":{\"backgroundcolor\":\"#E5ECF6\",\"gridcolor\":\"white\",\"linecolor\":\"white\",\"showbackground\":true,\"ticks\":\"\",\"zerolinecolor\":\"white\",\"gridwidth\":2},\"zaxis\":{\"backgroundcolor\":\"#E5ECF6\",\"gridcolor\":\"white\",\"linecolor\":\"white\",\"showbackground\":true,\"ticks\":\"\",\"zerolinecolor\":\"white\",\"gridwidth\":2}},\"shapedefaults\":{\"line\":{\"color\":\"#2a3f5f\"}},\"annotationdefaults\":{\"arrowcolor\":\"#2a3f5f\",\"arrowhead\":0,\"arrowwidth\":1},\"geo\":{\"bgcolor\":\"white\",\"landcolor\":\"#E5ECF6\",\"subunitcolor\":\"white\",\"showland\":true,\"showlakes\":true,\"lakecolor\":\"white\"},\"title\":{\"x\":0.05},\"mapbox\":{\"style\":\"light\"}}}},                        {\"responsive\": true}                    ).then(function(){\n",
       "                            \n",
       "var gd = document.getElementById('1474a2a5-5c63-4090-b1a8-0eed1ebec835');\n",
       "var x = new MutationObserver(function (mutations, observer) {{\n",
       "        var display = window.getComputedStyle(gd).display;\n",
       "        if (!display || display === 'none') {{\n",
       "            console.log([gd, 'removed!']);\n",
       "            Plotly.purge(gd);\n",
       "            observer.disconnect();\n",
       "        }}\n",
       "}});\n",
       "\n",
       "// Listen for the removal of the full notebook cells\n",
       "var notebookContainer = gd.closest('#notebook-container');\n",
       "if (notebookContainer) {{\n",
       "    x.observe(notebookContainer, {childList: true});\n",
       "}}\n",
       "\n",
       "// Listen for the clearing of the current output cell\n",
       "var outputEl = gd.closest('.output');\n",
       "if (outputEl) {{\n",
       "    x.observe(outputEl, {childList: true});\n",
       "}}\n",
       "\n",
       "                        })                };                });            </script>        </div>"
      ]
     },
     "metadata": {},
     "output_type": "display_data"
    }
   ],
   "source": [
    "x = np.ones(15)\n",
    "x[:3] = 1\n",
    "x[3:6] = 5\n",
    "x[6:9] = 10\n",
    "x[9:12] = 50\n",
    "x[12:] = 100\n",
    "x = x.astype(int).astype(str)\n",
    "\n",
    "fig = go.Figure()\n",
    "\n",
    "fig.add_trace(go.Box(x=x, y=test_data, boxpoints=\"all\", jitter=0.3, pointpos=-1.4, name=\"Precompiled Quartiles\"))\n",
    "\n",
    "\n",
    "\n",
    "fig.show()"
   ]
  },
  {
   "cell_type": "code",
   "execution_count": null,
   "id": "f1751487-4efd-4723-9107-e221997084d2",
   "metadata": {},
   "outputs": [],
   "source": []
  }
 ],
 "metadata": {
  "kernelspec": {
   "display_name": "Python 3 (ipykernel)",
   "language": "python",
   "name": "python3"
  },
  "language_info": {
   "codemirror_mode": {
    "name": "ipython",
    "version": 3
   },
   "file_extension": ".py",
   "mimetype": "text/x-python",
   "name": "python",
   "nbconvert_exporter": "python",
   "pygments_lexer": "ipython3",
   "version": "3.8.18"
  }
 },
 "nbformat": 4,
 "nbformat_minor": 5
}
