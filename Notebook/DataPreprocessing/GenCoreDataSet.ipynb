{
 "cells": [
  {
   "cell_type": "markdown",
   "id": "07a18785-64b1-486c-b7ee-6e1c2fe7fb28",
   "metadata": {},
   "source": [
    "# Generate Core Data Set"
   ]
  },
  {
   "cell_type": "code",
   "execution_count": 1,
   "id": "95d5ef3f-49bd-45d7-a49d-bdd9dd79fef0",
   "metadata": {},
   "outputs": [],
   "source": [
    "import pandas as pd\n",
    "import numpy as np\n",
    "import os\n",
    "import sys\n",
    "module_path = os.path.abspath(os.path.join('../..'))\n",
    "if module_path not in sys.path:\n",
    "    sys.path.append(module_path)\n",
    "import pickle as pickle\n",
    "\n",
    "from src.log import Reformat"
   ]
  },
  {
   "cell_type": "markdown",
   "id": "617a9ae1-d2f1-436c-8d1c-0ce3be996304",
   "metadata": {},
   "source": [
    "## Read raw file"
   ]
  },
  {
   "cell_type": "code",
   "execution_count": 2,
   "id": "9748c823-bf82-4363-be11-2a337f11ed96",
   "metadata": {},
   "outputs": [],
   "source": [
    "bpi_log = pd.read_csv('../../Data/Raw/BPI_2019_Dataset_Classified_based_on_Sub_Spend_Area.zip')\n",
    "sap_log = pd.read_csv('../../Data/Raw/CELONIS_2018_Dataset_Classified_based_on_Sub_Spend_Area.zip')"
   ]
  },
  {
   "cell_type": "markdown",
   "id": "2befd16d-2fd9-41fa-9322-709a150144eb",
   "metadata": {},
   "source": [
    "## Extract core columns"
   ]
  },
  {
   "cell_type": "code",
   "execution_count": 3,
   "id": "e83ec0f1-c2b4-4d96-8660-61bd343de9fd",
   "metadata": {},
   "outputs": [
    {
     "data": {
      "text/plain": [
       "Index(['index', 'Case_ID', 'Purchase_Order_ID', 'Event_Name', 'Event_ID',\n",
       "       'Timestamp', 'Company_Code', 'Spend_Area', 'Spend_Sub_Area',\n",
       "       'EC_Case_Type', 'GR_Classification', 'Vendor_ID', 'Source_System',\n",
       "       'User_ID', 'Organisation_ID', 'Case_Type', 'Process_Flow',\n",
       "       'Process_Structure', 'Item_Category', 'Case_Name', 'Item_ID', 'Value',\n",
       "       'Goods_Receipt', 'Classification', 'AVG_Throughput', 'Events_2',\n",
       "       'Sequence'],\n",
       "      dtype='object')"
      ]
     },
     "execution_count": 3,
     "metadata": {},
     "output_type": "execute_result"
    }
   ],
   "source": [
    "sap_log.columns"
   ]
  },
  {
   "cell_type": "code",
   "execution_count": 4,
   "id": "799c5560-3dd9-44be-8d03-2d517033f4ae",
   "metadata": {},
   "outputs": [
    {
     "name": "stderr",
     "output_type": "stream",
     "text": [
      "/tmp/ipykernel_21321/1527679336.py:4: SettingWithCopyWarning: \n",
      "A value is trying to be set on a copy of a slice from a DataFrame.\n",
      "Try using .loc[row_indexer,col_indexer] = value instead\n",
      "\n",
      "See the caveats in the documentation: https://pandas.pydata.org/pandas-docs/stable/user_guide/indexing.html#returning-a-view-versus-a-copy\n",
      "  sap_log_core[\"Timestamp\"] = pd.to_datetime(sap_log[\"Timestamp\"])\n",
      "/tmp/ipykernel_21321/1527679336.py:5: SettingWithCopyWarning: \n",
      "A value is trying to be set on a copy of a slice from a DataFrame.\n",
      "Try using .loc[row_indexer,col_indexer] = value instead\n",
      "\n",
      "See the caveats in the documentation: https://pandas.pydata.org/pandas-docs/stable/user_guide/indexing.html#returning-a-view-versus-a-copy\n",
      "  bpi_log_core[\"Timestamp\"] = pd.to_datetime(bpi_log[\"Timestamp\"])\n"
     ]
    }
   ],
   "source": [
    "core_col = ['Case_ID', 'Event_Name', 'Timestamp', 'Purchase_Order_ID']\n",
    "sap_log_core = sap_log[core_col]\n",
    "bpi_log_core = bpi_log[core_col]\n",
    "sap_log_core[\"Timestamp\"] = pd.to_datetime(sap_log[\"Timestamp\"])\n",
    "bpi_log_core[\"Timestamp\"] = pd.to_datetime(bpi_log[\"Timestamp\"]) \n",
    "sap_log_core = sap_log_core.sort_values(by='Timestamp', ascending=True)\n",
    "bpi_log_core = bpi_log_core.sort_values(by='Timestamp', ascending=True)"
   ]
  },
  {
   "cell_type": "markdown",
   "id": "c7a3772a-2861-459f-b836-b545180aaf19",
   "metadata": {},
   "source": [
    "## Inspect event log and save"
   ]
  },
  {
   "cell_type": "code",
   "execution_count": 5,
   "id": "fa5013f6-61b3-4f17-8249-7a18afe80c44",
   "metadata": {},
   "outputs": [
    {
     "name": "stdout",
     "output_type": "stream",
     "text": [
      "Generated event log with num of events:  287956\n",
      "Generated event log with num of events:  1593366\n"
     ]
    }
   ],
   "source": [
    "for log in [sap_log_core, bpi_log_core]:\n",
    "    print(\"Generated event log with num of events: \", log.shape[0])"
   ]
  },
  {
   "cell_type": "code",
   "execution_count": 7,
   "id": "0a89930b-f586-4f8a-9366-337da11c8c0b",
   "metadata": {},
   "outputs": [],
   "source": [
    "sap_log_core.to_pickle(\"../../Data/Log/source_log.pkl\")\n",
    "bpi_log_core.to_pickle(\"../../Data/Log/target_log.pkl\")"
   ]
  },
  {
   "cell_type": "code",
   "execution_count": 8,
   "id": "f8775c2f-d27b-44be-8cde-119e17d2fad0",
   "metadata": {},
   "outputs": [],
   "source": [
    "source_trace = Reformat.roll_sequence(sap_log_core, time_column=\"Timestamp\", case_column=\"Case_ID\")\n",
    "target_trace = Reformat.roll_sequence(bpi_log_core, time_column=\"Timestamp\", case_column=\"Case_ID\")"
   ]
  },
  {
   "cell_type": "markdown",
   "id": "eddc415f-d6a5-462e-83a4-5a1cfae7c0cc",
   "metadata": {},
   "source": [
    "## Feature generation"
   ]
  },
  {
   "cell_type": "code",
   "execution_count": 9,
   "id": "a0fcd86b-ef33-45a1-ae3f-cd353e9878a9",
   "metadata": {},
   "outputs": [],
   "source": [
    "def cal_case_druation(timestamps, resolution=\"m\"):\n",
    "    return (timestamps[-1] - timestamps[0]) / np.timedelta64(1, resolution)\n",
    "\n",
    "source_trace[\"CaseDuration\"] = source_trace[\"Timestamp\"].apply(lambda x: cal_case_druation(x, \"m\"))\n",
    "target_trace[\"CaseDuration\"] = target_trace[\"Timestamp\"].apply(lambda x: cal_case_druation(x, \"m\"))"
   ]
  },
  {
   "cell_type": "code",
   "execution_count": 10,
   "id": "aa7274df-e354-464c-b6cd-4ce5de8fc0cd",
   "metadata": {},
   "outputs": [],
   "source": [
    "def cal_case_interval(timestamps, resolution=\"m\"):\n",
    "    time_diff = (timestamps - np.roll(timestamps, 1)) / np.timedelta64(1, resolution)\n",
    "    time_diff[0] = 0\n",
    "    return time_diff\n",
    "\n",
    "source_trace[\"CaseInterval\"] = source_trace[\"Timestamp\"].apply(lambda x: cal_case_interval(x, \"m\"))\n",
    "target_trace[\"CaseInterval\"] = target_trace[\"Timestamp\"].apply(lambda x: cal_case_interval(x, \"m\"))"
   ]
  },
  {
   "cell_type": "code",
   "execution_count": 11,
   "id": "9ec18ac7-f07d-4c14-9a2e-10acde2a0630",
   "metadata": {},
   "outputs": [],
   "source": [
    "def cal_case_lapse(timestamps, resolution=\"m\"):\n",
    "    time_diff = (timestamps - timestamps[0]) / np.timedelta64(1, resolution)\n",
    "    return time_diff\n",
    "\n",
    "source_trace[\"CaseLapse\"] = source_trace[\"Timestamp\"].apply(lambda x: cal_case_lapse(x, \"m\"))\n",
    "target_trace[\"CaseLapse\"] = target_trace[\"Timestamp\"].apply(lambda x: cal_case_lapse(x, \"m\"))"
   ]
  },
  {
   "cell_type": "code",
   "execution_count": 12,
   "id": "56b2123d-677c-4c10-a06b-e20aad2f4065",
   "metadata": {},
   "outputs": [],
   "source": [
    "source_trace.to_pickle(\"../../Data/Trace/source_trace.pkl\")\n",
    "target_trace.to_pickle(\"../../Data/Trace/target_trace.pkl\")"
   ]
  }
 ],
 "metadata": {
  "kernelspec": {
   "display_name": "Python 3 (ipykernel)",
   "language": "python",
   "name": "python3"
  },
  "language_info": {
   "codemirror_mode": {
    "name": "ipython",
    "version": 3
   },
   "file_extension": ".py",
   "mimetype": "text/x-python",
   "name": "python",
   "nbconvert_exporter": "python",
   "pygments_lexer": "ipython3",
   "version": "3.8.18"
  }
 },
 "nbformat": 4,
 "nbformat_minor": 5
}
