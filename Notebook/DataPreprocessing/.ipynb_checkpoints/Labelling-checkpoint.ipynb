{
 "cells": [
  {
   "cell_type": "markdown",
   "id": "12b6e8c5-f66b-41eb-8fa2-eff95956b382",
   "metadata": {},
   "source": [
    "# Labelling"
   ]
  },
  {
   "cell_type": "code",
   "execution_count": 1,
   "id": "9afc3775-b8cb-425b-b472-b57171e98cff",
   "metadata": {},
   "outputs": [],
   "source": [
    "import pandas as pd\n",
    "import numpy as np\n",
    "import os\n",
    "import sys\n",
    "module_path = os.path.abspath(os.path.join('../..'))\n",
    "if module_path not in sys.path:\n",
    "    sys.path.append(module_path)\n",
    "import pickle as pickle"
   ]
  },
  {
   "cell_type": "markdown",
   "id": "70e19794-0e99-4e6c-9ee9-b741834f9bd2",
   "metadata": {},
   "source": [
    "## Load trace data"
   ]
  },
  {
   "cell_type": "code",
   "execution_count": 6,
   "id": "81a03833-efe4-4fd5-bf33-174f3ed19d7e",
   "metadata": {},
   "outputs": [],
   "source": [
    "source_trace = pd.read_pickle(\"../../Data/Trace/source_trace_all.pkl\")\n",
    "target_trace = pd.read_pickle(\"../../Data/Trace/target_trace_all.pkl\")"
   ]
  },
  {
   "cell_type": "markdown",
   "id": "4c71416b-d321-4faf-94fb-91dc7c98541d",
   "metadata": {},
   "source": [
    "## Generate label"
   ]
  },
  {
   "cell_type": "code",
   "execution_count": 7,
   "id": "b118767b-f215-46ae-8aa2-f0917320f091",
   "metadata": {},
   "outputs": [],
   "source": [
    "def labeling_overall_case_duration(trace, quantile=0.7):\n",
    "    overall_criteria = np.quantile(trace[\"CaseDuration\"].values, quantile)\n",
    "    trace[\"OverallCriteria\"] = overall_criteria\n",
    "    trace[\"Label\"] = trace[\"CaseDuration\"].apply(lambda x: x < overall_criteria)\n",
    "    trace[\"Label\"] = trace[\"Label\"].astype(int)\n",
    "    trace_intime = trace[trace[\"Label\"] == 1]\n",
    "    trace_delayed = trace[trace[\"Label\"] == 0]\n",
    "    print(\"Data set in-time sample num : \", trace_intime.shape[0], \"  delayed sample num: \", trace_delayed.shape[0])\n",
    "    return trace"
   ]
  },
  {
   "cell_type": "code",
   "execution_count": 8,
   "id": "2ac16df9-be1c-420f-9e3c-273ce7467930",
   "metadata": {},
   "outputs": [
    {
     "name": "stdout",
     "output_type": "stream",
     "text": [
      "Data set in-time sample num :  23321   delayed sample num:  9995\n",
      "Data set in-time sample num :  52687   delayed sample num:  22582\n"
     ]
    }
   ],
   "source": [
    "source_trace_labelled = labeling_overall_case_duration(source_trace)\n",
    "target_trace_labelled = labeling_overall_case_duration(target_trace)"
   ]
  },
  {
   "cell_type": "code",
   "execution_count": 9,
   "id": "fa3d53c5-57ac-4040-b051-26cb66b288dd",
   "metadata": {},
   "outputs": [],
   "source": [
    "source_trace_labelled.to_pickle(\"../../Data/Trace/source_trace_all_l.pkl\")\n",
    "target_trace_labelled.to_pickle(\"../../Data/Trace/target_trace_all_l.pkl\")"
   ]
  }
 ],
 "metadata": {
  "kernelspec": {
   "display_name": "Python 3 (ipykernel)",
   "language": "python",
   "name": "python3"
  },
  "language_info": {
   "codemirror_mode": {
    "name": "ipython",
    "version": 3
   },
   "file_extension": ".py",
   "mimetype": "text/x-python",
   "name": "python",
   "nbconvert_exporter": "python",
   "pygments_lexer": "ipython3",
   "version": "3.8.18"
  }
 },
 "nbformat": 4,
 "nbformat_minor": 5
}
