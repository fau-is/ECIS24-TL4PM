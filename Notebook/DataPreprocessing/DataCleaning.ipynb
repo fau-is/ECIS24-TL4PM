{
 "cells": [
  {
   "cell_type": "markdown",
   "id": "5b0230dd-c85c-41c3-b537-8134c6c50aa8",
   "metadata": {},
   "source": [
    "# Data Cleaning"
   ]
  },
  {
   "cell_type": "code",
   "execution_count": 1,
   "id": "1f57aa20-2094-4f5a-8508-8bd2083815d9",
   "metadata": {},
   "outputs": [],
   "source": [
    "import pandas as pd\n",
    "import numpy as np\n",
    "import os\n",
    "import sys\n",
    "module_path = os.path.abspath(os.path.join('../..'))\n",
    "if module_path not in sys.path:\n",
    "    sys.path.append(module_path)\n",
    "import pickle as pickle"
   ]
  },
  {
   "cell_type": "markdown",
   "id": "6be49351-1fa4-41be-a79c-4068d103a01b",
   "metadata": {},
   "source": [
    "## Load trace data"
   ]
  },
  {
   "cell_type": "code",
   "execution_count": 2,
   "id": "9c9e04eb-cd68-4812-acfb-72c77558b66d",
   "metadata": {},
   "outputs": [],
   "source": [
    "source_trace = pd.read_pickle(\"../../Data/Trace/source_trace.pkl\")\n",
    "target_trace = pd.read_pickle(\"../../Data/Trace/target_trace.pkl\")"
   ]
  },
  {
   "cell_type": "markdown",
   "id": "6aaa601e-cf5b-4b1e-b6b4-11c6d0bae7fa",
   "metadata": {},
   "source": [
    "## Purge instant case"
   ]
  },
  {
   "cell_type": "code",
   "execution_count": 3,
   "id": "1d957ebe-2a87-475d-ac84-616b10332f35",
   "metadata": {},
   "outputs": [
    {
     "name": "stdout",
     "output_type": "stream",
     "text": [
      "Num cases before cleaning:  35214     76327\n",
      "Num cases after cleaning:  33316     75269\n"
     ]
    }
   ],
   "source": [
    "print(\"Num cases before cleaning: \", source_trace.shape[0], \"   \", target_trace.shape[0])\n",
    "source_trace = source_trace[source_trace[\"CaseDuration\"] > 0]\n",
    "target_trace = target_trace[target_trace[\"CaseDuration\"] > 0]\n",
    "print(\"Num cases after cleaning: \", source_trace.shape[0], \"   \", target_trace.shape[0])"
   ]
  },
  {
   "cell_type": "markdown",
   "id": "732f9d44-67ed-4f4e-8c22-5d2a91aead80",
   "metadata": {},
   "source": [
    "## Cut ultra long"
   ]
  },
  {
   "cell_type": "code",
   "execution_count": 4,
   "id": "eb20f56c-4c6d-4b65-88fa-bf61052c3bd1",
   "metadata": {},
   "outputs": [
    {
     "name": "stdout",
     "output_type": "stream",
     "text": [
      "Num cases before cleaning:  33316     75269\n",
      "Num cases after cleaning:  31650     71505\n"
     ]
    }
   ],
   "source": [
    "print(\"Num cases before cleaning: \", source_trace.shape[0], \"   \", target_trace.shape[0])\n",
    "source_trace_c1 = source_trace[source_trace[\"CaseDuration\"] < np.quantile(source_trace[\"CaseDuration\"].values, 0.95)]\n",
    "target_trace_c1 = target_trace[target_trace[\"CaseDuration\"] < np.quantile(target_trace[\"CaseDuration\"].values, 0.95)]\n",
    "print(\"Num cases after cleaning: \", source_trace_c1.shape[0], \"   \", target_trace_c1.shape[0])"
   ]
  },
  {
   "cell_type": "markdown",
   "id": "c7d89de1-3b82-4a5c-b7d5-a555cb19d352",
   "metadata": {},
   "source": [
    "## Cut unfinished"
   ]
  },
  {
   "cell_type": "code",
   "execution_count": 5,
   "id": "0cde3459-87e9-4c38-b275-c58217b040a0",
   "metadata": {},
   "outputs": [],
   "source": [
    "target_case_duration_90 = np.quantile(target_trace_c1[\"CaseDuration\"].values, 0.9)\n",
    "source_case_duration_90 = np.quantile(source_trace_c1[\"CaseDuration\"].values, 0.9)"
   ]
  },
  {
   "cell_type": "code",
   "execution_count": 6,
   "id": "86b69ff6-aa07-4716-a43d-e257c8c74631",
   "metadata": {},
   "outputs": [
    {
     "name": "stdout",
     "output_type": "stream",
     "text": [
      "Num cases before cleaning:  31650     71505\n",
      "Num cases before cleaning:  28607     56452\n"
     ]
    },
    {
     "name": "stderr",
     "output_type": "stream",
     "text": [
      "/tmp/ipykernel_21408/3575738785.py:2: SettingWithCopyWarning: \n",
      "A value is trying to be set on a copy of a slice from a DataFrame.\n",
      "Try using .loc[row_indexer,col_indexer] = value instead\n",
      "\n",
      "See the caveats in the documentation: https://pandas.pydata.org/pandas-docs/stable/user_guide/indexing.html#returning-a-view-versus-a-copy\n",
      "  target_trace_c1[\"EndTime\"] = target_trace_c1[\"Timestamp\"].apply(lambda x: x[-1])\n",
      "/tmp/ipykernel_21408/3575738785.py:4: SettingWithCopyWarning: \n",
      "A value is trying to be set on a copy of a slice from a DataFrame.\n",
      "Try using .loc[row_indexer,col_indexer] = value instead\n",
      "\n",
      "See the caveats in the documentation: https://pandas.pydata.org/pandas-docs/stable/user_guide/indexing.html#returning-a-view-versus-a-copy\n",
      "  target_trace_c1[\"LogSlack\"] = (log_end - target_trace_c1[\"Start Time\"]) / np.timedelta64(1, \"m\")\n",
      "/tmp/ipykernel_21408/3575738785.py:7: SettingWithCopyWarning: \n",
      "A value is trying to be set on a copy of a slice from a DataFrame.\n",
      "Try using .loc[row_indexer,col_indexer] = value instead\n",
      "\n",
      "See the caveats in the documentation: https://pandas.pydata.org/pandas-docs/stable/user_guide/indexing.html#returning-a-view-versus-a-copy\n",
      "  source_trace_c1[\"EndTime\"] = source_trace_c1[\"Timestamp\"].apply(lambda x: x[-1])\n",
      "/tmp/ipykernel_21408/3575738785.py:9: SettingWithCopyWarning: \n",
      "A value is trying to be set on a copy of a slice from a DataFrame.\n",
      "Try using .loc[row_indexer,col_indexer] = value instead\n",
      "\n",
      "See the caveats in the documentation: https://pandas.pydata.org/pandas-docs/stable/user_guide/indexing.html#returning-a-view-versus-a-copy\n",
      "  source_trace_c1[\"LogSlack\"] = (log_end - source_trace_c1[\"Start Time\"]) / np.timedelta64(1, \"m\")\n"
     ]
    }
   ],
   "source": [
    "print(\"Num cases before cleaning: \", source_trace_c1.shape[0], \"   \", target_trace_c1.shape[0])\n",
    "target_trace_c1[\"EndTime\"] = target_trace_c1[\"Timestamp\"].apply(lambda x: x[-1])\n",
    "log_end = target_trace_c1[\"EndTime\"].max()\n",
    "target_trace_c1[\"LogSlack\"] = (log_end - target_trace_c1[\"Start Time\"]) / np.timedelta64(1, \"m\")\n",
    "target_trace_c2 = target_trace_c1[target_trace_c1[\"LogSlack\"] > target_case_duration_90]\n",
    "\n",
    "source_trace_c1[\"EndTime\"] = source_trace_c1[\"Timestamp\"].apply(lambda x: x[-1])\n",
    "log_end = source_trace_c1[\"EndTime\"].max()\n",
    "source_trace_c1[\"LogSlack\"] = (log_end - source_trace_c1[\"Start Time\"]) / np.timedelta64(1, \"m\")\n",
    "source_trace_c2 = source_trace_c1[source_trace_c1[\"LogSlack\"] > source_case_duration_90]\n",
    "print(\"Num cases before cleaning: \", source_trace_c2.shape[0], \"   \", target_trace_c2.shape[0])"
   ]
  },
  {
   "cell_type": "code",
   "execution_count": 7,
   "id": "77a2bf36-687f-464e-8aee-37741619921a",
   "metadata": {},
   "outputs": [
    {
     "data": {
      "text/plain": [
       "75269"
      ]
     },
     "execution_count": 7,
     "metadata": {},
     "output_type": "execute_result"
    }
   ],
   "source": [
    "target_trace.shape[0]"
   ]
  },
  {
   "cell_type": "code",
   "execution_count": 9,
   "id": "accc0436-17ac-4183-b61c-75c7480a5d2c",
   "metadata": {},
   "outputs": [],
   "source": [
    "cut_ratio = 0.8\n",
    "source_trace = source_trace.iloc[: int(source_trace.shape[0] * 0.8)]\n",
    "target_trace = target_trace.iloc[: int(target_trace.shape[0] * 0.8)]"
   ]
  },
  {
   "cell_type": "markdown",
   "id": "df79e38e-a3a3-4d7f-a30c-49279bdf34f2",
   "metadata": {},
   "source": [
    "## Save cleaned trace data"
   ]
  },
  {
   "cell_type": "code",
   "execution_count": 10,
   "id": "9447a86a-f2b3-4b1a-8cb9-0eb8277285f0",
   "metadata": {},
   "outputs": [],
   "source": [
    "source_trace_c2.to_pickle(\"../../Data/Trace/source_trace_cleaned.pkl\")\n",
    "target_trace_c2.to_pickle(\"../../Data/Trace/target_trace_cleaned.pkl\")"
   ]
  }
 ],
 "metadata": {
  "kernelspec": {
   "display_name": "Python 3 (ipykernel)",
   "language": "python",
   "name": "python3"
  },
  "language_info": {
   "codemirror_mode": {
    "name": "ipython",
    "version": 3
   },
   "file_extension": ".py",
   "mimetype": "text/x-python",
   "name": "python",
   "nbconvert_exporter": "python",
   "pygments_lexer": "ipython3",
   "version": "3.8.18"
  }
 },
 "nbformat": 4,
 "nbformat_minor": 5
}
